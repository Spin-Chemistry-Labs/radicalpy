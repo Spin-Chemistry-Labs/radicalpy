{
  "cells": [
    {
      "cell_type": "markdown",
      "metadata": {
        "colab_type": "text",
        "id": "view-in-github"
      },
      "source": [
        "<a href=\"https://colab.research.google.com/github/Spin-Chemistry-Labs/radicalpy/blob/187-google-colab-tutorials/examples/tutorials/07_introduction_to_CIDNP.ipynb\" target=\"_parent\"><img src=\"https://colab.research.google.com/assets/colab-badge.svg\" alt=\"Open In Colab\"/></a>\n"
      ]
    },
    {
      "cell_type": "markdown",
      "metadata": {
        "colab_type": "text",
        "id": "-pVhOfzLx9us"
      },
      "source": [
        "# Tutorial 7 - Introduction to CIDNP and NMR\n",
        "\n"
      ]
    },
    {
      "cell_type": "markdown",
      "metadata": {},
      "source": [
        "&copy; Lewis M. Antill, 2025"
      ]
    },
    {
      "cell_type": "markdown",
      "metadata": {},
      "source": [
        "This tutorial aims to..."
      ]
    },
    {
      "cell_type": "code",
      "execution_count": null,
      "metadata": {},
      "outputs": [],
      "source": [
        "!pip install radicalpy"
      ]
    },
    {
      "cell_type": "code",
      "execution_count": 5,
      "metadata": {},
      "outputs": [],
      "source": [
        "import matplotlib.pyplot as plt\n",
        "import numpy as np\n",
        "\n",
        "from radicalpy.experiments import cidnp, nmr"
      ]
    },
    {
      "cell_type": "markdown",
      "metadata": {},
      "source": [
        "---\n",
        "\n",
        "### Nuclear Magnetic Resonance"
      ]
    },
    {
      "cell_type": "code",
      "execution_count": 6,
      "metadata": {},
      "outputs": [
        {
          "data": {
            "image/png": "[encoded data removed]",
            "text/plain": [
              "<Figure size 720x360 with 1 Axes>"
            ]
          },
          "metadata": {
            "needs_background": "light"
          },
          "output_type": "display_data"
        }
      ],
      "source": [
        "MULTIPLETS = [\n",
        "    (2.0, 800.0, 2, 0),  # 2 doublets @ 800 Hz\n",
        "    (2.0, 900.0, 2, 0),  # 2 doublets @ 900 Hz\n",
        "    (1.0, 2870.0, 2, 20),  # doublet @ 2870 Hz, J=20 Hz\n",
        "    (1.0, 2770.0, 2, 20),  # doublet @ 2770 Hz, J=20 Hz\n",
        "]\n",
        "SW_HZ = 4000.0  # spectral width (Hz)\n",
        "NP = 8000  # acquired points\n",
        "N_FFT = 16000  # zero-filled FFT length\n",
        "TRANS_MHZ = 500.0  # transmitter frequency (MHz)\n",
        "CARRIER_PPM = 4.7  # carrier position (ppm)\n",
        "LINEWIDTH_HZ = 2.0  # Lorentzian linewidth (Hz)\n",
        "SCALE = 1.0  # final y-scale\n",
        "\n",
        "ppm, spectrum = nmr(\n",
        "    multiplets=MULTIPLETS,\n",
        "    spectral_width=SW_HZ,\n",
        "    number_of_points=NP,\n",
        "    fft_number=N_FFT,\n",
        "    transmitter_frequency=TRANS_MHZ,\n",
        "    carrier_position=CARRIER_PPM,\n",
        "    linewidth=LINEWIDTH_HZ,\n",
        "    scale=SCALE,\n",
        ")\n",
        "\n",
        "plt.plot(ppm, spectrum.real)\n",
        "plt.gca().invert_xaxis()\n",
        "plt.xlabel(\"ppm\", size=8)\n",
        "plt.tick_params(labelsize=8)\n",
        "plt.gcf().set_size_inches(10, 5)\n",
        "plt.show()"
      ]
    },
    {
      "cell_type": "markdown",
      "metadata": {},
      "source": [
        "---\n",
        "\n",
        "### Chemically Induced Dynamic Nuclear Polarisation"
      ]
    },
    {
      "cell_type": "code",
      "execution_count": 7,
      "metadata": {},
      "outputs": [
        {
          "data": {
            "image/png": "[encoded data removed]",
            "text/plain": [
              "<Figure size 360x216 with 1 Axes>"
            ]
          },
          "metadata": {
            "needs_background": "light"
          },
          "output_type": "display_data"
        }
      ],
      "source": [
        "Bmax=20.0\n",
        "dB=100\n",
        "deltag = 2.0041 - 2.0036\n",
        "Bs = np.linspace(0.0, Bmax, dB)\n",
        "ks = 5e8  # s^-1\n",
        "alpha = 1.5\n",
        "model = \"c\"\n",
        "donor_hfcs_spinhalf = [0.15, -0.65, -0.65, 0.15, 0.77]\n",
        "acceptor_hfcs_spinhalf = [0.390, -0.769, -0.17, 0.24]\n",
        "donor_hfcs_spin1 = []\n",
        "acceptor_hfcs_spin1 = []\n",
        "\n",
        "for i in range(1, 6):\n",
        "    B0, p = cidnp(\n",
        "        B0=Bs,\n",
        "        deltag=deltag,\n",
        "        cidnp_model=model,\n",
        "        ks=ks,\n",
        "        alpha=alpha,\n",
        "        nucleus_of_interest=i,\n",
        "        donor_hfc_spinhalf=donor_hfcs_spinhalf,\n",
        "        acceptor_hfc_spinhalf=acceptor_hfcs_spinhalf,\n",
        "        donor_hfc_spin1=donor_hfcs_spin1,\n",
        "        acceptor_hfc_spin1=acceptor_hfcs_spin1,\n",
        "    )\n",
        "    plt.plot(B0, p)\n",
        "\n",
        "plt.xlabel(\"$B_0$ /T\", size=8)\n",
        "plt.ylabel(\"CIDNP Intensity\", size=8)\n",
        "plt.tick_params(labelsize=8)\n",
        "plt.gcf().set_size_inches(5, 3)\n",
        "plt.show()"
      ]
    },
    {
      "cell_type": "code",
      "execution_count": null,
      "metadata": {},
      "outputs": [],
      "source": []
    }
  ],
  "metadata": {
    "colab": {
      "collapsed_sections": [],
      "name": "colab-github-demo.ipynb",
      "provenance": [],
      "version": "0.3.2"
    },
    "kernelspec": {
      "display_name": "Python 3",
      "name": "python3"
    },
    "language_info": {
      "codemirror_mode": {
        "name": "ipython",
        "version": 3
      },
      "file_extension": ".py",
      "mimetype": "text/x-python",
      "name": "python",
      "nbconvert_exporter": "python",
      "pygments_lexer": "ipython3",
      "version": "3.10.2"
    }
  },
  "nbformat": 4,
  "nbformat_minor": 0
}
