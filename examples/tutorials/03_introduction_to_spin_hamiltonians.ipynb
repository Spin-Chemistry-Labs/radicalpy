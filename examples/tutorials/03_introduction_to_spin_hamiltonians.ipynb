{
  "cells": [
    {
      "cell_type": "markdown",
      "metadata": {
        "colab_type": "text",
        "id": "view-in-github"
      },
      "source": [
        "<a href=\"https://colab.research.google.com/github/Spin-Chemistry-Labs/radicalpy/blob/187-google-colab-tutorials/examples/tutorials/03_introduction_to_spin_hamiltonians.ipynb\" target=\"_parent\"><img src=\"https://colab.research.google.com/assets/colab-badge.svg\" alt=\"Open In Colab\"/></a>\n"
      ]
    },
    {
      "cell_type": "markdown",
      "metadata": {
        "colab_type": "text",
        "id": "-pVhOfzLx9us"
      },
      "source": [
        "# Tutorial 3 - Introduction to spin Hamiltonians\n",
        "\n"
      ]
    },
    {
      "cell_type": "markdown",
      "metadata": {},
      "source": [
        "&copy; Lewis M. Antill, 2025"
      ]
    },
    {
      "cell_type": "markdown",
      "metadata": {},
      "source": [
        "This tutorial aims to introduce the key concepts of [radical pairs](https://en.wikipedia.org/wiki/Spin_chemistry), [Kronecker products](https://en.wikipedia.org/wiki/Kronecker_product), product operators, [eigenvalues and eigenvectors](https://en.wikipedia.org/wiki/Eigenvalues_and_eigenvectors), and [Larmor precession](https://en.wikipedia.org/wiki/Larmor_precession)."
      ]
    },
    {
      "cell_type": "code",
      "execution_count": null,
      "metadata": {},
      "outputs": [],
      "source": [
        "!pip install radicalpy"
      ]
    },
    {
      "cell_type": "code",
      "execution_count": 2,
      "metadata": {},
      "outputs": [],
      "source": [
        "import ipywidgets as wdg\n",
        "import matplotlib.pyplot as plt\n",
        "import numpy as np\n",
        "import radicalpy as rp\n",
        "import sympy as smp"
      ]
    },
    {
      "cell_type": "markdown",
      "metadata": {},
      "source": [
        "---\n",
        "    \n",
        "### Combining two spin-1/2 particles"
      ]
    },
    {
      "cell_type": "markdown",
      "metadata": {},
      "source": [
        "Radical pairs are two paired electrons (as the name suggests). Two electrons can be paired in the following ways,\n",
        "\n",
        "$$\n",
        "\\begin{aligned}\n",
        "\\color{green}{S_A} &= \\frac{1}{2}, \\,\\color{blue}{S_B} = \\frac{1}{2} \\\\\n",
        "S_{tot} &= \\color{green}{S_A} - \\color{blue}{S_B} = \\color{orange}{0} \\\\\n",
        "&= \\color{green}{S_A} + \\color{blue}{S_B} = \\color{purple}{1}\n",
        "\\end{aligned}\n",
        "$$\n",
        "\n",
        "When $S_{tot} = \\color{orange}{0}$, the two electrons are antiparallel (**one** <font color='magenta'>spin up</font> and **one** <font color='red'>spin down</font>), therefore spin allowed and in a <font color='orange'>singlet state</font> ([link](https://en.wikipedia.org/wiki/Singlet_state)). For $S_{tot} = \\color{purple}{1}$, the two electrons are parallel (**both** are either <font color='magenta'>spin up</font> or <font color='red'>spin down</font>) and are now in a <font color='purple'>triplet state</font> ([link](https://en.wikipedia.org/wiki/Triplet_state))."
      ]
    },
    {
      "cell_type": "markdown",
      "metadata": {},
      "source": [
        "---\n",
        "\n",
        "### Spin operators"
      ]
    },
    {
      "cell_type": "markdown",
      "metadata": {},
      "source": [
        "Spin states for electron one are $\\color{green}{|\\alpha_1⟩}\\color{green}{|\\beta_1⟩}$ and are eigenfunctions of $\\color{green}{|\\hat{S}_{Az}⟩}$, and for electron two we have $\\color{blue}{|\\alpha_2⟩}\\color{blue}{|\\beta_2⟩}$ and are eigenfunctions of $\\color{blue}{|\\hat{S}_{Bz}⟩}$. For a radical pair, it is clear that there are four eigenfunctions $\\color{green}{|\\alpha_1⟩}$, $\\color{green}{|\\beta_1⟩}$, $\\color{blue}{|\\alpha_2⟩}$, and $\\color{blue}{|\\beta_2⟩}$, from which there are four possible [ket](https://en.wikipedia.org/wiki/Bra%E2%80%93ket_notation) combinations and are known as the product states,\n",
        "\n",
        "$$\n",
        "\\begin{aligned}\n",
        "&\\color{green}{|\\alpha_1⟩}\\color{blue}{|\\alpha_2⟩} = |\\alpha_1\\alpha_2⟩ \\\\\n",
        "&\\color{green}{|\\alpha_1⟩}\\color{blue}{|\\beta_2⟩} = |\\alpha_1\\beta_2⟩ \\\\\n",
        "&\\color{green}{|\\beta_1⟩}\\color{blue}{|\\alpha_2⟩} = |\\beta_1\\alpha_2⟩ \\\\\n",
        "&\\color{green}{|\\beta_1⟩}\\color{blue}{|\\beta_2⟩} = |\\beta_1\\beta_2⟩ \n",
        "\\end{aligned}\n",
        "$$\n",
        "\n",
        "Now we would like to form two separate spin operators for electron one and electron two. We can form spin operators using the Pauli matrices that we introduced in tutorial 1. The spin operators can be created by taking the Kronecker product of one of the Pauli matrices with the identity matrix ($\\hat{I}$), \n",
        "\n",
        "$$\n",
        "\\begin{aligned}\n",
        "&\\color{green}{|\\hat{S}_{Az}⟩} = \\color{green}{|\\hat{\\sigma}_{Az}⟩}⊗|\\hat{I}⟩ \\\\\n",
        "&\\color{blue}{|\\hat{S}_{Bz}⟩} = |\\hat{I}⟩⊗\\color{blue}{|\\hat{\\sigma}_{Bz}⟩}\n",
        "\\end{aligned}\n",
        "$$\n",
        "\n",
        "Now let's calculate these with RadicalPy."
      ]
    },
    {
      "cell_type": "code",
      "execution_count": 3,
      "metadata": {},
      "outputs": [
        {
          "name": "stdout",
          "output_type": "stream",
          "text": [
            "Number of electrons: 2\n",
            "Number of nuclei: 0\n",
            "Number of particles: 2\n",
            "Multiplicities: [2, 2]\n",
            "Magnetogyric ratios (mT): [-176085963.023, -176085963.023]\n",
            "Nuclei: []\n",
            "Couplings: []\n",
            "HFCs (mT): []\n"
          ]
        }
      ],
      "source": [
        "r1 = rp.simulation.Molecule(\"radical 1\")\n",
        "r2 = rp.simulation.Molecule(\"radical 2\")\n",
        "basis = rp.simulation.Basis.ZEEMAN\n",
        "sim = rp.simulation.HilbertSimulation([r1, r2], basis=basis)\n",
        "print(sim)"
      ]
    },
    {
      "cell_type": "code",
      "execution_count": 4,
      "metadata": {},
      "outputs": [
        {
          "data": {
            "text/latex": [
              "$\\displaystyle \\left[\\begin{matrix}0.5 & 0.0 & 0.0 & 0.0\\\\0.0 & 0.5 & 0.0 & 0.0\\\\0.0 & 0.0 & -0.5 & 0.0\\\\0.0 & 0.0 & 0.0 & -0.5\\end{matrix}\\right]$"
            ],
            "text/plain": [
              "[[0.5, 0.0, 0.0, 0.0], [0.0, 0.5, 0.0, 0.0], [0.0, 0.0, -0.5, 0.0], [0.0, 0.0, 0.0, -0.5]]"
            ]
          },
          "execution_count": 4,
          "metadata": {},
          "output_type": "execute_result"
        }
      ],
      "source": [
        "SAz = sim.spin_operator(0, \"z\")\n",
        "smp.Array(SAz)"
      ]
    },
    {
      "cell_type": "code",
      "execution_count": 5,
      "metadata": {},
      "outputs": [
        {
          "data": {
            "text/latex": [
              "$\\displaystyle \\left[\\begin{matrix}0.5 & 0.0 & 0.0 & 0.0\\\\0.0 & -0.5 & 0.0 & 0.0\\\\0.0 & 0.0 & 0.5 & 0.0\\\\0.0 & 0.0 & 0.0 & -0.5\\end{matrix}\\right]$"
            ],
            "text/plain": [
              "[[0.5, 0.0, 0.0, 0.0], [0.0, -0.5, 0.0, 0.0], [0.0, 0.0, 0.5, 0.0], [0.0, 0.0, 0.0, -0.5]]"
            ]
          },
          "execution_count": 5,
          "metadata": {},
          "output_type": "execute_result"
        }
      ],
      "source": [
        "SBz = sim.spin_operator(1, \"z\")\n",
        "smp.Array(SBz)"
      ]
    },
    {
      "cell_type": "markdown",
      "metadata": {},
      "source": [
        "---\n",
        "\n",
        "### Product operators"
      ]
    },
    {
      "cell_type": "markdown",
      "metadata": {},
      "source": [
        "Now that we can create spin operators, we can move on to the next step and combine the two electrons producing product operators. The product of the total electron spin (one and two) operators can be calculated by the following,\n",
        "\n",
        "$$\n",
        "\\color{green}{\\hat{S}_A}\\color{blue}{\\hat{S}_B} = (\\color{green}{S_{Ax}}\\color{blue}{S_{Bx}}+\\color{green}{S_{Ay}}\\color{blue}{S_{By}}+\\color{green}{S_{Az}}\\color{blue}{S_{Bz}})\n",
        "$$\n",
        "\n",
        "Which gives,\n",
        "\n",
        "$$\n",
        "\\color{green}{\\hat{S}_A}\\color{blue}{\\hat{S}_B} = \\frac{\\hbar^2}{4}\\begin{bmatrix} 1 & 0 & 0 & 0 \\\\ 0 & -1 & 2 & 0 \\\\ 0 & 2 & -1 & 0 \\\\ 0 & 0 & 0 & 1\\end{bmatrix}\n",
        "$$"
      ]
    },
    {
      "cell_type": "markdown",
      "metadata": {},
      "source": [
        "We can calculate this in Python using the following expression (the `@` symbol is the [dot product](https://en.wikipedia.org/wiki/Dot_product) operator),"
      ]
    },
    {
      "cell_type": "code",
      "execution_count": 6,
      "metadata": {},
      "outputs": [
        {
          "data": {
            "text/latex": [
              "$\\displaystyle \\left[\\begin{matrix}0.25 & 0.0 & 0.0 & 0.0\\\\0.0 & -0.25 & 0.5 & 0.0\\\\0.0 & 0.5 & -0.25 & 0.0\\\\0.0 & 0.0 & 0.0 & 0.25\\end{matrix}\\right]$"
            ],
            "text/plain": [
              "[[0.25, 0.0, 0.0, 0.0], [0.0, -0.25, 0.5, 0.0], [0.0, 0.5, -0.25, 0.0], [0.0, 0.0, 0.0, 0.25]]"
            ]
          },
          "execution_count": 6,
          "metadata": {},
          "output_type": "execute_result"
        }
      ],
      "source": [
        "SASB = sim.product_operator(0, 1)\n",
        "smp.Array(np.real(SASB))"
      ]
    },
    {
      "cell_type": "markdown",
      "metadata": {},
      "source": [
        "We can now calculate the energies and states of the radical pair by acquiring the eigenvalues `E` (energies) and eigenvectors `V` (states)."
      ]
    },
    {
      "cell_type": "markdown",
      "metadata": {},
      "source": [
        "---\n",
        "\n",
        "### Eigenvectors and eigenvalues - zero field"
      ]
    },
    {
      "cell_type": "code",
      "execution_count": 7,
      "metadata": {},
      "outputs": [
        {
          "data": {
            "text/latex": [
              "$\\displaystyle \\left[\\begin{matrix}-0.75 & 0.25 & 0.25 & 0.25\\end{matrix}\\right]$"
            ],
            "text/plain": [
              "[-0.75, 0.25, 0.25, 0.25]"
            ]
          },
          "execution_count": 7,
          "metadata": {},
          "output_type": "execute_result"
        }
      ],
      "source": [
        "E, V = np.linalg.eigh(SASB)\n",
        "smp.Array(E)"
      ]
    },
    {
      "cell_type": "code",
      "execution_count": 8,
      "metadata": {},
      "outputs": [
        {
          "data": {
            "text/latex": [
              "$\\displaystyle \\left[\\begin{matrix}0.0 & 1.0 & 0.0 & 0.0\\\\0.707106781186547 & 0.0 & 0.707106781186547 & 0.0\\\\-0.707106781186547 & 0.0 & 0.707106781186547 & 0.0\\\\0.0 & 0.0 & 0.0 & 1.0\\end{matrix}\\right]$"
            ],
            "text/plain": [
              "[[0.0, 1.0, 0.0, 0.0], [0.707106781186547, 0.0, 0.707106781186547, 0.0], [-0.707106781186547, 0.0, 0.707106781186547, 0.0], [0.0, 0.0, 0.0, 1.0]]"
            ]
          },
          "execution_count": 8,
          "metadata": {},
          "output_type": "execute_result"
        }
      ],
      "source": [
        "smp.Array(np.real(V))"
      ]
    },
    {
      "cell_type": "markdown",
      "metadata": {},
      "source": [
        "We just calculated the eigenvalues and eigenvectors for a radical pair via computational methods. Let's try and do it the old fashioned way!\n",
        "\n",
        "The Hamiltonian for the H-atom is given by,\n",
        "\n",
        "$$\n",
        "\\hat{H}_{hyper} = a \\,\\mathbf{\\hat{s}} \\bullet \\mathbf{\\hat{i}} = \\frac{a}{4}\\hat{\\Omega},\n",
        "$$\n",
        "\n",
        "where \n",
        "\n",
        "$$\n",
        "\\hat{\\Omega} = \\begin{bmatrix} 1 & 0 & 0 & 0 \\\\ 0 & -1 & 2 & 0 \\\\ 0 & 2 & -1 & 0 \\\\ 0 & 0 & 0 & 1 \\end{bmatrix}\n",
        "$$\n",
        "\n",
        "* Spin state $\\color{red}{|1\\rangle}$:\n",
        "\n",
        "$$\n",
        "\\hat{\\Omega} = \\begin{bmatrix} \\color{red}{1} & \\color{red}{0} & \\color{red}{0} & \\color{red}{0} \\\\ \\color{red}{0} & -1 & 2 & 0 \\\\ \\color{red}{0} & 2 & -1 & 0 \\\\ \\color{red}{0} & 0 & 0 & 1 \\end{bmatrix}\n",
        "$$\n",
        "\n",
        "Already an eigenvector\n",
        "\n",
        "Eigenvector: $\\color{red}{|1\\rangle} = \\color{red}{|\\alpha_s\\rangle|\\alpha_i\\rangle}$\n",
        "\n",
        "Eigenvalue: $\\color{red}{E_1} = \\color{red}{\\frac{a}{4}}$\n",
        "\n",
        "---\n",
        "\n",
        "* Spin state $\\color{blue}{|4\\rangle}$:\n",
        "\n",
        "$$\n",
        "\\hat{\\Omega} = \\begin{bmatrix} 1 & 0 & 0 & \\color{blue}{0} \\\\ 0 & -1 & 2 & \\color{blue}{0} \\\\ 0 & 2 & -1 & \\color{blue}{0} \\\\ \\color{blue}{0} & \\color{blue}{0} & \\color{blue}{0} & \\color{blue}{1} \\end{bmatrix}\n",
        "$$\n",
        "\n",
        "Already an eigenvector\n",
        "\n",
        "Eigenvector: $\\color{blue}{|4\\rangle} = \\color{blue}{|\\beta_s\\rangle|\\beta_i\\rangle}$\n",
        "\n",
        "Eigenvalue: $\\color{blue}{E_4} = \\color{blue}{\\frac{a}{4}}$\n",
        "\n",
        "---\n",
        "\n",
        "* Spin states $\\color{orange}{|2\\rangle}$ and $\\color{orange}{|3\\rangle}$:\n",
        "\n",
        "$$\n",
        "\\hat{\\Omega} = \\begin{bmatrix} 1 & 0 & 0 & 0 \\\\ 0 & \\color{orange}{-1} & \\color{orange}{2} & 0 \\\\ 0 & \\color{orange}{2} & \\color{orange}{-1} & 0 \\\\ 0 & 0 & 0 & 1 \\end{bmatrix}\n",
        "$$\n",
        "\n",
        "Not an eigenvector, therefore, we need to solve for eignevectors and eigenvalues. For any operator,\n",
        "\n",
        "$$\n",
        "\\hat{\\Omega}|\\psi\\rangle = \\omega|\\psi\\rangle,\n",
        "$$\n",
        "\n",
        "then we introduce the identity (unit) vector, giving,\n",
        "\n",
        "$$\n",
        "\\hat{\\Omega}|\\psi\\rangle = \\omega \\hat{I}|\\psi\\rangle \\\\\n",
        "\\hat{\\Omega}|\\psi\\rangle - \\omega \\hat{I}|\\psi\\rangle = 0 \\\\\n",
        "(\\hat{\\Omega} - \\omega \\hat{I})|\\psi\\rangle = 0 \\\\\n",
        "det(\\hat{\\Omega} - \\omega \\hat{I}) = 0\n",
        "$$\n",
        "\n",
        "From this we can find the eigenvectors and eigenvalues for spin states $\\color{orange}{|2\\rangle}$ and $\\color{orange}{|3\\rangle}$. Our new matrices are,\n",
        "\n",
        "$$\n",
        "\\hat{\\Omega} = \\begin{bmatrix} -1 & 2 \\\\ 2 & -1 \\end{bmatrix}, \\,\\,\n",
        "\\hat{I} = \\begin{bmatrix} 1 & 0 \\\\ 0 & 1 \\end{bmatrix}, \\,\\,\n",
        "\\omega \\hat{I} = \\begin{bmatrix} \\omega & 0 \\\\ 0 & \\omega \\end{bmatrix}\n",
        "$$\n",
        "\n",
        "Giving,\n",
        "\n",
        "$$\n",
        "\\hat{\\Omega} - \\omega \\hat{I} = \\begin{bmatrix} -1 & 2 \\\\ 2 & -1 \\end{bmatrix} - \\begin{bmatrix} \\omega & 0 \\\\ 0 & \\omega \\end{bmatrix} = \\begin{bmatrix} -1-\\omega & 2 \\\\ 2 & -1-\\omega \\end{bmatrix}\n",
        "$$\n",
        "\n",
        "Therefore,\n",
        "\n",
        "$$\n",
        "\\begin{aligned}\n",
        "det(\\hat{\\Omega} - \\omega \\hat{I}) &= (-1-\\omega)^2 - 4 \\\\\n",
        "&= 1 + 2\\omega + \\omega^2 -4 \\\\\n",
        "&= \\omega^2 + 2\\omega - 3 \\\\\n",
        "&= (\\omega + 3) (\\omega - 1)\n",
        "\\end{aligned}\n",
        "$$\n",
        "\n",
        "The roots of this equation $\\omega = 1$ or $-3$ are the eigenvalues.\n",
        "\n",
        "$$\n",
        "(\\hat{\\Omega} - \\omega \\hat{I})|\\psi\\rangle = \n",
        "\\begin{bmatrix}\n",
        "-1-\\omega & 2 \\\\ \n",
        "2 & -1-\\omega \n",
        "\\end{bmatrix}\\begin{bmatrix} a \\\\ b \\end{bmatrix} = 0\n",
        "$$\n",
        "\n",
        "Where $\\omega = 1$,\n",
        "\n",
        "$$\n",
        "\\begin{bmatrix} -2a + 2b \\\\ 2a - 2b \\end{bmatrix} =\n",
        "\\begin{bmatrix} 0 \\\\ 0 \\end{bmatrix} \\implies\n",
        "a = b\n",
        "$$\n",
        "\n",
        "After normalising, we obtain,\n",
        "\n",
        "$$\n",
        "\\begin{bmatrix} a \\\\ b \\end{bmatrix} = \\frac{1}{\\sqrt{2}}\\begin{bmatrix} 1 \\\\ 1 \\end{bmatrix}\n",
        "$$\n",
        "\n",
        "Eigenvector: $\\color{orange}{|2\\rangle} = \\color{orange}{\\frac{1}{\\sqrt{2}}\\big(|\\alpha_s\\rangle|\\beta_i\\rangle + |\\beta_s\\rangle|\\alpha_i\\rangle\\big)}$\n",
        "\n",
        "Eigenvalue: $\\color{orange}{E_2} = \\color{orange}{\\frac{a}{4}}$\n",
        "\n",
        "---\n",
        "\n",
        "Now when $\\omega = -3$,\n",
        "\n",
        "$$\n",
        "\\begin{bmatrix} 2a + 2b \\\\ 2a + 2b \\end{bmatrix} =\n",
        "\\begin{bmatrix} 0 \\\\ 0 \\end{bmatrix} \\implies\n",
        "a = -b\n",
        "$$\n",
        "\n",
        "After normalising, we obtain,\n",
        "\n",
        "$$\n",
        "\\begin{bmatrix} a \\\\ -b \\end{bmatrix} = \\frac{1}{\\sqrt{2}}\\begin{bmatrix} 1 \\\\ -1 \\end{bmatrix}\n",
        "$$\n",
        "\n",
        "Eigenvector: $\\color{orange}{|3\\rangle} = \\color{orange}{\\frac{1}{\\sqrt{2}}\\big(|\\alpha_s\\rangle|\\beta_i\\rangle - |\\beta_s\\rangle|\\alpha_i\\rangle\\big)}$\n",
        "\n",
        "Eigenvalue: $\\color{orange}{E_3} = \\color{orange}{-\\frac{3a}{4}}$\n",
        "\n",
        "The above eigenvectors and eigenvalues are the zero field spin eigenstates of the hydrogen atom."
      ]
    },
    {
      "cell_type": "markdown",
      "metadata": {},
      "source": [
        "Now let's look at the above eigenvalues and eigenvectors for the radical pair. The eigenvector matrix `V` represents the four different states of the radical pair, where columns one, two, three, and four are $\\color{orange}{|S⟩}$, $\\color{purple}{|T_+⟩}$, $\\color{purple}{|T_0⟩}$, and $\\color{purple}{|T_-⟩}$, respectively. Additionally, rows one, two, three, and four are $\\color{green}{|\\alpha_1⟩}\\color{blue}{|\\alpha_2⟩}$, $\\color{green}{|\\alpha_1⟩}\\color{blue}{|\\beta_2⟩}$, $\\color{green}{|\\beta_1⟩}\\color{blue}{|\\alpha_2⟩}$, and $\\color{green}{|\\beta_1⟩}\\color{blue}{|\\beta_2⟩}$, respectively. The states are given by,\n",
        "\n",
        "$$\n",
        "\\begin{aligned}\n",
        "&\\color{orange}{|S⟩} = \\frac{1}{\\sqrt{2}}(\\color{green}{|\\alpha_1⟩}\\color{blue}{|\\beta_2⟩}-\\color{green}{|\\beta_1⟩}\\color{blue}{|\\alpha_2⟩}) \\\\\n",
        "&\\color{purple}{|T_+⟩} = \\color{green}{|\\alpha_1⟩}\\color{blue}{|\\alpha_2⟩}) \\\\\n",
        "&\\color{purple}{|T_0⟩} = \\frac{1}{\\sqrt{2}}(\\color{green}{|\\alpha_1⟩}\\color{blue}{|\\beta_2⟩}+\\color{blue}{|\\beta_1⟩}\\color{green}{|\\alpha_2⟩}) \\\\\n",
        "&\\color{purple}{|T_-⟩} = \\color{green}{|\\beta_1⟩}\\color{blue}{|\\beta_2⟩})\n",
        "\\end{aligned}\n",
        "$$\n",
        "\n",
        "The eigenvalue vector `E` represents the energies of the <font color='orange'>singlet state</font> at $-0.75$ or E = $-\\frac{3}{4}$ and the three [degenerate](https://en.wikipedia.org/wiki/Degenerate_energy_levels) <font color='purple'>triplet states</font> each with a higher energy of $0.25$ or E = $\\frac{1}{4}$."
      ]
    },
    {
      "cell_type": "markdown",
      "metadata": {},
      "source": [
        "---\n",
        "\n",
        "### Coupled basis vs product basis"
      ]
    },
    {
      "cell_type": "markdown",
      "metadata": {},
      "source": [
        "Coupled spin basis vectors are linear combinations of product basis vectors. In the uncoupled states there are two distinct quantum states of two spins, *e.g.*, four combinations of $|\\alpha⟩$ and $|\\beta⟩$ states of each particle. Information is neither lost nor gained for each representation, or in other words the two bases are equivalent.\n",
        "\n",
        "<table class='table table-striped'> \n",
        "    <thead> \n",
        "        <tr> \n",
        "            <th scope=\"col\">Coupled basis</th> \n",
        "            <th scope=\"col\">Product basis</th> \n",
        "            <th scope=\"col\">$|S, m_s⟩$</th> \n",
        "        </tr> \n",
        "    </thead> \n",
        "    <tbody> \n",
        "        <tr> \n",
        "            <th scope='row'>$\\color{orange}{|S⟩}$</th> \n",
        "            <td>$\\frac{1}{\\sqrt{2}}(\\color{green}{|\\alpha_1⟩}\\color{blue}{|\\beta_2⟩}-\\color{green}{|\\beta_1⟩}\\color{blue}{|\\alpha_2⟩})$</td> \n",
        "            <td>$|0, 0⟩$</td> \n",
        "        </tr> \n",
        "        <tr> \n",
        "            <th scope='row'>$\\color{purple}{|T_+⟩}$</th> \n",
        "            <td>$\\color{green}{|\\alpha_1⟩}\\color{blue}{|\\alpha_2⟩}$</td> \n",
        "            <td>$|1, +1⟩$</td> \n",
        "        </tr> \n",
        "        <tr> \n",
        "            <th scope='row'>$\\color{purple}{|T_0⟩}$</th> \n",
        "            <td>$\\frac{1}{\\sqrt{2}}(\\color{green}{|\\alpha_1⟩}\\color{blue}{|\\beta_2⟩}+\\color{blue}{|\\beta_1⟩}\\color{green}{|\\alpha_2⟩})$</td> \n",
        "            <td>$|1, 0⟩$</td> \n",
        "        </tr> \n",
        "        <tr> \n",
        "            <th scope='row'>$\\color{purple}{|T_-⟩}$</th> \n",
        "            <td>$\\color{green}{|\\beta_1⟩}\\color{blue}{|\\beta_2⟩}$</td> \n",
        "            <td>$|1, -1⟩$</td>\n",
        "        </tr> \n",
        "        <tr> \n",
        "        </tr> \n",
        "    </tbody> \n",
        "</table>\n",
        "\n",
        "* Coupled basis = ST basis\n",
        "* Product basis = Zeeman basis = $\\alpha \\,/ \\,\\beta$ basis"
      ]
    },
    {
      "cell_type": "markdown",
      "metadata": {},
      "source": [
        "---\n",
        "\n",
        "### Converting to coupled basis"
      ]
    },
    {
      "cell_type": "code",
      "execution_count": 9,
      "metadata": {},
      "outputs": [],
      "source": [
        "SAz_ST = rp.simulation.HilbertSimulation.ST_basis(sim, SAz)\n",
        "SBz_ST = rp.simulation.HilbertSimulation.ST_basis(sim, SBz)"
      ]
    },
    {
      "cell_type": "code",
      "execution_count": 10,
      "metadata": {},
      "outputs": [
        {
          "data": {
            "text/latex": [
              "$\\displaystyle \\left[\\begin{matrix}0.5 & 0.0 & 0.0 & 0.0\\\\0.0 & 0.0 & -0.5 & 0.0\\\\0.0 & -0.5 & 0.0 & 0.0\\\\0.0 & 0.0 & 0.0 & -0.5\\end{matrix}\\right]$"
            ],
            "text/plain": [
              "[[0.5, 0.0, 0.0, 0.0], [0.0, 0.0, -0.5, 0.0], [0.0, -0.5, 0.0, 0.0], [0.0, 0.0, 0.0, -0.5]]"
            ]
          },
          "execution_count": 10,
          "metadata": {},
          "output_type": "execute_result"
        }
      ],
      "source": [
        "smp.Array(SAz_ST.round(2))"
      ]
    },
    {
      "cell_type": "code",
      "execution_count": 11,
      "metadata": {},
      "outputs": [
        {
          "data": {
            "text/latex": [
              "$\\displaystyle \\left[\\begin{matrix}0.5 & 0.0 & 0.0 & 0.0\\\\0.0 & 0.5 & 0.0 & 0.0\\\\0.0 & 0.0 & -0.5 & 0.0\\\\0.0 & 0.0 & 0.0 & -0.5\\end{matrix}\\right]$"
            ],
            "text/plain": [
              "[[0.5, 0.0, 0.0, 0.0], [0.0, 0.5, 0.0, 0.0], [0.0, 0.0, -0.5, 0.0], [0.0, 0.0, 0.0, -0.5]]"
            ]
          },
          "execution_count": 11,
          "metadata": {},
          "output_type": "execute_result"
        }
      ],
      "source": [
        "smp.Array(SAz)"
      ]
    },
    {
      "cell_type": "markdown",
      "metadata": {},
      "source": [
        "---\n",
        "\n",
        "### Larmor frequency"
      ]
    },
    {
      "cell_type": "markdown",
      "metadata": {},
      "source": [
        "The electron spin magnetic moment [precesses](https://en.wikipedia.org/wiki/Precession) about an applied magnetic field ($B_0$). The [Larmor frequency](http://hyperphysics.phy-astr.gsu.edu/hbase/Nuclear/larmor.html) depends on g-values and [hyperfine states](https://en.wikipedia.org/wiki/Hyperfine_structure), where differences drive <font color='orange'>singlet</font>-<font color='purple'>triplet</font> mixing (<font color='orange'>S</font><font color='purple'>T</font>-mixing) (this will be discussed in the following tutorial). The Larmor frequency is given by,\n",
        "\n",
        "$$\n",
        "\\omega = \\frac{g \\mu_B B_{local}}{\\hbar}\n",
        "$$\n",
        "\n",
        "Where $g$ is dependent on the radical and $B_{local}$ is hyperfine dependent. The Larmor frequency of the four states of the radical pair can be represented with a vector model. Where the arrows of the <font color='orange'>singlet state</font> are pointing in the opposite direction (antiparallel) and those of <font color='purple'>triplet states</font> are pointing in the same direction (parallel)."
      ]
    },
    {
      "cell_type": "markdown",
      "metadata": {},
      "source": [
        "# &emsp;&emsp;&emsp;&emsp;&nbsp;&nbsp; <font color='orange'>$|S⟩$</font> &emsp;&emsp;&emsp;&emsp;&emsp;&emsp;&nbsp;&nbsp; <font color='purple'>$|T_+⟩$</font> &emsp;&emsp;&emsp;&emsp;&emsp;&emsp;&nbsp;&nbsp; <font color='purple'>$|T_0⟩$</font>  &emsp;&emsp;&emsp;&emsp;&emsp;&emsp; <font color='purple'>$|T_-⟩$</font> "
      ]
    },
    {
      "cell_type": "markdown",
      "metadata": {},
      "source": [
        "<img src=\"figures/Z-arrow.png\" width=\"30\" height=\"157\" align=\"left\"/>\n",
        "<img src=\"figures/S.gif\" width=\"235\" align=\"left\"/>\n",
        "<img src=\"figures/T+.gif\" width=\"235\" align=\"left\"/>\n",
        "<img src=\"figures/T0.gif\" width=\"235\" align=\"left\"/>\n",
        "<img src=\"figures/T-.gif\" width=\"235\" align=\"left\"/>"
      ]
    },
    {
      "cell_type": "markdown",
      "metadata": {},
      "source": [
        "$\\color{orange}{|S⟩}$ is non-magnetic as the total spin vector (S) equals zero. S for $\\color{purple}{|T_0⟩}$ possesses magnetism perpendicular to $B_0$. However, S for both $\\color{purple}{|T_+⟩}$ and $\\color{purple}{|T_-⟩}$ lie on the same axis as $B_0$ and are therefore magnetic along this axis. When the projection of the spin angular momentum ($\\mathbf{s}$) onto the $z$-axis is specified, the $x$- and $y$-projections are greatly uncertain (because they do not [commute](https://en.wikipedia.org/wiki/Canonical_commutation_relation)). Furthermore, the spin angular momentum vector will never point parallel to the quantisation axis because the magnitude of $\\mathbf{\\hat{s}}$ is larger than the largest possible magnitude of its projection, where $\\sqrt{S(S+1)} > S$ for $S > 0$. The above vector model displays the angular momentum vector occupying an undefined position on the surface of a cone around the quantisation axis ($z$-axis, $B_0$). \n",
        "\n",
        "The internal angle ($\\theta$) between the $z$-axis and the surface of the cone is,\n",
        "\n",
        "$$\n",
        "\\cos{\\theta} = \\frac{m_s}{\\sqrt{S(S+1)}}\n",
        "$$\n",
        "\n",
        "where $S$ is the [spin quantum number](https://en.wikipedia.org/wiki/Spin_quantum_number) and $m_s$ is the [magnetic quantum number](https://en.wikipedia.org/wiki/Magnetic_quantum_number). Let's calculate the angle for spin-$\\frac{1}{2}$ particles."
      ]
    },
    {
      "cell_type": "code",
      "execution_count": 12,
      "metadata": {},
      "outputs": [
        {
          "name": "stdout",
          "output_type": "stream",
          "text": [
            "Angle between the z-axis and the surface of the cone (in degrees) = 54.74\n"
          ]
        }
      ],
      "source": [
        "# The angle between the z-axis and the surface of the cone for spin-1/2 particles\n",
        "\n",
        "ms = 0.5\n",
        "S = 0.5\n",
        "\n",
        "theta = ms/(np.sqrt(S*(S+1)))\n",
        "angle = np.arccos(theta)/(np.pi/180)\n",
        "\n",
        "print('Angle between the z-axis and the surface of the cone (in degrees) = %0.2f' %(angle))"
      ]
    },
    {
      "cell_type": "markdown",
      "metadata": {},
      "source": [
        "---\n",
        "\n",
        "### Coherent processes"
      ]
    },
    {
      "cell_type": "markdown",
      "metadata": {},
      "source": [
        "So far, we have discussed coherent processes:\n",
        "\n",
        "* <font color='orange'>Zeeman interaction between the electron and the external magnetic field.</font>\n",
        "* <font color='green'>Zeeman interaction between the nucleus and the external magnetic field.</font>\n",
        "* <font color='blue'>Hyperfine interaction between the electron and nucleus.</font>\n",
        "* <font color='red'>Exchange interaction between the electrons.</font>\n",
        "* <font color='pink'>Dipolar interaction between the electrons.</font>\n",
        "\n",
        "Their respective spin Hamiltonians,\n",
        "\n",
        "$$\n",
        "\\begin{aligned}\n",
        "\\hat{H}_{total} &= \\color{orange}{\\hat{H}_{Zee,\\,e}} + \\color{green}{\\hat{H}_{Zee,\\,n}} + \\color{blue}{\\hat{H}_{hyper}} + \\color{red}{\\hat{H}_{ex}} + \\color{pink}{\\hat{H}_{dip}} \\\\\n",
        "&= \\color{orange}{\\frac{g_e + \\mu_B}{\\hbar}B_0 \\hat{s}_z} + \\color{green}{\\frac{g_n + \\mu_N}{\\hbar}B_0 \\hat{i}_z} + \\color{blue}{a\\,\\big(\\hat{i}_x \\hat{s}_x + \\hat{i}_y \\hat{s}_y + \\hat{i}_z \\hat{s}_z\\big)} + \\color{red}{-J \\big(2 \\hat{S}_A \\bullet \\hat{S}_B + \\frac{1}{2} \\hat{E}\\big)} + \\color{pink}{\\frac{2}{3} D \\big(3 \\hat{S}_{Az} \\bullet \\hat{S}_{Bz} - \\hat{S}_{A} \\bullet \\hat{S}_{B}\\big)}\n",
        "\\end{aligned}\n",
        "$$"
      ]
    },
    {
      "cell_type": "markdown",
      "metadata": {},
      "source": [
        "We discussed in the first tutorial how the above coherent processes influence the energy levels of radical pairs. Let's now see how we can create radical pairs in the RadicalPy software. In the next tutorial we will look at how these processes influence the time evolution of radical pairs."
      ]
    },
    {
      "cell_type": "code",
      "execution_count": 13,
      "metadata": {},
      "outputs": [
        {
          "data": {
            "text/plain": [
              "['2_6_aqds',\n",
              " 'adenine_cation',\n",
              " 'fad',\n",
              " 'flavin_anion',\n",
              " 'flavin_neutral',\n",
              " 'tryptophan_cation',\n",
              " 'tyrosine_neutral']"
            ]
          },
          "execution_count": 13,
          "metadata": {},
          "output_type": "execute_result"
        }
      ],
      "source": [
        "rp.simulation.Molecule.available()"
      ]
    },
    {
      "cell_type": "code",
      "execution_count": 27,
      "metadata": {},
      "outputs": [
        {
          "ename": "ValueError",
          "evalue": "Available nuclei:\nN5 (hfc = 0.5141406139911681)\nH25 (hfc = 0.4546400686867858)\nH26 (hfc = 0.4546400686867858)\nH27 (hfc = 0.4546400686867858)\nH24 (hfc = -0.44033852832217035)\nH29 (hfc = 0.4262605982027767)\nH30 (hfc = 0.4233203613613487)\nN10 (hfc = 0.1784350286060594)\nH21 (hfc = -0.13706792618414612)\nH22 (hfc = -0.13706792618414612)\nH23 (hfc = -0.13706792618414612)\nH20 (hfc = 0.05074644208718579)\nN16 (hfc = -0.03653529735361739)\nH31 (hfc = -0.020044041768504745)\nH28 (hfc = 0.009597399301570423)\nN14 (hfc = -0.0012750541642438315)",
          "output_type": "error",
          "traceback": [
            "\u001b[1;31m---------------------------------------------------------------------------\u001b[0m",
            "\u001b[1;31mValueError\u001b[0m                                Traceback (most recent call last)",
            "\u001b[1;32m~\\AppData\\Local\\Temp\\ipykernel_22480\\2175111924.py\u001b[0m in \u001b[0;36m<cell line: 1>\u001b[1;34m()\u001b[0m\n\u001b[1;32m----> 1\u001b[1;33m \u001b[0mflavin\u001b[0m \u001b[1;33m=\u001b[0m \u001b[0mrp\u001b[0m\u001b[1;33m.\u001b[0m\u001b[0msimulation\u001b[0m\u001b[1;33m.\u001b[0m\u001b[0mMolecule\u001b[0m\u001b[1;33m.\u001b[0m\u001b[0mfromdb\u001b[0m\u001b[1;33m(\u001b[0m\u001b[1;34m\"flavin_anion\"\u001b[0m\u001b[1;33m,\u001b[0m \u001b[1;33m[\u001b[0m\u001b[1;34m\"N222\"\u001b[0m\u001b[1;33m]\u001b[0m\u001b[1;33m)\u001b[0m\u001b[1;33m\u001b[0m\u001b[1;33m\u001b[0m\u001b[0m\n\u001b[0m\u001b[0;32m      2\u001b[0m \u001b[0mprint\u001b[0m\u001b[1;33m(\u001b[0m\u001b[0mflavin\u001b[0m\u001b[1;33m)\u001b[0m\u001b[1;33m\u001b[0m\u001b[1;33m\u001b[0m\u001b[0m\n",
            "\u001b[1;32mc:\\Users\\lewis\\AppData\\Local\\Programs\\Python\\Python310\\lib\\site-packages\\radicalpy\\data.py\u001b[0m in \u001b[0;36mfromdb\u001b[1;34m(cls, name, nuclei)\u001b[0m\n\u001b[0;32m   1011\u001b[0m                 \u001b[0mlines\u001b[0m \u001b[1;33m=\u001b[0m \u001b[1;33m[\u001b[0m\u001b[1;34m\"Available nuclei:\"\u001b[0m\u001b[1;33m]\u001b[0m\u001b[1;33m\u001b[0m\u001b[1;33m\u001b[0m\u001b[0m\n\u001b[0;32m   1012\u001b[0m                 \u001b[0mlines\u001b[0m \u001b[1;33m+=\u001b[0m \u001b[1;33m[\u001b[0m\u001b[1;34mf\"{n} (hfc = {h})\"\u001b[0m \u001b[1;32mfor\u001b[0m \u001b[0mn\u001b[0m\u001b[1;33m,\u001b[0m \u001b[0mh\u001b[0m \u001b[1;32min\u001b[0m \u001b[0mnuclei_hfcs\u001b[0m\u001b[1;33m]\u001b[0m\u001b[1;33m\u001b[0m\u001b[1;33m\u001b[0m\u001b[0m\n\u001b[1;32m-> 1013\u001b[1;33m                 \u001b[1;32mraise\u001b[0m \u001b[0mValueError\u001b[0m\u001b[1;33m(\u001b[0m\u001b[1;34m\"\\n\"\u001b[0m\u001b[1;33m.\u001b[0m\u001b[0mjoin\u001b[0m\u001b[1;33m(\u001b[0m\u001b[0mlines\u001b[0m\u001b[1;33m)\u001b[0m\u001b[1;33m)\u001b[0m\u001b[1;33m\u001b[0m\u001b[1;33m\u001b[0m\u001b[0m\n\u001b[0m\u001b[0;32m   1014\u001b[0m             \u001b[0misotope\u001b[0m \u001b[1;33m=\u001b[0m \u001b[0mdata\u001b[0m\u001b[1;33m[\u001b[0m\u001b[0mnucleus\u001b[0m\u001b[1;33m]\u001b[0m\u001b[1;33m[\u001b[0m\u001b[1;34m\"element\"\u001b[0m\u001b[1;33m]\u001b[0m\u001b[1;33m\u001b[0m\u001b[1;33m\u001b[0m\u001b[0m\n\u001b[0;32m   1015\u001b[0m             \u001b[0mhfc\u001b[0m \u001b[1;33m=\u001b[0m \u001b[0mdata\u001b[0m\u001b[1;33m[\u001b[0m\u001b[0mnucleus\u001b[0m\u001b[1;33m]\u001b[0m\u001b[1;33m[\u001b[0m\u001b[1;34m\"hfc\"\u001b[0m\u001b[1;33m]\u001b[0m\u001b[1;33m\u001b[0m\u001b[1;33m\u001b[0m\u001b[0m\n",
            "\u001b[1;31mValueError\u001b[0m: Available nuclei:\nN5 (hfc = 0.5141406139911681)\nH25 (hfc = 0.4546400686867858)\nH26 (hfc = 0.4546400686867858)\nH27 (hfc = 0.4546400686867858)\nH24 (hfc = -0.44033852832217035)\nH29 (hfc = 0.4262605982027767)\nH30 (hfc = 0.4233203613613487)\nN10 (hfc = 0.1784350286060594)\nH21 (hfc = -0.13706792618414612)\nH22 (hfc = -0.13706792618414612)\nH23 (hfc = -0.13706792618414612)\nH20 (hfc = 0.05074644208718579)\nN16 (hfc = -0.03653529735361739)\nH31 (hfc = -0.020044041768504745)\nH28 (hfc = 0.009597399301570423)\nN14 (hfc = -0.0012750541642438315)"
          ]
        }
      ],
      "source": [
        "flavin = rp.simulation.Molecule.fromdb(\"flavin_anion\", [\"N222\"])\n",
        "print(flavin)"
      ]
    },
    {
      "cell_type": "code",
      "execution_count": 14,
      "metadata": {},
      "outputs": [
        {
          "name": "stdout",
          "output_type": "stream",
          "text": [
            "Molecule: flavin_anion\n",
            "Nuclei:\n",
            "  14N(19337792.0, 3, 0.5141 <anisotropic available>)\n",
            "Radical: E(-176085963023.0, 2, 0.0 <anisotropic not available>)\n",
            "Info: {'units': 'mT', 'name': 'Flavin radical anion'}\n"
          ]
        }
      ],
      "source": [
        "flavin = rp.simulation.Molecule.fromdb(\"flavin_anion\", [\"N5\"])\n",
        "print(flavin)"
      ]
    },
    {
      "cell_type": "code",
      "execution_count": 15,
      "metadata": {},
      "outputs": [
        {
          "data": {
            "text/plain": [
              "Molecule: 13C\n",
              "Nuclei:\n",
              "  13C(67282840.0, 2, 0.5 <anisotropic not available>)\n",
              "Radical: E(-176085963023.0, 2, 0.0 <anisotropic not available>)"
            ]
          },
          "execution_count": 15,
          "metadata": {},
          "output_type": "execute_result"
        }
      ],
      "source": [
        "rp.simulation.Molecule.fromisotopes(name=\"13C\", isotopes=[\"13C\"], hfcs=[0.5])"
      ]
    },
    {
      "cell_type": "code",
      "execution_count": 16,
      "metadata": {},
      "outputs": [
        {
          "name": "stdout",
          "output_type": "stream",
          "text": [
            "Nucleus(76043500.0, 4, 0.0)\n"
          ]
        }
      ],
      "source": [
        "gamma = rp.data.Isotope(\"65Cu\").gamma_mT\n",
        "quartet = rp.data.Nucleus(magnetogyric_ratio=gamma, multiplicity=4, hfc=0.0)\n",
        "print(quartet)"
      ]
    },
    {
      "cell_type": "code",
      "execution_count": 68,
      "metadata": {},
      "outputs": [
        {
          "name": "stdout",
          "output_type": "stream",
          "text": [
            "Number of electrons: 2\n",
            "Number of nuclei: 1\n",
            "Number of particles: 3\n",
            "Multiplicities: [2, 2, 2]\n",
            "Magnetogyric ratios (mT): [-176085963.023, -176085963.023, 267522.18744]\n",
            "Nuclei: [1H(267522187.44, 2, 0.5 <anisotropic not available>)]\n",
            "Couplings: [0]\n",
            "HFCs (mT): [0.5 <anisotropic not available>]\n"
          ]
        }
      ],
      "source": [
        "flavin = rp.simulation.Molecule.fromisotopes(name=\"flavin\", isotopes=[\"1H\"], hfcs=[0.5])\n",
        "trp = rp.simulation.Molecule.fromdb(\"tryptophan_cation\")\n",
        "sim = rp.simulation.HilbertSimulation([flavin, trp])\n",
        "print(sim)"
      ]
    },
    {
      "cell_type": "markdown",
      "metadata": {},
      "source": [
        "### Zeeman Hamiltonian"
      ]
    },
    {
      "cell_type": "code",
      "execution_count": 61,
      "metadata": {},
      "outputs": [
        {
          "data": {
            "application/vnd.jupyter.widget-view+json": {
              "model_id": "cbc2982130314837ad3db28f06da7d0d",
              "version_major": 2,
              "version_minor": 0
            },
            "text/plain": [
              "interactive(children=(SelectionSlider(description='B0', options=(('0', np.float64(0.0)), ('0.5', np.float64(0.…"
            ]
          },
          "metadata": {},
          "output_type": "display_data"
        }
      ],
      "source": [
        "@wdg.interact(B0 = wdg.SelectionSlider(options=[(\"%g\"%i,i) for i in np.linspace(0, 50, 101)]))\n",
        "def update(B0 = 0):return smp.Array(sim.zeeman_hamiltonian(B0=B0).round(2))"
      ]
    },
    {
      "cell_type": "markdown",
      "metadata": {},
      "source": [
        "### Hyperfine Hamiltonian"
      ]
    },
    {
      "cell_type": "code",
      "execution_count": 64,
      "metadata": {},
      "outputs": [
        {
          "data": {
            "application/vnd.jupyter.widget-view+json": {
              "model_id": "e58d66cae69744fb9a7c5f911de3f2fd",
              "version_major": 2,
              "version_minor": 0
            },
            "text/plain": [
              "interactive(children=(SelectionSlider(description='HFC', options=(('0', np.float64(0.0)), ('0.1', np.float64(0…"
            ]
          },
          "metadata": {},
          "output_type": "display_data"
        }
      ],
      "source": [
        "def hyperfine(hfc):\n",
        "    flavin = rp.simulation.Molecule.fromisotopes(name=\"flavin\", isotopes=[\"1H\"], hfcs=[hfc])\n",
        "    trp = rp.simulation.Molecule.fromdb(\"tryptophan_cation\")\n",
        "    sim = rp.simulation.HilbertSimulation([flavin, trp])\n",
        "    return sim.hyperfine_hamiltonian().round(2)\n",
        "\n",
        "@wdg.interact(HFC = wdg.SelectionSlider(options=[(\"%g\"%i,i) for i in np.linspace(0, 2, 21)]))\n",
        "def update(HFC= 0):return smp.Array(hyperfine(HFC))"
      ]
    },
    {
      "cell_type": "markdown",
      "metadata": {},
      "source": [
        "### Exchange interaction"
      ]
    },
    {
      "cell_type": "markdown",
      "metadata": {},
      "source": [
        "$$\n",
        "E(S) = +J(r), \\\\\n",
        "E(T_m) = -J(r)\n",
        "$$"
      ]
    },
    {
      "cell_type": "code",
      "execution_count": 69,
      "metadata": {},
      "outputs": [
        {
          "data": {
            "application/vnd.jupyter.widget-view+json": {
              "model_id": "db6bce08408f4bcea1b7eb93c6a7f7fb",
              "version_major": 2,
              "version_minor": 0
            },
            "text/plain": [
              "interactive(children=(FloatSlider(value=0.0, description='J', max=20.0, min=-20.0, step=1.0), Output()), _dom_…"
            ]
          },
          "metadata": {},
          "output_type": "display_data"
        }
      ],
      "source": [
        "@wdg.interact(J = wdg.FloatSlider(min=-20, max=20, step=1, value=0.0))\n",
        "def update(J = 0):return smp.Array(sim.exchange_hamiltonian(J).round(2))"
      ]
    },
    {
      "cell_type": "markdown",
      "metadata": {},
      "source": [
        "### Dipolar interaction"
      ]
    },
    {
      "cell_type": "markdown",
      "metadata": {},
      "source": [
        "$$\n",
        "E(T_m) = D(r) \\biggl(m^2 - \\frac{2}{3}\\biggr),\n",
        "$$\n",
        "where $m$ is the [magnetic quantum number](https://en.wikipedia.org/wiki/Magnetic_quantum_number) of the <font color='purple'>triplet</font>, *i.e.*, -1, 0, +1."
      ]
    },
    {
      "cell_type": "code",
      "execution_count": 71,
      "metadata": {},
      "outputs": [
        {
          "data": {
            "application/vnd.jupyter.widget-view+json": {
              "model_id": "493f8314cb6f489cbb8e440a8f40fbc5",
              "version_major": 2,
              "version_minor": 0
            },
            "text/plain": [
              "interactive(children=(FloatSlider(value=0.0, description='D', max=0.0, min=-20.0, step=1.0), Output()), _dom_c…"
            ]
          },
          "metadata": {},
          "output_type": "display_data"
        }
      ],
      "source": [
        "@wdg.interact(D = wdg.FloatSlider(min=-20, max=0, step=1, value=0.0))\n",
        "def update(D = 0):return smp.Array(sim.dipolar_hamiltonian(D).round(2))"
      ]
    }
  ],
  "metadata": {
    "colab": {
      "collapsed_sections": [],
      "name": "colab-github-demo.ipynb",
      "provenance": [],
      "version": "0.3.2"
    },
    "kernelspec": {
      "display_name": "Python 3",
      "name": "python3"
    },
    "language_info": {
      "codemirror_mode": {
        "name": "ipython",
        "version": 3
      },
      "file_extension": ".py",
      "mimetype": "text/x-python",
      "name": "python",
      "nbconvert_exporter": "python",
      "pygments_lexer": "ipython3",
      "version": "3.10.2"
    }
  },
  "nbformat": 4,
  "nbformat_minor": 0
}
