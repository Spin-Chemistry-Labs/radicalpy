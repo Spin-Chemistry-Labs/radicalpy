{
  "cells": [
    {
      "cell_type": "markdown",
      "metadata": {
        "colab_type": "text",
        "id": "view-in-github"
      },
      "source": [
        "<a href=\"https://colab.research.google.com/github/Spin-Chemistry-Labs/radicalpy/blob/187-google-colab-tutorials/examples/tutorials/03_introduction_to_spin_hamiltonians.ipynb\" target=\"_parent\"><img src=\"https://colab.research.google.com/assets/colab-badge.svg\" alt=\"Open In Colab\"/></a>\n"
      ]
    },
    {
      "cell_type": "markdown",
      "metadata": {
        "colab_type": "text",
        "id": "-pVhOfzLx9us"
      },
      "source": [
        "# Tutorial 3 - Introduction to spin Hamiltonians\n",
        "\n"
      ]
    },
    {
      "cell_type": "markdown",
      "metadata": {},
      "source": [
        "&copy; Lewis M. Antill, 2025"
      ]
    },
    {
      "cell_type": "markdown",
      "metadata": {},
      "source": [
        "This tutorial aims to introduce the key concepts of [radical pairs](https://en.wikipedia.org/wiki/Spin_chemistry), [Kronecker products](https://en.wikipedia.org/wiki/Kronecker_product), product operators, [eigenvalues and eigenvectors](https://en.wikipedia.org/wiki/Eigenvalues_and_eigenvectors), and [Larmor precession](https://en.wikipedia.org/wiki/Larmor_precession)."
      ]
    },
    {
      "cell_type": "code",
      "execution_count": null,
      "metadata": {},
      "outputs": [],
      "source": [
        "!pip install radicalpy"
      ]
    },
    {
      "cell_type": "code",
      "execution_count": 53,
      "metadata": {},
      "outputs": [],
      "source": [
        "import numpy as np\n",
        "import radicalpy as rp\n",
        "import sympy as smp"
      ]
    },
    {
      "cell_type": "markdown",
      "metadata": {},
      "source": [
        "---\n",
        "    \n",
        "### Combining two spin-1/2 particles"
      ]
    },
    {
      "cell_type": "markdown",
      "metadata": {},
      "source": [
        "Radical pairs are two paired electrons (as the name suggests). Two electrons can be paired in the following ways,\n",
        "\n",
        "$$\n",
        "\\begin{aligned}\n",
        "\\color{green}{S_A} &= \\frac{1}{2}, \\,\\color{blue}{S_B} = \\frac{1}{2} \\\\\n",
        "S_{tot} &= \\color{green}{S_A} - \\color{blue}{S_B} = \\color{orange}{0} \\\\\n",
        "&= \\color{green}{S_A} + \\color{blue}{S_B} = \\color{purple}{1}\n",
        "\\end{aligned}\n",
        "$$\n",
        "\n",
        "When $S_{tot} = \\color{orange}{0}$, the two electrons are antiparallel (**one** <font color='magenta'>spin up</font> and **one** <font color='red'>spin down</font>), therefore spin allowed and in a <font color='orange'>singlet state</font> ([link](https://en.wikipedia.org/wiki/Singlet_state)). For $S_{tot} = \\color{purple}{1}$, the two electrons are parallel (**both** are either <font color='magenta'>spin up</font> or <font color='red'>spin down</font>) and are now in a <font color='purple'>triplet state</font> ([link](https://en.wikipedia.org/wiki/Triplet_state))."
      ]
    },
    {
      "cell_type": "markdown",
      "metadata": {},
      "source": [
        "---\n",
        "\n",
        "### Spin operators"
      ]
    },
    {
      "cell_type": "markdown",
      "metadata": {},
      "source": [
        "Spin states for electron one are $\\color{green}{|\\alpha_1⟩}\\color{green}{|\\beta_1⟩}$ and are eigenfunctions of $\\color{green}{|\\hat{S}_{Az}⟩}$, and for electron two we have $\\color{blue}{|\\alpha_2⟩}\\color{blue}{|\\beta_2⟩}$ and are eigenfunctions of $\\color{blue}{|\\hat{S}_{Bz}⟩}$. For a radical pair, it is clear that there are four eigenfunctions $\\color{green}{|\\alpha_1⟩}$, $\\color{green}{|\\beta_1⟩}$, $\\color{blue}{|\\alpha_2⟩}$, and $\\color{blue}{|\\beta_2⟩}$, from which there are four possible [ket](https://en.wikipedia.org/wiki/Bra%E2%80%93ket_notation) combinations and are known as the product states,\n",
        "\n",
        "$$\n",
        "\\begin{aligned}\n",
        "&\\color{green}{|\\alpha_1⟩}\\color{blue}{|\\alpha_2⟩} = |\\alpha_1\\alpha_2⟩ \\\\\n",
        "&\\color{green}{|\\alpha_1⟩}\\color{blue}{|\\beta_2⟩} = |\\alpha_1\\beta_2⟩ \\\\\n",
        "&\\color{green}{|\\beta_1⟩}\\color{blue}{|\\alpha_2⟩} = |\\beta_1\\alpha_2⟩ \\\\\n",
        "&\\color{green}{|\\beta_1⟩}\\color{blue}{|\\beta_2⟩} = |\\beta_1\\beta_2⟩ \n",
        "\\end{aligned}\n",
        "$$\n",
        "\n",
        "Now we would like to form two separate spin operators for electron one and electron two. We can form spin operators using the Pauli matrices that we introduced in tutorial 1. The spin operators can be created by taking the Kronecker product of one of the Pauli matrices with the identity matrix ($\\hat{I}$), \n",
        "\n",
        "$$\n",
        "\\begin{aligned}\n",
        "&\\color{green}{|\\hat{S}_{Az}⟩} = \\color{green}{|\\hat{\\sigma}_{Az}⟩}⊗|\\hat{I}⟩ \\\\\n",
        "&\\color{blue}{|\\hat{S}_{Bz}⟩} = |\\hat{I}⟩⊗\\color{blue}{|\\hat{\\sigma}_{Bz}⟩}\n",
        "\\end{aligned}\n",
        "$$\n",
        "\n",
        "Now let's calculate these computationally."
      ]
    },
    {
      "cell_type": "markdown",
      "metadata": {},
      "source": [
        "---\n",
        "\n",
        "#### Pauli matrices"
      ]
    },
    {
      "cell_type": "markdown",
      "metadata": {},
      "source": [
        "The `np.array()` function allows us to build our desired array."
      ]
    },
    {
      "cell_type": "code",
      "execution_count": 2,
      "metadata": {},
      "outputs": [],
      "source": [
        "factor = 0.5\n",
        "sigma = factor * np.array(\n",
        "    [\n",
        "        [[0, 1], [1, 0]],\n",
        "        [[0, -1j], [1j, 0]],\n",
        "        [[1, 0], [0, -1]],\n",
        "    ]\n",
        ")\n",
        "I = np.eye(2)\n",
        "\n",
        "Sx_smp = smp.Matrix([[0, 0.5], [0.5, 0]])\n",
        "Sy_smp = smp.Matrix([[0, -0.5j], [0.5j, 0]])\n",
        "Sz_smp = smp.Matrix([[0.5, 0], [0, -0.5]])\n",
        "I_smp = smp.eye(2)"
      ]
    },
    {
      "cell_type": "markdown",
      "metadata": {},
      "source": [
        "---\n",
        "\n",
        "#### Spin operators"
      ]
    },
    {
      "cell_type": "markdown",
      "metadata": {},
      "source": [
        "The next step is to produce the spin operators, which are created by taking the Kronecker product of one of the Pauli matrices with the identity matrix ($\\hat{I}$). The Kronecker product function `smp.KroneckerProduct()` displays the operation, whereas the `smp.kronecker_product()` function shows the result of the operation. Using the `smp.Eq()` function, we can combine the two aforementioned functions to display both operation and result."
      ]
    },
    {
      "cell_type": "code",
      "execution_count": 3,
      "metadata": {},
      "outputs": [],
      "source": [
        "# Radical A\n",
        "SAx_smp = smp.Eq(smp.KroneckerProduct(Sx_smp,I_smp), smp.kronecker_product(Sx_smp,I_smp)) \n",
        "SAy_smp = smp.Eq(smp.KroneckerProduct(Sy_smp,I_smp), smp.kronecker_product(Sy_smp,I_smp)) \n",
        "SAz_smp = smp.Eq(smp.KroneckerProduct(Sz_smp,I_smp), smp.kronecker_product(Sz_smp,I_smp)) \n",
        "\n",
        "# Radical B\n",
        "SBx_smp = smp.Eq(smp.KroneckerProduct(I_smp,Sx_smp), smp.kronecker_product(I_smp,Sx_smp)) \n",
        "SBy_smp = smp.Eq(smp.KroneckerProduct(I_smp,Sy_smp), smp.kronecker_product(I_smp,Sy_smp)) \n",
        "SBz_smp = smp.Eq(smp.KroneckerProduct(I_smp,Sz_smp), smp.kronecker_product(I_smp,Sz_smp)) "
      ]
    },
    {
      "cell_type": "code",
      "execution_count": 4,
      "metadata": {},
      "outputs": [
        {
          "data": {
            "text/latex": [
              "$\\displaystyle \\left[\\begin{matrix}0.5 & 0\\\\0 & -0.5\\end{matrix}\\right] \\otimes \\left[\\begin{matrix}1 & 0\\\\0 & 1\\end{matrix}\\right] = \\left[\\begin{matrix}0.5 & 0 & 0 & 0\\\\0 & 0.5 & 0 & 0\\\\0 & 0 & -0.5 & 0\\\\0 & 0 & 0 & -0.5\\end{matrix}\\right]$"
            ],
            "text/plain": [
              "Eq(KroneckerProduct(Matrix([\n",
              "[0.5,    0],\n",
              "[  0, -0.5]]), Matrix([\n",
              "[1, 0],\n",
              "[0, 1]])), Matrix([\n",
              "[0.5,   0,    0,    0],\n",
              "[  0, 0.5,    0,    0],\n",
              "[  0,   0, -0.5,    0],\n",
              "[  0,   0,    0, -0.5]]))"
            ]
          },
          "execution_count": 4,
          "metadata": {},
          "output_type": "execute_result"
        }
      ],
      "source": [
        "SAz_smp"
      ]
    },
    {
      "cell_type": "code",
      "execution_count": 5,
      "metadata": {},
      "outputs": [
        {
          "data": {
            "text/latex": [
              "$\\displaystyle \\left[\\begin{matrix}1 & 0\\\\0 & 1\\end{matrix}\\right] \\otimes \\left[\\begin{matrix}0.5 & 0\\\\0 & -0.5\\end{matrix}\\right] = \\left[\\begin{matrix}0.5 & 0 & 0 & 0\\\\0 & -0.5 & 0 & 0\\\\0 & 0 & 0.5 & 0\\\\0 & 0 & 0 & -0.5\\end{matrix}\\right]$"
            ],
            "text/plain": [
              "Eq(KroneckerProduct(Matrix([\n",
              "[1, 0],\n",
              "[0, 1]]), Matrix([\n",
              "[0.5,    0],\n",
              "[  0, -0.5]])), Matrix([\n",
              "[0.5,    0,   0,    0],\n",
              "[  0, -0.5,   0,    0],\n",
              "[  0,    0, 0.5,    0],\n",
              "[  0,    0,   0, -0.5]]))"
            ]
          },
          "execution_count": 5,
          "metadata": {},
          "output_type": "execute_result"
        }
      ],
      "source": [
        "SBz_smp"
      ]
    },
    {
      "cell_type": "markdown",
      "metadata": {},
      "source": [
        "We can use the `np.kron()` function to take the Kronecker product of two matrices."
      ]
    },
    {
      "cell_type": "code",
      "execution_count": 10,
      "metadata": {},
      "outputs": [],
      "source": [
        "SAx = np.kron(sigma[0], I)\n",
        "SAy = np.kron(sigma[1], I)\n",
        "SAz = np.kron(sigma[2], I)\n",
        "\n",
        "SBx = np.kron(I, sigma[0])\n",
        "SBy = np.kron(I, sigma[1])\n",
        "SBz = np.kron(I, sigma[2])"
      ]
    },
    {
      "cell_type": "code",
      "execution_count": 11,
      "metadata": {},
      "outputs": [
        {
          "data": {
            "text/plain": [
              "array([[ 0.5+0.j,  0. +0.j,  0. +0.j,  0. +0.j],\n",
              "       [ 0. +0.j, -0.5+0.j,  0. +0.j, -0. +0.j],\n",
              "       [ 0. +0.j,  0. +0.j,  0.5+0.j,  0. +0.j],\n",
              "       [ 0. +0.j, -0. +0.j,  0. +0.j, -0.5+0.j]])"
            ]
          },
          "execution_count": 11,
          "metadata": {},
          "output_type": "execute_result"
        }
      ],
      "source": [
        "SBz"
      ]
    },
    {
      "cell_type": "markdown",
      "metadata": {},
      "source": [
        "---\n",
        "\n",
        "### Product operators"
      ]
    },
    {
      "cell_type": "markdown",
      "metadata": {},
      "source": [
        "Now that we can create spin operators, we can move on to the next step and combine the two electrons producing product operators. The product of the total electron spin (one and two) operators can be calculated by the following,\n",
        "\n",
        "$$\n",
        "\\color{green}{\\hat{S}_A}\\color{blue}{\\hat{S}_B} = (\\color{green}{S_{Ax}}\\color{blue}{S_{Bx}}+\\color{green}{S_{Ay}}\\color{blue}{S_{By}}+\\color{green}{S_{Az}}\\color{blue}{S_{Bz}})\n",
        "$$\n",
        "\n",
        "Which gives,\n",
        "\n",
        "$$\n",
        "\\color{green}{\\hat{S}_A}\\color{blue}{\\hat{S}_B} = \\frac{\\hbar^2}{4}\\begin{bmatrix} 1 & 0 & 0 & 0 \\\\ 0 & -1 & 2 & 0 \\\\ 0 & 2 & -1 & 0 \\\\ 0 & 0 & 0 & 1\\end{bmatrix}\n",
        "$$"
      ]
    },
    {
      "cell_type": "markdown",
      "metadata": {},
      "source": [
        "We can calculate this in Python using the following expression (the `@` symbol is the [dot product](https://en.wikipedia.org/wiki/Dot_product) operator),"
      ]
    },
    {
      "cell_type": "code",
      "execution_count": 52,
      "metadata": {},
      "outputs": [
        {
          "name": "stdout",
          "output_type": "stream",
          "text": [
            "[[ 0.25+0.j  0.  +0.j  0.  +0.j  0.  +0.j]\n",
            " [ 0.  +0.j -0.25+0.j  0.5 +0.j  0.  +0.j]\n",
            " [ 0.  +0.j  0.5 +0.j -0.25+0.j  0.  +0.j]\n",
            " [ 0.  +0.j  0.  +0.j  0.  +0.j  0.25+0.j]]\n"
          ]
        }
      ],
      "source": [
        "SASB = SAx @ SBx + SAy @ SBy + SAz @ SBz\n",
        "print(SASB)"
      ]
    },
    {
      "cell_type": "markdown",
      "metadata": {},
      "source": [
        "We can now calculate the energies and states of the radical pair by acquiring the eigenvalues `E` (energies) and eigenvectors `V` (states)."
      ]
    },
    {
      "cell_type": "markdown",
      "metadata": {},
      "source": [
        "---\n",
        "\n",
        "### Eigenvectors and eigenvalues - zero field"
      ]
    },
    {
      "cell_type": "code",
      "execution_count": null,
      "metadata": {},
      "outputs": [
        {
          "name": "stdout",
          "output_type": "stream",
          "text": [
            "[[ 0.        +0.j  1.        +0.j  0.        +0.j  0.        +0.j]\n",
            " [ 0.70710678+0.j  0.        +0.j  0.70710678+0.j  0.        +0.j]\n",
            " [-0.70710678+0.j  0.        +0.j  0.70710678+0.j  0.        +0.j]\n",
            " [ 0.        +0.j  0.        +0.j  0.        +0.j  1.        +0.j]]\n",
            "[-0.75  0.25  0.25  0.25]\n"
          ]
        }
      ],
      "source": [
        "E, V = np.linalg.eigh(SASB)\n",
        "print(V)\n",
        "print(E)"
      ]
    },
    {
      "cell_type": "markdown",
      "metadata": {},
      "source": [
        "Now let's look at the above eigenvalues and eigenvectors for the radical pair. The eigenvector matrix `V` represents the four different states of the radical pair, where columns one, two, three, and four are $\\color{orange}{|S⟩}$, $\\color{purple}{|T_+⟩}$, $\\color{purple}{|T_0⟩}$, and $\\color{purple}{|T_-⟩}$, respectively. Additionally, rows one, two, three, and four are $\\color{green}{|\\alpha_1⟩}\\color{blue}{|\\alpha_2⟩}$, $\\color{green}{|\\alpha_1⟩}\\color{blue}{|\\beta_2⟩}$, $\\color{green}{|\\beta_1⟩}\\color{blue}{|\\alpha_2⟩}$, and $\\color{green}{|\\beta_1⟩}\\color{blue}{|\\beta_2⟩}$, respectively. The states are given by,\n",
        "\n",
        "$$\n",
        "\\begin{aligned}\n",
        "&\\color{orange}{|S⟩} = \\frac{1}{\\sqrt{2}}(\\color{green}{|\\alpha_1⟩}\\color{blue}{|\\beta_2⟩}-\\color{green}{|\\beta_1⟩}\\color{blue}{|\\alpha_2⟩}) \\\\\n",
        "&\\color{purple}{|T_+⟩} = \\color{green}{|\\alpha_1⟩}\\color{blue}{|\\alpha_2⟩}) \\\\\n",
        "&\\color{purple}{|T_0⟩} = \\frac{1}{\\sqrt{2}}(\\color{green}{|\\alpha_1⟩}\\color{blue}{|\\beta_2⟩}+\\color{blue}{|\\beta_1⟩}\\color{green}{|\\alpha_2⟩}) \\\\\n",
        "&\\color{purple}{|T_-⟩} = \\color{green}{|\\beta_1⟩}\\color{blue}{|\\beta_2⟩})\n",
        "\\end{aligned}\n",
        "$$\n",
        "\n",
        "The eigenvalue vector `E` represents the energies of the <font color='orange'>singlet state</font> at $-0.75$ or E = $-\\frac{3}{4}$ and the three [degenerate](https://en.wikipedia.org/wiki/Degenerate_energy_levels) <font color='purple'>triplet states</font> each with a higher energy of $0.25$ or E = $\\frac{1}{4}$."
      ]
    },
    {
      "cell_type": "markdown",
      "metadata": {},
      "source": [
        "---\n",
        "\n",
        "### Coupled basis vs product basis"
      ]
    },
    {
      "cell_type": "markdown",
      "metadata": {},
      "source": [
        "Coupled spin basis vectors are linear combinations of product basis vectors. In the uncoupled states there are two distinct quantum states of two spins, *e.g.*, four combinations of $|\\alpha⟩$ and $|\\beta⟩$ states of each particle. Information is neither lost nor gained for each representation, or in other words the two bases are equivalent.\n",
        "\n",
        "<table class='table table-striped'> \n",
        "    <thead> \n",
        "        <tr> \n",
        "            <th scope=\"col\">Coupled basis</th> \n",
        "            <th scope=\"col\">Product basis</th> \n",
        "            <th scope=\"col\">$|S, m_s⟩$</th> \n",
        "        </tr> \n",
        "    </thead> \n",
        "    <tbody> \n",
        "        <tr> \n",
        "            <th scope='row'>$\\color{orange}{|S⟩}$</th> \n",
        "            <td>$\\frac{1}{\\sqrt{2}}(\\color{green}{|\\alpha_1⟩}\\color{blue}{|\\beta_2⟩}-\\color{green}{|\\beta_1⟩}\\color{blue}{|\\alpha_2⟩})$</td> \n",
        "            <td>$|0, 0⟩$</td> \n",
        "        </tr> \n",
        "        <tr> \n",
        "            <th scope='row'>$\\color{purple}{|T_+⟩}$</th> \n",
        "            <td>$\\color{green}{|\\alpha_1⟩}\\color{blue}{|\\alpha_2⟩}$</td> \n",
        "            <td>$|1, +1⟩$</td> \n",
        "        </tr> \n",
        "        <tr> \n",
        "            <th scope='row'>$\\color{purple}{|T_0⟩}$</th> \n",
        "            <td>$\\frac{1}{\\sqrt{2}}(\\color{green}{|\\alpha_1⟩}\\color{blue}{|\\beta_2⟩}+\\color{blue}{|\\beta_1⟩}\\color{green}{|\\alpha_2⟩})$</td> \n",
        "            <td>$|1, 0⟩$</td> \n",
        "        </tr> \n",
        "        <tr> \n",
        "            <th scope='row'>$\\color{purple}{|T_-⟩}$</th> \n",
        "            <td>$\\color{green}{|\\beta_1⟩}\\color{blue}{|\\beta_2⟩}$</td> \n",
        "            <td>$|1, -1⟩$</td>\n",
        "        </tr> \n",
        "        <tr> \n",
        "        </tr> \n",
        "    </tbody> \n",
        "</table>\n",
        "\n",
        "* Coupled basis = ST basis\n",
        "* Product basis = Zeeman basis = $\\alpha \\,/ \\,\\beta$ basis"
      ]
    },
    {
      "cell_type": "markdown",
      "metadata": {},
      "source": [
        "---\n",
        "\n",
        "### Converting to coupled basis"
      ]
    },
    {
      "cell_type": "code",
      "execution_count": 55,
      "metadata": {},
      "outputs": [],
      "source": [
        "def ST_basis(M, spins):\n",
        "    #               T+  S                T0              T-\n",
        "    ST = np.array([[1,  0,               0,              0],\n",
        "                   [0,  1 / np.sqrt(2),  1 / np.sqrt(2), 0],\n",
        "                   [0,  -1 / np.sqrt(2), 1 / np.sqrt(2), 0],\n",
        "                   [0,  0,               0,              1]])\n",
        "\n",
        "    C = np.kron(ST, np.eye(2**(spins - 2)))\n",
        "    return C @ M @ np.transpose(C)\n",
        "\n",
        "SAz_ST = ST_basis(SAz, 2)\n",
        "SBz_ST = ST_basis(SBz, 2)"
      ]
    },
    {
      "cell_type": "code",
      "execution_count": 61,
      "metadata": {},
      "outputs": [
        {
          "name": "stdout",
          "output_type": "stream",
          "text": [
            "[[ 0.5+0.j  0. +0.j  0. +0.j  0. +0.j]\n",
            " [ 0. +0.j -0. +0.j -0.5+0.j  0. +0.j]\n",
            " [ 0. +0.j -0.5+0.j -0. +0.j  0. +0.j]\n",
            " [ 0. +0.j  0. +0.j  0. +0.j -0.5+0.j]]\n"
          ]
        }
      ],
      "source": [
        "print(SAz_ST.round(2))"
      ]
    },
    {
      "cell_type": "code",
      "execution_count": 60,
      "metadata": {},
      "outputs": [
        {
          "name": "stdout",
          "output_type": "stream",
          "text": [
            "[[ 0.5+0.j  0. +0.j  0. +0.j  0. +0.j]\n",
            " [ 0. +0.j  0.5+0.j  0. +0.j  0. +0.j]\n",
            " [ 0. +0.j  0. +0.j -0.5+0.j -0. +0.j]\n",
            " [ 0. +0.j  0. +0.j -0. +0.j -0.5+0.j]]\n"
          ]
        }
      ],
      "source": [
        "print(SAz)"
      ]
    },
    {
      "cell_type": "markdown",
      "metadata": {},
      "source": [
        "---\n",
        "\n",
        "### Larmor frequency"
      ]
    },
    {
      "cell_type": "markdown",
      "metadata": {},
      "source": [
        "The electron spin magnetic moment [precesses](https://en.wikipedia.org/wiki/Precession) about an applied magnetic field ($B_0$). The [Larmor frequency](http://hyperphysics.phy-astr.gsu.edu/hbase/Nuclear/larmor.html) depends on g-values and [hyperfine states](https://en.wikipedia.org/wiki/Hyperfine_structure), where differences drive <font color='orange'>singlet</font>-<font color='purple'>triplet</font> mixing (<font color='orange'>S</font><font color='purple'>T</font>-mixing) (this will be discussed in the following tutorial). The Larmor frequency is given by,\n",
        "\n",
        "$$\n",
        "\\omega = \\frac{g \\mu_B B_{local}}{\\hbar}\n",
        "$$\n",
        "\n",
        "Where $g$ is dependent on the radical and $B_{local}$ is hyperfine dependent. The Larmor frequency of the four states of the radical pair can be represented with a vector model. Where the arrows of the <font color='orange'>singlet state</font> are pointing in the opposite direction (antiparallel) and those of <font color='purple'>triplet states</font> are pointing in the same direction (parallel)."
      ]
    },
    {
      "cell_type": "markdown",
      "metadata": {},
      "source": [
        "# &emsp;&emsp;&emsp;&emsp;&nbsp;&nbsp; <font color='orange'>$|S⟩$</font> &emsp;&emsp;&emsp;&emsp;&emsp;&emsp;&nbsp;&nbsp; <font color='purple'>$|T_+⟩$</font> &emsp;&emsp;&emsp;&emsp;&emsp;&emsp;&nbsp;&nbsp; <font color='purple'>$|T_0⟩$</font>  &emsp;&emsp;&emsp;&emsp;&emsp;&emsp; <font color='purple'>$|T_-⟩$</font> "
      ]
    },
    {
      "cell_type": "markdown",
      "metadata": {},
      "source": [
        "<img src=\"figures/Z-arrow.png\" width=\"30\" height=\"157\" align=\"left\"/>\n",
        "<img src=\"figures/S.gif\" width=\"235\" align=\"left\"/>\n",
        "<img src=\"figures/T+.gif\" width=\"235\" align=\"left\"/>\n",
        "<img src=\"figures/T0.gif\" width=\"235\" align=\"left\"/>\n",
        "<img src=\"figures/T-.gif\" width=\"235\" align=\"left\"/>"
      ]
    },
    {
      "cell_type": "markdown",
      "metadata": {},
      "source": [
        "$\\color{orange}{|S⟩}$ is non-magnetic as the total spin vector (S) equals zero. S for $\\color{purple}{|T_0⟩}$ possesses magnetism perpendicular to $B_0$. However, S for both $\\color{purple}{|T_+⟩}$ and $\\color{purple}{|T_-⟩}$ lie on the same axis as $B_0$ and are therefore magnetic along this axis. When the projection of the spin angular momentum ($\\mathbf{s}$) onto the $z$-axis is specified, the $x$- and $y$-projections are greatly uncertain (because they do not [commute](https://en.wikipedia.org/wiki/Canonical_commutation_relation)). Furthermore, the spin angular momentum vector will never point parallel to the quantisation axis because the magnitude of $\\mathbf{\\hat{s}}$ is larger than the largest possible magnitude of its projection, where $\\sqrt{S(S+1)} > S$ for $S > 0$. The above vector model displays the angular momentum vector occupying an undefined position on the surface of a cone around the quantisation axis ($z$-axis, $B_0$). \n",
        "\n",
        "The internal angle ($\\theta$) between the $z$-axis and the surface of the cone is,\n",
        "\n",
        "$$\n",
        "\\cos{\\theta} = \\frac{m_s}{\\sqrt{S(S+1)}}\n",
        "$$\n",
        "\n",
        "where $S$ is the [spin quantum number](https://en.wikipedia.org/wiki/Spin_quantum_number) and $m_s$ is the [magnetic quantum number](https://en.wikipedia.org/wiki/Magnetic_quantum_number). Let's calculate the angle for spin-$\\frac{1}{2}$ particles."
      ]
    },
    {
      "cell_type": "code",
      "execution_count": 63,
      "metadata": {},
      "outputs": [
        {
          "name": "stdout",
          "output_type": "stream",
          "text": [
            "Angle between the z-axis and the surface of the cone (in degrees) = 54.74\n"
          ]
        }
      ],
      "source": [
        "# The angle between the z-axis and the surface of the cone for spin-1/2 particles\n",
        "\n",
        "ms = 0.5\n",
        "S = 0.5\n",
        "\n",
        "theta = ms/(np.sqrt(S*(S+1)))\n",
        "angle = np.arccos(theta)/(np.pi/180)\n",
        "\n",
        "print('Angle between the z-axis and the surface of the cone (in degrees) = %0.2f' %(angle))"
      ]
    },
    {
      "cell_type": "markdown",
      "metadata": {},
      "source": [
        "---\n",
        "\n",
        "### The Hamiltonian operator for a hydrogen atom"
      ]
    },
    {
      "cell_type": "markdown",
      "metadata": {},
      "source": [
        "The Hamiltonian operator can be represented by a matrix **H**, where the m,n<sup>th</sup> element is the [expectation value](https://en.wikipedia.org/wiki/Expectation_value_(quantum_mechanics)) of the Hamiltonian between the m<sup>th</sup> and n<sup>th</sup> state, represented in the product ($\\alpha$ / $\\beta$) basis,\n",
        "\n",
        "$$\n",
        "\\begin{aligned}\n",
        "\\textbf{H}_{m,n} &= \\langle m|\\hat{H}|n\\rangle \\\\\n",
        "&= \\begin{bmatrix} B_e + B_n + A & 0 & 0 & 0 \\\\ 0 & B_e + B_n - A & 2A & 0 \\\\ 0 & 2A & -B_e - B_n - A & 0 \\\\ 0 & 0 & 0 & -B_e -B_n +A \\end{bmatrix}\n",
        "\\end{aligned}\n",
        "$$\n",
        "\n",
        "Where $A = \\frac{a}{4}h$, $B_e = \\frac{g_e \\mu_B}{2}B_0$. and $B_n = \\frac{g_n \\mu_N}{2}B_0$. All elements on the diagonal represent the interactions of the spins with the external magnetic field. Off-diagonal elements give all spin-spin interactions.\n",
        "\n",
        "Let's reproduce the above with symbolic (analytical) mathematics."
      ]
    },
    {
      "cell_type": "code",
      "execution_count": 64,
      "metadata": {},
      "outputs": [
        {
          "data": {
            "text/latex": [
              "$\\displaystyle \\left[\\begin{matrix}\\frac{B_{0} g_{e} \\mu_{B}}{2} + \\frac{B_{0} g_{n} \\mu_{N}}{2} + \\frac{a h}{4} & 0 & 0 & 0\\\\0 & \\frac{B_{0} g_{e} \\mu_{B}}{2} + \\frac{B_{0} g_{n} \\mu_{N}}{2} - \\frac{a h}{4} & \\frac{a h}{2} & 0\\\\0 & \\frac{a h}{2} & - \\frac{B_{0} g_{e} \\mu_{B}}{2} - \\frac{B_{0} g_{n} \\mu_{N}}{2} - \\frac{a h}{4} & 0\\\\0 & 0 & 0 & - \\frac{B_{0} g_{e} \\mu_{B}}{2} - \\frac{B_{0} g_{n} \\mu_{N}}{2} + \\frac{a h}{4}\\end{matrix}\\right]$"
            ],
            "text/plain": [
              "Matrix([\n",
              "[B_0*g_e*mu_B/2 + B_0*g_n*mu_N/2 + a*h/4,                                       0,                                        0,                                        0],\n",
              "[                                      0, B_0*g_e*mu_B/2 + B_0*g_n*mu_N/2 - a*h/4,                                    a*h/2,                                        0],\n",
              "[                                      0,                                   a*h/2, -B_0*g_e*mu_B/2 - B_0*g_n*mu_N/2 - a*h/4,                                        0],\n",
              "[                                      0,                                       0,                                        0, -B_0*g_e*mu_B/2 - B_0*g_n*mu_N/2 + a*h/4]])"
            ]
          },
          "execution_count": 64,
          "metadata": {},
          "output_type": "execute_result"
        }
      ],
      "source": [
        "import sympy as smp\n",
        "import numpy as np\n",
        "from matplotlib import pyplot as plt\n",
        "\n",
        "# Constants\n",
        "a = smp.symbols('a')\n",
        "h = smp.symbols('h')\n",
        "ge = smp.symbols('g_e')\n",
        "gn = smp.symbols('g_n')\n",
        "muB = smp.symbols('mu_B')\n",
        "muN = smp.symbols('mu_N')\n",
        "B0 = smp.symbols('B_0')\n",
        "\n",
        "A = (a / 4) * h\n",
        "Be = (ge * muB) / 2 * B0\n",
        "Bn = (gn * muN) / 2 * B0\n",
        "\n",
        "H = smp.Matrix([[Be+Bn+A, 0, 0, 0], [0, Be+Bn-A, 2*A, 0], [0, 2*A, -Be-Bn-A, 0], [0, 0, 0, -Be-Bn+A]])\n",
        "H"
      ]
    },
    {
      "cell_type": "markdown",
      "metadata": {},
      "source": [
        "We now have the analytical form of the Hamiltonian operator, which we can now use for numerical calculations by converting the analytical form to the numerical form using the `smp.lambdify` function."
      ]
    },
    {
      "cell_type": "code",
      "execution_count": 65,
      "metadata": {},
      "outputs": [
        {
          "data": {
            "text/plain": [
              "<function _lambdifygenerated(a, h, g_e, g_n, mu_B, mu_N, B_0)>"
            ]
          },
          "execution_count": 65,
          "metadata": {},
          "output_type": "execute_result"
        }
      ],
      "source": [
        "H_f = smp.lambdify([a, h, ge, gn, muB, muN, B0], H)\n",
        "H_f"
      ]
    },
    {
      "cell_type": "code",
      "execution_count": 67,
      "metadata": {},
      "outputs": [
        {
          "data": {
            "image/png": "[encoded data removed]",
            "text/plain": [
              "<Figure size 432x288 with 1 Axes>"
            ]
          },
          "metadata": {
            "needs_background": "light"
          },
          "output_type": "display_data"
        }
      ],
      "source": [
        "# Constants\n",
        "h = 6.626e-34 # Planck's constant\n",
        "ge = 2.0023 # Electron g-value\n",
        "gn = 5.585695 # Proton g-value\n",
        "muB = 9.27400968e-24 # Bohr magneton for an electron\n",
        "muN = 5.05078324e-27 # Bohr magneton for a proton\n",
        "mT2MHz = 28.025e6 # Convert hyperfine coupling to Hz\n",
        "a = 50.7 * mT2MHz # hyperfine coupling constant for hydrogen in mT\n",
        "B = np.linspace(0,0.25,100)\n",
        "E_num = np.zeros([len(B), 4], dtype=np.complex128)\n",
        "\n",
        "# Start the magnetic field sweep\n",
        "for i,B0 in enumerate(B):\n",
        "        H_num = H_f(a, h, ge, gn, muB, muN, B0)\n",
        "        eig_num = np.linalg.eigh(H_num)\n",
        "        E_num[i] = eig_num[0] # 0 = eigenvalues, 1 = eigenvectors\n",
        "\n",
        "# Plot the result \n",
        "#%matplotlib notebook\n",
        "fig = plt.figure()\n",
        "ax = fig.add_axes([0, 0, 1, 1])\n",
        "ax.plot(B*1e3, np.real(E_num[:,::-1]), linewidth=2)\n",
        "ax.set_title(\"Zeeman interaction for a hydrogen atom\", size=16)\n",
        "ax.set_xlabel('$B_0$ (mT)', size=14)\n",
        "ax.set_ylabel('Spin state energy (J)', size=14)\n",
        "plt.tick_params(labelsize=14)\n",
        "plt.show()"
      ]
    },
    {
      "cell_type": "markdown",
      "metadata": {},
      "source": [
        "We previously calculated the eigenvalues and eigenvectors for a radical pair via computational methods. Let's try and do it the old fashioned way!\n",
        "\n",
        "The Hamiltonian for the H-atom is given by,\n",
        "\n",
        "$$\n",
        "\\hat{H}_{hyper} = a \\,\\mathbf{\\hat{s}} \\bullet \\mathbf{\\hat{i}} = \\frac{a}{4}\\hat{\\Omega},\n",
        "$$\n",
        "\n",
        "where \n",
        "\n",
        "$$\n",
        "\\hat{\\Omega} = \\begin{bmatrix} 1 & 0 & 0 & 0 \\\\ 0 & -1 & 2 & 0 \\\\ 0 & 2 & -1 & 0 \\\\ 0 & 0 & 0 & 1 \\end{bmatrix}\n",
        "$$\n",
        "\n",
        "* Spin state $\\color{red}{|1\\rangle}$:\n",
        "\n",
        "$$\n",
        "\\hat{\\Omega} = \\begin{bmatrix} \\color{red}{1} & \\color{red}{0} & \\color{red}{0} & \\color{red}{0} \\\\ \\color{red}{0} & -1 & 2 & 0 \\\\ \\color{red}{0} & 2 & -1 & 0 \\\\ \\color{red}{0} & 0 & 0 & 1 \\end{bmatrix}\n",
        "$$\n",
        "\n",
        "Already an eigenvector\n",
        "\n",
        "Eigenvector: $\\color{red}{|1\\rangle} = \\color{red}{|\\alpha_s\\rangle|\\alpha_i\\rangle}$\n",
        "\n",
        "Eigenvalue: $\\color{red}{E_1} = \\color{red}{\\frac{a}{4}}$\n",
        "\n",
        "---\n",
        "\n",
        "* Spin state $\\color{blue}{|4\\rangle}$:\n",
        "\n",
        "$$\n",
        "\\hat{\\Omega} = \\begin{bmatrix} 1 & 0 & 0 & \\color{blue}{0} \\\\ 0 & -1 & 2 & \\color{blue}{0} \\\\ 0 & 2 & -1 & \\color{blue}{0} \\\\ \\color{blue}{0} & \\color{blue}{0} & \\color{blue}{0} & \\color{blue}{1} \\end{bmatrix}\n",
        "$$\n",
        "\n",
        "Already an eigenvector\n",
        "\n",
        "Eigenvector: $\\color{blue}{|4\\rangle} = \\color{blue}{|\\beta_s\\rangle|\\beta_i\\rangle}$\n",
        "\n",
        "Eigenvalue: $\\color{blue}{E_4} = \\color{blue}{\\frac{a}{4}}$\n",
        "\n",
        "---\n",
        "\n",
        "* Spin states $\\color{orange}{|2\\rangle}$ and $\\color{orange}{|3\\rangle}$:\n",
        "\n",
        "$$\n",
        "\\hat{\\Omega} = \\begin{bmatrix} 1 & 0 & 0 & 0 \\\\ 0 & \\color{orange}{-1} & \\color{orange}{2} & 0 \\\\ 0 & \\color{orange}{2} & \\color{orange}{-1} & 0 \\\\ 0 & 0 & 0 & 1 \\end{bmatrix}\n",
        "$$\n",
        "\n",
        "Not an eigenvector, therefore, we need to solve for eignevectors and eigenvalues. For any operator,\n",
        "\n",
        "$$\n",
        "\\hat{\\Omega}|\\psi\\rangle = \\omega|\\psi\\rangle,\n",
        "$$\n",
        "\n",
        "then we introduce the identity (unit) vector, giving,\n",
        "\n",
        "$$\n",
        "\\hat{\\Omega}|\\psi\\rangle = \\omega \\hat{I}|\\psi\\rangle \\\\\n",
        "\\hat{\\Omega}|\\psi\\rangle - \\omega \\hat{I}|\\psi\\rangle = 0 \\\\\n",
        "(\\hat{\\Omega} - \\omega \\hat{I})|\\psi\\rangle = 0 \\\\\n",
        "det(\\hat{\\Omega} - \\omega \\hat{I}) = 0\n",
        "$$\n",
        "\n",
        "From this we can find the eigenvectors and eigenvalues for spin states $\\color{orange}{|2\\rangle}$ and $\\color{orange}{|3\\rangle}$. Our new matrices are,\n",
        "\n",
        "$$\n",
        "\\hat{\\Omega} = \\begin{bmatrix} -1 & 2 \\\\ 2 & -1 \\end{bmatrix}, \\,\\,\n",
        "\\hat{I} = \\begin{bmatrix} 1 & 0 \\\\ 0 & 1 \\end{bmatrix}, \\,\\,\n",
        "\\omega \\hat{I} = \\begin{bmatrix} \\omega & 0 \\\\ 0 & \\omega \\end{bmatrix}\n",
        "$$\n",
        "\n",
        "Giving,\n",
        "\n",
        "$$\n",
        "\\hat{\\Omega} - \\omega \\hat{I} = \\begin{bmatrix} -1 & 2 \\\\ 2 & -1 \\end{bmatrix} - \\begin{bmatrix} \\omega & 0 \\\\ 0 & \\omega \\end{bmatrix} = \\begin{bmatrix} -1-\\omega & 2 \\\\ 2 & -1-\\omega \\end{bmatrix}\n",
        "$$\n",
        "\n",
        "Therefore,\n",
        "\n",
        "$$\n",
        "\\begin{aligned}\n",
        "det(\\hat{\\Omega} - \\omega \\hat{I}) &= (-1-\\omega)^2 - 4 \\\\\n",
        "&= 1 + 2\\omega + \\omega^2 -4 \\\\\n",
        "&= \\omega^2 + 2\\omega - 3 \\\\\n",
        "&= (\\omega + 3) (\\omega - 1)\n",
        "\\end{aligned}\n",
        "$$\n",
        "\n",
        "The roots of this equation $\\omega = 1$ or $-3$ are the eigenvalues.\n",
        "\n",
        "$$\n",
        "(\\hat{\\Omega} - \\omega \\hat{I})|\\psi\\rangle = \n",
        "\\begin{bmatrix}\n",
        "-1-\\omega & 2 \\\\ \n",
        "2 & -1-\\omega \n",
        "\\end{bmatrix}\\begin{bmatrix} a \\\\ b \\end{bmatrix} = 0\n",
        "$$\n",
        "\n",
        "Where $\\omega = 1$,\n",
        "\n",
        "$$\n",
        "\\begin{bmatrix} -2a + 2b \\\\ 2a - 2b \\end{bmatrix} =\n",
        "\\begin{bmatrix} 0 \\\\ 0 \\end{bmatrix} \\implies\n",
        "a = b\n",
        "$$\n",
        "\n",
        "After normalising, we obtain,\n",
        "\n",
        "$$\n",
        "\\begin{bmatrix} a \\\\ b \\end{bmatrix} = \\frac{1}{\\sqrt{2}}\\begin{bmatrix} 1 \\\\ 1 \\end{bmatrix}\n",
        "$$\n",
        "\n",
        "Eigenvector: $\\color{orange}{|2\\rangle} = \\color{orange}{\\frac{1}{\\sqrt{2}}\\big(|\\alpha_s\\rangle|\\beta_i\\rangle + |\\beta_s\\rangle|\\alpha_i\\rangle\\big)}$\n",
        "\n",
        "Eigenvalue: $\\color{orange}{E_2} = \\color{orange}{\\frac{a}{4}}$\n",
        "\n",
        "---\n",
        "\n",
        "Now when $\\omega = -3$,\n",
        "\n",
        "$$\n",
        "\\begin{bmatrix} 2a + 2b \\\\ 2a + 2b \\end{bmatrix} =\n",
        "\\begin{bmatrix} 0 \\\\ 0 \\end{bmatrix} \\implies\n",
        "a = -b\n",
        "$$\n",
        "\n",
        "After normalising, we obtain,\n",
        "\n",
        "$$\n",
        "\\begin{bmatrix} a \\\\ -b \\end{bmatrix} = \\frac{1}{\\sqrt{2}}\\begin{bmatrix} 1 \\\\ -1 \\end{bmatrix}\n",
        "$$\n",
        "\n",
        "Eigenvector: $\\color{orange}{|3\\rangle} = \\color{orange}{\\frac{1}{\\sqrt{2}}\\big(|\\alpha_s\\rangle|\\beta_i\\rangle - |\\beta_s\\rangle|\\alpha_i\\rangle\\big)}$\n",
        "\n",
        "Eigenvalue: $\\color{orange}{E_3} = \\color{orange}{-\\frac{3a}{4}}$\n",
        "\n",
        "The above eigenvectors and eigenvalues are the zero field spin eigenstates of the hydrogen atom."
      ]
    },
    {
      "cell_type": "code",
      "execution_count": null,
      "metadata": {},
      "outputs": [],
      "source": []
    }
  ],
  "metadata": {
    "colab": {
      "collapsed_sections": [],
      "name": "colab-github-demo.ipynb",
      "provenance": [],
      "version": "0.3.2"
    },
    "kernelspec": {
      "display_name": "Python 3",
      "name": "python3"
    },
    "language_info": {
      "codemirror_mode": {
        "name": "ipython",
        "version": 3
      },
      "file_extension": ".py",
      "mimetype": "text/x-python",
      "name": "python",
      "nbconvert_exporter": "python",
      "pygments_lexer": "ipython3",
      "version": "3.10.2"
    }
  },
  "nbformat": 4,
  "nbformat_minor": 0
}
