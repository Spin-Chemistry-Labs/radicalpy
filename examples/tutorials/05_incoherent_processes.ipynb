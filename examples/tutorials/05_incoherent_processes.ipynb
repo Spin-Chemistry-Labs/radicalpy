{
  "cells": [
    {
      "cell_type": "markdown",
      "metadata": {
        "colab_type": "text",
        "id": "view-in-github"
      },
      "source": [
        "<a href=\"https://colab.research.google.com/github/Spin-Chemistry-Labs/radicalpy/blob/187-google-colab-tutorials/examples/tutorials/05_incoherent_processes.ipynb\" target=\"_parent\"><img src=\"https://colab.research.google.com/assets/colab-badge.svg\" alt=\"Open In Colab\"/></a>\n"
      ]
    },
    {
      "cell_type": "markdown",
      "metadata": {
        "colab_type": "text",
        "id": "-pVhOfzLx9us"
      },
      "source": [
        "# Tutorial 5 - Incoherent processes\n"
      ]
    },
    {
      "cell_type": "markdown",
      "metadata": {},
      "source": [
        "&copy; Lewis M. Antill, 2025"
      ]
    },
    {
      "cell_type": "markdown",
      "metadata": {},
      "source": [
        "This tutorial aims to introduce kinetic and relaxation superoperators and how they influence radical pair spin dynamics."
      ]
    },
    {
      "cell_type": "code",
      "execution_count": null,
      "metadata": {},
      "outputs": [],
      "source": [
        "!pip install radicalpy"
      ]
    },
    {
      "cell_type": "code",
      "execution_count": 2,
      "metadata": {},
      "outputs": [],
      "source": [
        "import ipywidgets as wdg\n",
        "import numpy as np\n",
        "import matplotlib.pyplot as plt\n",
        "\n",
        "import radicalpy as rp\n",
        "from radicalpy.experiments import magnetic_field_loop\n",
        "from radicalpy.kinetics import Haberkorn, HaberkornFree\n",
        "from radicalpy.relaxation import DipolarModulation, RandomFields, SingletTripletDephasing\n",
        "from radicalpy.simulation import Molecule, LiouvilleSimulation, State"
      ]
    },
    {
      "cell_type": "markdown",
      "metadata": {},
      "source": [
        "---\n",
        "\n",
        "### A more complete picture"
      ]
    },
    {
      "cell_type": "markdown",
      "metadata": {},
      "source": [
        "To fully capture chemical reactions and the influence of the environment on radical pairs, we need to include kinetic and relaxation terms in our spin Hamiltonian."
      ]
    },
    {
      "cell_type": "markdown",
      "metadata": {},
      "source": [
        "---\n",
        "\n",
        "### Kinetic Superoperators"
      ]
    },
    {
      "cell_type": "markdown",
      "metadata": {},
      "source": [
        "In Hilbert space we used the exponential model simulate a chemical reaction.\n",
        "However, this model depletes both singlet and triplet populations equally.\n",
        "We do not have complete control over the reaction pathways.\n",
        "\n",
        "Now we are in Liouville space, we can use kinetic superoperators to control which state is depleted.\n",
        "We will use the Haberkorn superoperators:\n",
        "\n",
        "* Singlet recombination\n",
        "$$\n",
        "\\hat{\\hat{K}} = -\\frac{k_{S}}{2} [\\hat{Q}_S ⊗ \\hat{I} + \\hat{I} ⊗ \\hat{Q}_S]\n",
        "$$\n",
        "\n",
        "* Triplet recombination\n",
        "$$\n",
        "\\hat{\\hat{K}} = -\\frac{k_{T}}{2} [\\hat{Q}_T ⊗ \\hat{I} + \\hat{I} ⊗ \\hat{Q}_T]\n",
        "$$\n",
        "\n",
        "* Free radical / downstream product\n",
        "$$\n",
        "\\hat{\\hat{K}} = -k_{f} [\\hat{E} ⊗ \\hat{E}]\n",
        "$$"
      ]
    },
    {
      "cell_type": "code",
      "execution_count": null,
      "metadata": {},
      "outputs": [
        {
          "data": {
            "application/vnd.jupyter.widget-view+json": {
              "model_id": "813d042d25b44dd1ae9ab233d577ed15",
              "version_major": 2,
              "version_minor": 0
            },
            "text/plain": [
              "interactive(children=(Dropdown(description='kinetic_model', options=('Haberkorn(S)', 'Haberkorn(T)', 'Haberkor…"
            ]
          },
          "metadata": {},
          "output_type": "display_data"
        }
      ],
      "source": [
        "def build_sim(hfc1, hfc2):\n",
        "    radical_1 = Molecule.fromisotopes(name=\"radical 1\", isotopes=[\"1H\"], hfcs=[hfc1])\n",
        "    radical_2 = Molecule.fromisotopes(name=\"radical 2\", isotopes=[\"1H\"], hfcs=[hfc2])\n",
        "    return LiouvilleSimulation([radical_1, radical_2])\n",
        "\n",
        "states = {\n",
        "    \"S\": State.SINGLET,\n",
        "    \"T\": State.TRIPLET,\n",
        "    \"T+\": State.TRIPLET_PLUS,\n",
        "    \"T0\": State.TRIPLET_ZERO,\n",
        "    \"T-\": State.TRIPLET_MINUS\n",
        "}\n",
        "\n",
        "def kinetic_model(model, ks):\n",
        "    if model == \"Haberkorn(S)\":\n",
        "        return [Haberkorn(ks, State.SINGLET)]\n",
        "    elif model == \"Haberkorn(T)\":\n",
        "        return [Haberkorn(ks, State.TRIPLET)]\n",
        "    elif model == \"HaberkornFree\":\n",
        "        return [HaberkornFree(ks)]\n",
        "    else:\n",
        "        return []\n",
        "\n",
        "def nearest_index(arr, value):\n",
        "    arr = np.asarray(arr)\n",
        "    return int(np.argmin(np.abs(arr - value)))\n",
        "\n",
        "def haberkorn_kinetics(sim, init, obs, tmax, Bfield, k, J, D, kinetics_model):\n",
        "    dB = 0.5\n",
        "    B0 = np.arange(0.0, 20.0 + 1e-9, dB)\n",
        "    b_idx = nearest_index(B0, Bfield)\n",
        "\n",
        "    time = np.arange(0, tmax, 10e-9)\n",
        "\n",
        "    kinetics = kinetic_model(kinetics_model, k)\n",
        "\n",
        "    init_state = states[init]\n",
        "    obs_state  = states[obs]\n",
        "\n",
        "    H = sim.total_hamiltonian(B0=0, D=D, J=J)\n",
        "    sim.apply_liouville_hamiltonian_modifiers(H, kinetics)\n",
        "    rhos = magnetic_field_loop(sim, init_state, time, H, B0, B_axis=\"z\")\n",
        "    product_probabilities = sim.product_probability(obs_state, rhos)\n",
        "\n",
        "    sim.apply_hilbert_kinetics(time, product_probabilities, kinetics)\n",
        "    k = kinetics[0].rate_constant if kinetics else 1.0\n",
        "    product_yields, product_yield_sums = sim.product_yield(product_probabilities, time, k)\n",
        "\n",
        "    x = time * 1e6 \n",
        "\n",
        "    fig = plt.figure()\n",
        "    plt.plot(x, product_probabilities[b_idx], linewidth=2, label=r\"$P_i(t)$\")\n",
        "    plt.fill_between(x, product_yields[b_idx], alpha=0.2, label=r\"$\\Phi_i$\")\n",
        "    plt.xlabel(\"Time / $\\mu s$\", size=14)\n",
        "    plt.ylabel(\"Probability\", size=14)\n",
        "    plt.ylim([0, 1])\n",
        "    plt.legend(fontsize=14)\n",
        "    fig.set_size_inches([5, 2.5])\n",
        "\n",
        "    print(f\"[{kinetics_model}] PY(B={B0[b_idx]:.1f} mT) = {product_yield_sums[b_idx]:.6g}\")\n",
        "\n",
        "@wdg.interact(\n",
        "    kinetic_model = [\"Haberkorn(S)\", \"Haberkorn(T)\", \"HaberkornFree\"],\n",
        "    init=[\"S\", \"T\", \"T+\", \"T0\", \"T-\"],\n",
        "    obs=[\"S\", \"T\", \"T+\", \"T0\", \"T-\"],\n",
        "    hfc1 = wdg.FloatSlider(min=0.0, max=2.0, step=0.5, value=0),\n",
        "    hfc2 = wdg.FloatSlider(min=0.0, max=2.0, step=0.5, value=0),\n",
        "    tmax=wdg.SelectionSlider(options=[(\"%g\" % i, i) for i in np.arange(1e-6, 5e-6, 1e-6)]),\n",
        "    Bfield=wdg.FloatSlider(min=0.0, max=20.0, step=0.1, value=0.0, description=\"B (mT)\"),\n",
        "    k=wdg.SelectionSlider(options=[(\"%g\" % i, i) for i in np.arange(0, 1e8, 1e5)]),\n",
        "    J=wdg.FloatSlider(min=-20, max=20, step=0.1, value=0.0),\n",
        "    D=wdg.FloatSlider(min=-20, max=0, step=0.1, value=0.0)\n",
        ")\n",
        "def update(kinetic_model=\"Haberkorn(S)\", init=\"S\", obs=\"S\", hfc1=0, hfc2=0, tmax=1e-6, Bfield=0.0, k=0, J=0, D=0):\n",
        "    sim = build_sim(hfc1, hfc2)\n",
        "    haberkorn_kinetics(sim, init, obs, tmax, Bfield, k, J, D, kinetic_model)\n"
      ]
    },
    {
      "cell_type": "markdown",
      "metadata": {},
      "source": [
        "---\n",
        "\n",
        "### Relaxation"
      ]
    },
    {
      "cell_type": "markdown",
      "metadata": {},
      "source": [
        "Spin relaxation is the process that drives the electron-nuclear spin system of the radical pair towards thermal equilibrium.\n",
        "This destroys the spin coherence that is essential for magnetic field effects / magnetic resonance in radical pairs. \n",
        "\n",
        "We introduce the following relaxation mechanisms:\n",
        "* J-modulation (Singlet-Triplet dephasing (STD)) \n",
        "* D-modulation (Dipolar modulation)\n",
        "* Random fields relaxation (RFR)\n"
      ]
    },
    {
      "cell_type": "markdown",
      "metadata": {},
      "source": [
        "### Modulation by fluctuations in distance"
      ]
    },
    {
      "cell_type": "markdown",
      "metadata": {},
      "source": [
        "Electron-electron exchange (J) and dipolar (D) couplings both depend on the distance between the centres of the electron spin density of the two radicals (r). If the distance between the two radicals changes during the lifetime of the radical pair, a modulation of J or D can occur.\n",
        "\n",
        "Typical modulation mechanisms:\n",
        "* Electron hopping between two radical pairs (*e.g.*, cryptochrome).\n",
        "* Flexible biradicals (*e.g.*, FAD).\n",
        "\n",
        "<img src=\"figures/modulation.png\" width=\"1000\" height=\"300\" align=\"center\"/>"
      ]
    },
    {
      "cell_type": "markdown",
      "metadata": {},
      "source": [
        "#### J-modulation"
      ]
    },
    {
      "cell_type": "markdown",
      "metadata": {},
      "source": [
        "J-modulation can cause spin relaxation.\n",
        "If fluctuations in the exchange interaction (J) occur on a faster timescale than the coherent spin dynamics, spin relaxation can transpire. \n",
        "The rate is given by $k_{STD}$:\n",
        "\n",
        "$$\n",
        "k_{STD} = 4\\langle[(J(r(t)) - J_{av})^2]\\rangle\\tau_c\n",
        "$$\n",
        "\n",
        "$\\tau_c$ = correlation time = timescale of fluctuations\n",
        "\n",
        "Rates are typically between $10^6$ $s^{-1}$ to $10^9$ $s^{-1}$.\n",
        "\n",
        "J-modulation relaxes the following density matrix elements:\n",
        "\n",
        "$$\n",
        "\\langle S | \\hat{\\rho} | T_m \\rangle\n",
        "$$\n",
        "\n",
        "It is therefore referred to as ‘singlet-triplet dephasing’:\n",
        "\n",
        "$$\n",
        "\\hat{\\hat{R}} = k_{STD} [\\hat{Q}_S ⊗ \\hat{Q}_T + \\hat{Q}_T ⊗ \\hat{Q}_S]\n",
        "$$"
      ]
    },
    {
      "cell_type": "markdown",
      "metadata": {},
      "source": [
        "#### D-modulation"
      ]
    },
    {
      "cell_type": "markdown",
      "metadata": {},
      "source": [
        "D-modulation can also cause spin relaxation.\n",
        "If fluctuations in the dipolar coupling (D) occur on a faster timescale than the coherent spin dynamics, spin relaxation can also emerge. The rate is given by kD:\n",
        "\n",
        "$$\n",
        "k_D = \\langle[(D(r(t)) - D_{av})^2]\\rangle\\tau_c\n",
        "$$\n",
        "\n",
        "D-modulation does not relax the density matrix element,\n",
        "\n",
        "$$\n",
        "\\langle T_+ | \\hat{\\rho} | T_- \\rangle\n",
        "$$\n",
        "\n",
        "But all other density matrix elements and therefore, it leads to both ‘singlet-triplet dephasing’ and ‘triplet-triplet dephasing’:\n",
        "\n",
        "$$\n",
        "\\hat{\\hat{R}} = k_D [\\frac{1}{9} \\hat{Q}_S ⊗ \\hat{Q}_{T+} + \\frac{1}{9} \\hat{Q}_{T+} ⊗ \\hat{Q}_S +  \\frac{1}{9} \\hat{Q}_S ⊗ \\hat{Q}_{T-} + \\frac{1}{9} \\hat{Q}_{T-} ⊗ \\hat{Q}_S + \\\\ \\frac{4}{9} \\hat{Q}_S ⊗ \\hat{Q}_{T0} + \\frac{4}{9} \\hat{Q}_{T0} ⊗ \\hat{Q}_S + \\hat{Q}_{T+} ⊗ \\hat{Q}_{T0} + \\\\ \\hat{Q}_{T0} ⊗ \\hat{Q}_{T+} + \\hat{Q}_{T-} ⊗ \\hat{Q}_{T0} + \\hat{Q}_{T0} ⊗ \\hat{Q}_{T-}]\n",
        "$$"
      ]
    },
    {
      "cell_type": "markdown",
      "metadata": {},
      "source": [
        "### Random fields relaxation"
      ]
    },
    {
      "cell_type": "markdown",
      "metadata": {},
      "source": [
        "‘Random fields’ relaxation (RFR) causes indefinite, uncorrelated molecular motions which cause the expectation values of all three spin angular momentum operators (Sx, Sy, Sz) of both electrons to relax independently with the same rate constant ($k_{RFR}$).\n",
        "The spins relax isotropically and drive the singlet yield to zero (monotonically) as $k_{RFR}$ is increased and is given by:\n",
        "\n",
        "$$\n",
        "\\hat{\\hat{R}} = k_{RFR} [1.5 \\times E ⊗ E - S_{Ax} ⊗ \\tilde{S}_{Ax} - S_{Ay} ⊗ \\tilde{S}_{Ay} - S_{Az} ⊗ \\tilde{S}_{Az} \\\\ \n",
        "- S_{Bx} ⊗ \\tilde{S}_{Bx} - S_{By} ⊗ \\tilde{S}_{By} - S_{Bz} ⊗ \\tilde{S}_{Bz}]\n",
        "$$\n",
        "\n",
        "Where $\\tilde{}$ is the transpose."
      ]
    },
    {
      "cell_type": "code",
      "execution_count": null,
      "metadata": {},
      "outputs": [
        {
          "data": {
            "application/vnd.jupyter.widget-view+json": {
              "model_id": "608c9a0214404f1bbab17a99b2d1c98f",
              "version_major": 2,
              "version_minor": 0
            },
            "text/plain": [
              "interactive(children=(Dropdown(description='kinetic_model', options=('Haberkorn(S)', 'Haberkorn(T)', 'Haberkor…"
            ]
          },
          "metadata": {},
          "output_type": "display_data"
        }
      ],
      "source": [
        "def relaxation_model(model, krelax):\n",
        "    if model == \"SingletTripletDephasing\":\n",
        "        return [SingletTripletDephasing(krelax)]\n",
        "    elif model == \"DipolarModulation\":\n",
        "        return [DipolarModulation(krelax)]\n",
        "    elif model == \"RandomFields\":\n",
        "        return [RandomFields(krelax)]\n",
        "    else:\n",
        "        return []\n",
        "\n",
        "\n",
        "def relaxation(sim, init, obs, tmax, Bfield, k, k_relax, J, D, kinetics_model, relaxations_model):\n",
        "    dB = 0.5\n",
        "    B0 = np.arange(0.0, 20.0 + 1e-9, dB)\n",
        "    b_idx = nearest_index(B0, Bfield)\n",
        "\n",
        "    time = np.arange(0, tmax, 10e-9)\n",
        "\n",
        "    kinetics = kinetic_model(kinetics_model, k)\n",
        "    relaxations = relaxation_model(relaxations_model, k_relax)\n",
        "\n",
        "    init_state = states[init]\n",
        "    obs_state  = states[obs]\n",
        "\n",
        "    H = sim.total_hamiltonian(B0=0, D=D, J=J)\n",
        "    sim.apply_liouville_hamiltonian_modifiers(H, kinetics + relaxations)\n",
        "    rhos = magnetic_field_loop(sim, init_state, time, H, B0, B_axis=\"z\")\n",
        "    product_probabilities = sim.product_probability(obs_state, rhos)\n",
        "\n",
        "    sim.apply_hilbert_kinetics(time, product_probabilities, kinetics)\n",
        "    k = kinetics[0].rate_constant if kinetics else 1.0\n",
        "    product_yields, product_yield_sums = sim.product_yield(product_probabilities, time, k)\n",
        "\n",
        "    x = time * 1e6 \n",
        "\n",
        "    fig = plt.figure()\n",
        "    plt.plot(x, product_probabilities[b_idx], linewidth=2, label=r\"$P_i(t)$\")\n",
        "    plt.fill_between(x, product_yields[b_idx], alpha=0.2, label=r\"$\\Phi_i$\")\n",
        "    plt.xlabel(\"Time / $\\mu s$\", size=14)\n",
        "    plt.ylabel(\"Probability\", size=14)\n",
        "    plt.ylim([0, 1])\n",
        "    plt.legend(fontsize=14)\n",
        "    fig.set_size_inches([5, 2.5])\n",
        "\n",
        "    print(f\"[{kinetics_model} | {relaxations_model}] PY(B={B0[b_idx]:.1f} mT) = {product_yield_sums[b_idx]:.6g}\")\n",
        "\n",
        "@wdg.interact(\n",
        "    kinetic_model = [\"Haberkorn(S)\", \"Haberkorn(T)\", \"HaberkornFree\"],\n",
        "    relaxation_model = [\"SingletTripletDephasing\", \"DipolarModulation\", \"RandomFields\"],\n",
        "    init=[\"S\", \"T\", \"T+\", \"T0\", \"T-\"],\n",
        "    obs=[\"S\", \"T\", \"T+\", \"T0\", \"T-\"],\n",
        "    hfc1 = wdg.FloatSlider(min=0.0, max=2.0, step=0.5, value=0),\n",
        "    hfc2 = wdg.FloatSlider(min=0.0, max=2.0, step=0.5, value=0),\n",
        "    tmax=wdg.SelectionSlider(options=[(\"%g\" % i, i) for i in np.arange(1e-6, 5e-6, 1e-6)]),\n",
        "    Bfield=wdg.FloatSlider(min=0.0, max=20.0, step=0.1, value=0.0, description=\"B (mT)\"),\n",
        "    k=wdg.SelectionSlider(options=[(\"%g\" % i, i) for i in np.arange(0, 1e8, 1e5)]),\n",
        "    k_relax=wdg.SelectionSlider(options=[(\"%g\" % i, i) for i in np.arange(0, 1e8, 1e5)]),\n",
        "    J=wdg.FloatSlider(min=-20, max=20, step=0.1, value=0.0),\n",
        "    D=wdg.FloatSlider(min=-20, max=0, step=0.1, value=0.0)\n",
        ")\n",
        "def update(kinetic_model=\"None\", relaxation_model=\"None\", init=\"S\", obs=\"S\", hfc1=0, hfc2=0, tmax=1e-6, Bfield=0.0, k=0, k_relax=0, J=0, D=0):\n",
        "    sim = build_sim(hfc1, hfc2)\n",
        "    relaxation(sim, init, obs, tmax, Bfield, k, k_relax, J, D, kinetic_model, relaxation_model)\n"
      ]
    },
    {
      "cell_type": "code",
      "execution_count": null,
      "metadata": {},
      "outputs": [],
      "source": []
    }
  ],
  "metadata": {
    "colab": {
      "collapsed_sections": [],
      "name": "colab-github-demo.ipynb",
      "provenance": [],
      "version": "0.3.2"
    },
    "kernelspec": {
      "display_name": "Python 3",
      "name": "python3"
    },
    "language_info": {
      "codemirror_mode": {
        "name": "ipython",
        "version": 3
      },
      "file_extension": ".py",
      "mimetype": "text/x-python",
      "name": "python",
      "nbconvert_exporter": "python",
      "pygments_lexer": "ipython3",
      "version": "3.10.2"
    }
  },
  "nbformat": 4,
  "nbformat_minor": 0
}
