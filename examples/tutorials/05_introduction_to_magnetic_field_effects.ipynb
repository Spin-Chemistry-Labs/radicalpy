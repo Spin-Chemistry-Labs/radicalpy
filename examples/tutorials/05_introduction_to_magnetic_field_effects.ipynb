{
  "cells": [
    {
      "cell_type": "markdown",
      "metadata": {
        "colab_type": "text",
        "id": "view-in-github"
      },
      "source": [
        "<a href=\"https://colab.research.google.com/github/Spin-Chemistry-Labs/radicalpy/blob/187-google-colab-tutorials/examples/tutorials/05_introduction_to_magnetic_field_effects.ipynb\" target=\"_parent\"><img src=\"https://colab.research.google.com/assets/colab-badge.svg\" alt=\"Open In Colab\"/></a>\n"
      ]
    },
    {
      "cell_type": "markdown",
      "metadata": {
        "colab_type": "text",
        "id": "-pVhOfzLx9us"
      },
      "source": [
        "# Tutorial 5 - Introduction to magnetic field effects\n"
      ]
    },
    {
      "cell_type": "markdown",
      "metadata": {},
      "source": [
        "&copy; Lewis M. Antill, 2025"
      ]
    },
    {
      "cell_type": "markdown",
      "metadata": {},
      "source": [
        "This tutorial aims to..."
      ]
    },
    {
      "cell_type": "code",
      "execution_count": 1,
      "metadata": {},
      "outputs": [],
      "source": [
        "import matplotlib.pyplot as plt\n",
        "import numpy as np\n",
        "\n",
        "import radicalpy as rp\n",
        "from radicalpy import relaxation\n",
        "from radicalpy.experiments import mary\n",
        "from radicalpy.simulation import State"
      ]
    },
    {
      "cell_type": "code",
      "execution_count": 2,
      "metadata": {},
      "outputs": [
        {
          "name": "stderr",
          "output_type": "stream",
          "text": [
            "100%|██████████| 40/40 [00:06<00:00,  6.63it/s]\n"
          ]
        },
        {
          "name": "stdout",
          "output_type": "stream",
          "text": [
            "HFE =  0.53 %\n",
            "LFE =  0.00 %\n",
            "B1/2 =  1.97 mT\n",
            "B1/2 fit error =  0.03 mT\n",
            "R^2 for B1/2 fit =  0.995\n"
          ]
        },
        {
          "data": {
            "image/png": "[encoded data removed]",
            "text/plain": [
              "<Figure size 432x288 with 1 Axes>"
            ]
          },
          "metadata": {
            "needs_background": "light"
          },
          "output_type": "display_data"
        }
      ],
      "source": [
        "Bmax=20\n",
        "dB=0.5\n",
        "tmax=10e-6\n",
        "dt=10e-9\n",
        "flavin = rp.simulation.Molecule.fromdb(\"flavin_anion\", [\"H25\"])  # , \"H27\", \"H29\"])\n",
        "trp = rp.simulation.Molecule.fromdb(\"tryptophan_cation\", [\"H1\"])  # , \"Hbeta1\"])\n",
        "sim = rp.simulation.LiouvilleSimulation([flavin, trp])\n",
        "time = np.arange(0, tmax, dt)\n",
        "Bs = np.arange(0, Bmax, dB)\n",
        "krec = 1.1e7\n",
        "kesc = 7e6\n",
        "kSTD = 1e8\n",
        "kr = 7e7\n",
        "\n",
        "results = mary(\n",
        "    sim,\n",
        "    init_state=State.TRIPLET,\n",
        "    obs_state=State.TRIPLET,\n",
        "    time=time,\n",
        "    B=Bs,\n",
        "    D=0,\n",
        "    J=0,\n",
        "    kinetics=[\n",
        "        rp.kinetics.Haberkorn(krec, State.SINGLET),\n",
        "        rp.kinetics.HaberkornFree(kesc),\n",
        "    ],\n",
        "    relaxations=[\n",
        "        relaxation.SingletTripletDephasing(kSTD),\n",
        "        relaxation.RandomFields(kr),\n",
        "    ],\n",
        ")\n",
        "MARY = results[\"MARY\"]\n",
        "HFE = results[\"HFE\"]\n",
        "LFE = results[\"LFE\"]\n",
        "\n",
        "# np.save(\"./examples/data/fad_mary/results_5nuc_liouville_relaxation.npy\", results)\n",
        "\n",
        "Bhalf, fit_result, fit_error, R2 = rp.utils.Bhalf_fit(Bs, MARY)\n",
        "\n",
        "plt.plot(Bs, MARY, color=\"red\", linewidth=2)\n",
        "plt.plot(Bs, fit_result, \"k--\", linewidth=1, label=\"Lorentzian fit\")\n",
        "\n",
        "plt.xlabel(\"$B_0 (mT)$\")\n",
        "plt.ylabel(\"MFE (%)\")\n",
        "plt.title(\"\")\n",
        "plt.legend([r\"Simulation\", r\"Fit\"])\n",
        "\n",
        "print(f\"HFE = {HFE: .2f} %\")\n",
        "print(f\"LFE = {LFE: .2f} %\")\n",
        "print(f\"B1/2 = {Bhalf: .2f} mT\")\n",
        "print(f\"B1/2 fit error = {fit_error[1]: .2f} mT\")\n",
        "print(f\"R^2 for B1/2 fit = {R2: .3f}\")"
      ]
    },
    {
      "cell_type": "code",
      "execution_count": null,
      "metadata": {},
      "outputs": [],
      "source": []
    }
  ],
  "metadata": {
    "colab": {
      "collapsed_sections": [],
      "name": "colab-github-demo.ipynb",
      "provenance": [],
      "version": "0.3.2"
    },
    "kernelspec": {
      "display_name": "Python 3",
      "name": "python3"
    },
    "language_info": {
      "codemirror_mode": {
        "name": "ipython",
        "version": 3
      },
      "file_extension": ".py",
      "mimetype": "text/x-python",
      "name": "python",
      "nbconvert_exporter": "python",
      "pygments_lexer": "ipython3",
      "version": "3.10.2"
    }
  },
  "nbformat": 4,
  "nbformat_minor": 0
}
