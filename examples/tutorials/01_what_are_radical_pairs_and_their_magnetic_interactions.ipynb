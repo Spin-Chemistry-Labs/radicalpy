{
  "cells": [
    {
      "cell_type": "markdown",
      "metadata": {
        "colab_type": "text",
        "id": "view-in-github"
      },
      "source": [
        "<a href=\"https://colab.research.google.com/github/Spin-Chemistry-Labs/radicalpy/blob/187-google-colab-tutorials/examples/tutorials/01_what_are_radical_pairs_and_their_magnetic_interactions.ipynb\" target=\"_parent\"><img src=\"https://colab.research.google.com/assets/colab-badge.svg\" alt=\"Open In Colab\"/></a>\n"
      ]
    },
    {
      "cell_type": "markdown",
      "metadata": {
        "colab_type": "text",
        "id": "-pVhOfzLx9us"
      },
      "source": [
        "# Tutorial 1 - What are radical pairs and their magnetic interactions\n",
        "\n"
      ]
    },
    {
      "cell_type": "markdown",
      "metadata": {},
      "source": [
        "This tutorial aims to introduce key concepts of [electrons](https://en.wikipedia.org/wiki/Electron), [spins](https://en.wikipedia.org/wiki/Spin_(physics)), [magnetic moments](https://en.wikipedia.org/wiki/Magnetic_moment), the [Zeeman effect](https://en.wikipedia.org/wiki/Zeeman_effect), and the [spin Hamiltonian](https://en.wikipedia.org/wiki/Hamiltonian_(quantum_mechanics)). These key concepts are presented in a hybrid style incorporating text and coding ([Python](https://www.python.org/)) in the same document, hoping to provide a more interactive learning approach."
      ]
    },
    {
      "cell_type": "code",
      "execution_count": 9,
      "metadata": {},
      "outputs": [],
      "source": [
        "# pip install radicalpy\n",
        "# pip install ipywidget\n",
        "# pip install pint"
      ]
    },
    {
      "cell_type": "code",
      "execution_count": 38,
      "metadata": {},
      "outputs": [],
      "source": [
        "import ipywidgets as wdg\n",
        "import matplotlib.pyplot as plt\n",
        "import numpy as np\n",
        "import pint\n",
        "import radicalpy as rp\n",
        "from radicalpy.shared import constants as C"
      ]
    },
    {
      "cell_type": "markdown",
      "metadata": {},
      "source": [
        "### Spin quantum numbers and spin multiplicity"
      ]
    },
    {
      "cell_type": "markdown",
      "metadata": {},
      "source": [
        "Electrons possess a [spin quantum number](https://en.wikipedia.org/wiki/Spin_quantum_number), $S$ = $\\frac{1}{2}$. [Spin multiplicity](https://en.wikipedia.org/wiki/Multiplicity_(chemistry)) = $2 S + 1$, and tell us the number of possible spin orientations, indicating the amount of [unpaired spin](https://en.wikipedia.org/wiki/Unpaired_electron). The following table displays spin multiplicity for various $S$ values,\n",
        "\n",
        "| $S$ | 2S+1 | Spin state |\n",
        "| :-: | :-: | :-: |\n",
        "| 0 | 1 | Singlet |\n",
        "| 1/2 | 2 | Doublet |\n",
        "| 1 | 3 | Triplet |\n",
        "| 3/2 | 4 | Quartet |\n",
        "| 2 | 5 | Quintet |\n",
        "\n",
        "Electrons are doublets and therefore have two [magnetic quantum numbers](https://en.wikipedia.org/wiki/Magnetic_quantum_number) (two spin states), $m_s = \\color{magenta}{+\\frac{1}{2}}$ and $m_s = \\color{red}{-\\frac{1}{2}}$. These two magnetic quantum numbers are commonly referred to in various ways,\n",
        "\n",
        "| $m_s$ = $\\color{magenta}{+\\frac{1}{2}}$ | $m_s$ = $\\color{red}{-\\frac{1}{2}}$ |\n",
        "| :-: | :-: |\n",
        "| <font color='magenta'>spin up</font> | <font color='red'>spin down</font> |\n",
        "| $\\color{magenta}{\\alpha}$ | $\\color{red}{\\beta}$ |\n",
        "| $\\color{magenta}{\\upharpoonleft}$ | $\\color{red}{\\downharpoonright}$ |\n",
        "\n",
        "Now let's have a look at calculating spin multiplicity (`SM`)."
      ]
    },
    {
      "cell_type": "code",
      "execution_count": null,
      "metadata": {},
      "outputs": [
        {
          "data": {
            "application/vnd.jupyter.widget-view+json": {
              "model_id": "6a4a564b49dd4fb9ae56abf0ebdc6dde",
              "version_major": 2,
              "version_minor": 0
            },
            "text/plain": [
              "interactive(children=(FloatSlider(value=0.0, description='S', max=5.0, step=0.5), Output()), _dom_classes=('wi…"
            ]
          },
          "metadata": {},
          "output_type": "display_data"
        },
        {
          "data": {
            "application/vnd.jupyter.widget-view+json": {
              "model_id": "48d8a114e6664ff49dfc7ec40eafcb94",
              "version_major": 2,
              "version_minor": 0
            },
            "text/plain": [
              "Label(value='Spin Multiplicity')"
            ]
          },
          "metadata": {},
          "output_type": "display_data"
        }
      ],
      "source": [
        "slider = wdg.interact(lambda S:2*S+1, S = wdg.FloatSlider(min = 0, step = 0.5, max = 5, value = 0, description = 'S'))\n",
        "wdg.Label(value = \"Spin Multiplicity\")"
      ]
    },
    {
      "cell_type": "markdown",
      "metadata": {},
      "source": [
        "### Zeeman energy"
      ]
    },
    {
      "cell_type": "markdown",
      "metadata": {},
      "source": [
        "You can change the value of `S` to give you the number of spin states (`SM`) for your [particle](https://en.wikipedia.org/wiki/Particle_physics) of choice, for example, an electron or [proton](https://en.wikipedia.org/wiki/Proton) (`S = 0.5`), a [nitrogen atom](https://en.wikipedia.org/wiki/Nitrogen) (`S = 1`), or a radical pair (`S = 0 or 1`).\n",
        "\n",
        "A particle with both spin and charge can generate a [magnetic field](https://en.wikipedia.org/wiki/Magnetic_field), which is called the *magnetic moment*. For electrons, this is called the *magnetic dipole moment* ($\\mathbf{\\mu}$) and is proportional to its spin [angular momentum](https://en.wikipedia.org/wiki/Angular_momentum) ($\\mathbf{s}$),\n",
        "\n",
        "$$\n",
        "\\mathbf{\\mu} = \\gamma \\mathbf{s}\n",
        "$$\n",
        "\n",
        "where $\\gamma$ is the proportionality constant. When $\\mu$ is parallel to $\\mathbf{s}$, $\\gamma > 0$, and when $\\mu$ is antiparallel to $\\mathbf{s}$, $\\gamma < 0$.\n",
        "\n",
        "| Particle | $\\gamma (10^{7} rad T^{-1} s^{-1}$) |\n",
        "| :-: | :-: |\n",
        "| 1H | 26.75 |\n",
        "| Electron | -17,609 |\n",
        "\n",
        "Is it clear that the electron is ~1000 times a stronger magnet than hydrogen. The electron's magnetic moment aligns itself either parallel ($m_s = \\color{magenta}{+\\frac{1}{2}}$) or anitparallel ($m_s = \\color{red}{-\\frac{1}{2}}$) to an external magentic field ($B{_0}$) with energies corresponding to the Zeeman effect,\n",
        "\n",
        "$$\n",
        "E = m_s g_e \\mu_B B_0\n",
        "$$\n",
        "\n",
        "Let's calculate the [Zeeman energy](https://en.wikipedia.org/wiki/Zeeman_energy) (`E`) for a free electron. The `pint` package allows one to define, operate and manipulate physical quantities with the product of a numerical value and a unit of measurement. In the following example, the [Bohr magneton](https://en.wikipedia.org/wiki/Bohr_magneton) ($\\mu_B$) = $9.27400949 \\times 10^{-24} J T^{-1}$ has been given the name `muB`, its value `9.27400949e-24`, and its units `* u('J / T')`. Conversion from *J* to *yJ* is achieved with `.to('yj')`. Using the `pint` package removes the need of keeping track of units when multiple calculations are required. "
      ]
    },
    {
      "cell_type": "code",
      "execution_count": 27,
      "metadata": {},
      "outputs": [
        {
          "name": "stdout",
          "output_type": "stream",
          "text": [
            "Zeeman energy = 9.28 yoctojoule\n"
          ]
        }
      ],
      "source": [
        "u = pint.UnitRegistry()\n",
        "u.formatter.default_format = '.2f' # Rounding numbers to 2 significant figures\n",
        "\n",
        "# Calculate the Zeeman energy\n",
        "ms = 0.5 # magnetic quantum number\n",
        "ge = C.g_e  \n",
        "muB = 9.27400949e-24 * u('J / T') # Bohr magneton in J/T\n",
        "B0 = 1 * u.T # External magnetic field in T\n",
        "E = ms * ge * muB * B0 # Zeeman energy in J\n",
        "print('Zeeman energy =', E.to('yJ')) # y = yocto = 10^-24"
      ]
    },
    {
      "cell_type": "markdown",
      "metadata": {},
      "source": [
        "The code below allows you to change the value of `E` with a slider, giving the calculated Zeeman energy."
      ]
    },
    {
      "cell_type": "code",
      "execution_count": 28,
      "metadata": {},
      "outputs": [
        {
          "data": {
            "application/vnd.jupyter.widget-view+json": {
              "model_id": "d7956babb778460ca5402f9734eb7b99",
              "version_major": 2,
              "version_minor": 0
            },
            "text/plain": [
              "interactive(children=(FloatSlider(value=0.0, description='B0 (T)', max=10.0, readout_format='.3f', step=1e-05)…"
            ]
          },
          "metadata": {},
          "output_type": "display_data"
        },
        {
          "data": {
            "application/vnd.jupyter.widget-view+json": {
              "model_id": "4c2247c603b74cf8bcaa69f0cb5a7d32",
              "version_major": 2,
              "version_minor": 0
            },
            "text/plain": [
              "Label(value='Zeeman energy (yJ)')"
            ]
          },
          "metadata": {},
          "output_type": "display_data"
        }
      ],
      "source": [
        "muB = C.mu_B  # Bohr magneton in J/T\n",
        "B0 = 1  # External magnetic field in T\n",
        "\n",
        "slider = wdg.interact(lambda B0:(ms*ge*muB*B0)*1e24, B0 = wdg.FloatSlider(min = 0, step = 0.00001, max = 10, value = 0, description = 'B0 (T)', readout_format = '.3f'))\n",
        "wdg.Label(value = \"Zeeman energy (yJ)\")"
      ]
    },
    {
      "cell_type": "markdown",
      "metadata": {},
      "source": [
        "### Energy level splitting"
      ]
    },
    {
      "cell_type": "markdown",
      "metadata": {},
      "source": [
        "The Bohr magneton, $\\mu_B$, is a natural unit for expressing the magnetic moment of an electron caused by either its spin or orbital angular momentum,\n",
        "\n",
        "$$\n",
        "\\mu_B = \\frac{e \\hbar}{2 m_e}\n",
        "$$\n",
        "\n",
        "$e$ is the [elementary charge](https://en.wikipedia.org/wiki/Elementary_charge) in $C$, *$\\hbar$* (\"h-bar\") is the [reduced Planck's constant](https://en.wikipedia.org/wiki/Planck_constant) with units of $J T^{-1}$, and $m_e$ is the [electron rest mass](https://en.wikipedia.org/wiki/Electron_rest_mass) in $kg$. Electron spin angular momentum is [quantised](https://en.wikipedia.org/wiki/Quantization_(physics)) in units of $\\hbar$. $g_e$ is a dimensionless quantity and is the electron's so-called [$g$-factor](https://en.wikipedia.org/wiki/G-factor_(physics)), where $g_e = 2.0023$ for a free electron. An external magnetic field will exert torque on a magnetic dipole, removing [degeneracies](https://en.wikipedia.org/wiki/Degenerate_energy_levels) of the electron spin states. The magnetic potential energy ($E$) is obtained from the [scalar product](https://en.wikipedia.org/wiki/Dot_product) of the magnetic field ($B_0$) vector and the magnetic moment ($\\mu$) vector, in a strong magnetic field, where quantisation is along the field direction. Therefore, the separation between the lower and upper states for unpaired free electrons is given by,\n",
        "\n",
        "$$\n",
        "\\Delta E = g_e \\mu_B B_0\n",
        "$$\n",
        "\n",
        "As $g_e$ and $\\mu_B$ are constants, the [splitting](https://en.wikipedia.org/wiki/Energy_level_splitting) of the energy levels is proportional to the external magnetic field strength, $B_0$. "
      ]
    },
    {
      "cell_type": "code",
      "execution_count": 29,
      "metadata": {},
      "outputs": [
        {
          "name": "stdout",
          "output_type": "stream",
          "text": [
            "Splitting energy = 18.57 yoctojoule\n"
          ]
        }
      ],
      "source": [
        "# Calculate the energy separation between lower and upper states\n",
        "muB = 9.27400949e-24 * u('J / T') # Bohr magneton in J/T\n",
        "B0 = 1 * u.T # External magnetic field in T\n",
        "E = ge * muB * B0 # Zeeman energy in J\n",
        "print('Splitting energy =', E.to('yJ')) # y = yocto = 10^-24"
      ]
    },
    {
      "cell_type": "markdown",
      "metadata": {},
      "source": [
        "The code below allows you to change the value of `E` with a slider, giving the calculated splitting energy."
      ]
    },
    {
      "cell_type": "code",
      "execution_count": 30,
      "metadata": {},
      "outputs": [
        {
          "data": {
            "application/vnd.jupyter.widget-view+json": {
              "model_id": "0e0affc765bd477f83540898d52495c5",
              "version_major": 2,
              "version_minor": 0
            },
            "text/plain": [
              "interactive(children=(FloatSlider(value=0.0, description='B0 (T)', max=10.0, readout_format='.3f', step=1e-05)…"
            ]
          },
          "metadata": {},
          "output_type": "display_data"
        },
        {
          "data": {
            "application/vnd.jupyter.widget-view+json": {
              "model_id": "c8f7496228c04bcfaf5e52d0a5491463",
              "version_major": 2,
              "version_minor": 0
            },
            "text/plain": [
              "Label(value='Splitting energy (yJ)')"
            ]
          },
          "metadata": {},
          "output_type": "display_data"
        }
      ],
      "source": [
        "muB = C.mu_B # Bohr magneton in J/T\n",
        "B0 = 1 # External magnetic field in T\n",
        "\n",
        "slider = wdg.interact(lambda B0:(ge*muB*B0)*1e24, B0 = wdg.FloatSlider(min = 0, step = 0.00001, max = 10, value = 0, description = 'B0 (T)', readout_format = '.3f'))\n",
        "wdg.Label(value = \"Splitting energy (yJ)\")"
      ]
    },
    {
      "cell_type": "markdown",
      "metadata": {},
      "source": [
        "### Resonance condition"
      ]
    },
    {
      "cell_type": "markdown",
      "metadata": {},
      "source": [
        "An unpaired electron's spin can change by either absorbing or emitting a [photon of energy](https://en.wikipedia.org/wiki/Photon_energy), $h \\nu$, where the *resonance condition*, $h \\nu = \\Delta E$ is fulfilled. Providing the elementary equation of [electron paramagnetic resonance (EPR) (electron spin resonance (ESR))](https://en.wikipedia.org/wiki/Electron_paramagnetic_resonance),\n",
        "\n",
        "$$\n",
        "h \\nu = g_e \\mu_B B_0\n",
        "$$\n",
        "\n",
        "Where we can convert $h \\nu$ to [wavelength](https://en.wikipedia.org/wiki/Wavelength), to find the region of the [electromagnetic spectrum](https://en.wikipedia.org/wiki/Electromagnetic_spectrum) which the [radical (unpaired electron)](https://en.wikipedia.org/wiki/Radical_(chemistry)) absorbs or emits,\n",
        "\n",
        "$$\n",
        "\\lambda = c / \\nu\n",
        "$$\n",
        "\n",
        "Where $c$ is the [speed of light](https://en.wikipedia.org/wiki/Speed_of_light) and $\\lambda$ is wavelength, which can be calculated as follows,"
      ]
    },
    {
      "cell_type": "code",
      "execution_count": 31,
      "metadata": {},
      "outputs": [
        {
          "name": "stdout",
          "output_type": "stream",
          "text": [
            "Frequency = 9.25 gigahertz\n",
            "Wavelength = 32.42 millimeter\n"
          ]
        }
      ],
      "source": [
        "# Constants and variables\n",
        "muB = 9.27400949e-24 * u('J / T') # Bohr magneton for an electron in J/T\n",
        "B0 = 0.33 * u.T # External magnetic field in T\n",
        "h = 6.62607015e-34 * u('J s') # Planck's constant in Js\n",
        "\n",
        "# Convert to wavelength\n",
        "v = (ge * muB * B0) / h # frequency in Hz\n",
        "c = 299792458 * u('m/s')  # speed of light in m/s\n",
        "wl = c / v # wavelength in m \n",
        "print('Frequency =', v.to('GHz'))\n",
        "print('Wavelength =', wl.to('mm'))"
      ]
    },
    {
      "cell_type": "markdown",
      "metadata": {},
      "source": [
        "The frequency of 9.25 GHz corresponds to [X-band EPR (ESR)](https://en.wikipedia.org/wiki/Electron_paramagnetic_resonance) and we see that electrons absorb or emit electromagnetic radiation in the microwave region. The code below allows you to change the value `B0` with a slider to calculate `v` and `wl`. Do you know the different EPR (ESR) wavebands?"
      ]
    },
    {
      "cell_type": "code",
      "execution_count": 35,
      "metadata": {},
      "outputs": [
        {
          "data": {
            "application/vnd.jupyter.widget-view+json": {
              "model_id": "ef3358675c794ec087be35a043ed92ff",
              "version_major": 2,
              "version_minor": 0
            },
            "text/plain": [
              "interactive(children=(FloatSlider(value=0.03, description='B0 (T)', max=12.8, min=0.03, readout_format='.3f', …"
            ]
          },
          "metadata": {},
          "output_type": "display_data"
        },
        {
          "data": {
            "application/vnd.jupyter.widget-view+json": {
              "model_id": "d7785e239d97407ca5802efaaf0f86f1",
              "version_major": 2,
              "version_minor": 0
            },
            "text/plain": [
              "Label(value='Frequency (GHz)')"
            ]
          },
          "metadata": {},
          "output_type": "display_data"
        }
      ],
      "source": [
        "muB = C.mu_B # Bohr magneton for an electron in J/T\n",
        "B0 = 0.33 # External magnetic field in T\n",
        "h = C.h # Planck's constant in Js\n",
        "c = C.c  # speed of light in m/s\n",
        "\n",
        "slider = wdg.interact(lambda B0:((ge*muB*B0)/h)*1e-9, B0 = wdg.FloatSlider(min = 0.03, step = 0.01, max = 12.8, value = 0, description = 'B0 (T)', readout_format = '.3f'))\n",
        "wdg.Label(value = \"Frequency (GHz)\")"
      ]
    },
    {
      "cell_type": "code",
      "execution_count": 36,
      "metadata": {},
      "outputs": [
        {
          "data": {
            "application/vnd.jupyter.widget-view+json": {
              "model_id": "9f0ba87772f142988749a5fd7a756163",
              "version_major": 2,
              "version_minor": 0
            },
            "text/plain": [
              "interactive(children=(FloatSlider(value=0.03, description='B0 (T)', max=12.8, min=0.03, readout_format='.3f', …"
            ]
          },
          "metadata": {},
          "output_type": "display_data"
        },
        {
          "data": {
            "application/vnd.jupyter.widget-view+json": {
              "model_id": "1a38462a68714bf9a4095c2f8e3d6ab6",
              "version_major": 2,
              "version_minor": 0
            },
            "text/plain": [
              "Label(value='Wavelength (mm)')"
            ]
          },
          "metadata": {},
          "output_type": "display_data"
        }
      ],
      "source": [
        "slider = wdg.interact(lambda B0:(c/((ge*muB*B0)/h))*1e3, B0 = wdg.FloatSlider(min = 0.03, step = 0.01, max = 12.8, value = 0, description = 'B0 (T)', readout_format = '.3f'))\n",
        "wdg.Label(value = \"Wavelength (mm)\")"
      ]
    },
    {
      "cell_type": "markdown",
      "metadata": {},
      "source": [
        "### Zeeman interaction"
      ]
    },
    {
      "cell_type": "markdown",
      "metadata": {},
      "source": [
        "The Zeeman spin Hamiltonian describes the interaction between electron spin and an external magnetic field, which is given by,\n",
        "\n",
        "$$\n",
        "\\hat{H}_{Zee} = \\frac{g \\mu_B B_0 \\hat{\\sigma}_z}{\\hbar}\n",
        "$$\n",
        "\n",
        "We have used *RadicalPy* to create an electron from the isotope library (`.fromisotopes`). We then create a sim object using the `HilbertSimulation` class, from which we can create the Zeeman Hamiltonian (`sim.zeeman_hamiltonian`).\n",
        "\n",
        "The code below changes the value of $B_0$ from 0 to 1 T in 100 steps. This is done with a *for loop*, which is applied with the function `for i,B0 in enumerate(Bs):`, where `B0` is the variable in which you would like to sweep, in our case the external magnetic field. The [eigenvalues](https://en.wikipedia.org/wiki/Eigenvalues_and_eigenvectors) of the Hermitian matrix represent the energies of the electron for the $m_s = \\pm\\frac{1}{2}$ spin states. The eigenvalues are obtained with the function `np.linalg.eigh()`, where we insert the Zeeman Hamiltonian `(H)` inside the parentheses. We can then plot the magnetic field values (`Bs`) vs eigenvalues (`E`) to visualise the Zeeman interaction for a free electron. Where [`matplotlib`](https://matplotlib.org/) is a library which allows one to plot data in Python."
      ]
    },
    {
      "cell_type": "code",
      "execution_count": 79,
      "metadata": {},
      "outputs": [
        {
          "data": {
            "text/plain": [
              "Number of electrons: 1\n",
              "Number of nuclei: 0\n",
              "Number of particles: 1\n",
              "Multiplicities: [2]\n",
              "Magnetogyric ratios (mT): [-176085963.023]\n",
              "Nuclei: []\n",
              "Couplings: []\n",
              "HFCs (mT): []"
            ]
          },
          "execution_count": 79,
          "metadata": {},
          "output_type": "execute_result"
        }
      ],
      "source": [
        "electron = rp.simulation.Molecule.fromisotopes(isotopes=[\"E\"], hfcs=[], name=\"electron\") \n",
        "sim = rp.simulation.HilbertSimulation(molecules=[electron], basis=\"Zeeman\")\n",
        "sim"
      ]
    },
    {
      "cell_type": "code",
      "execution_count": 83,
      "metadata": {},
      "outputs": [
        {
          "data": {
            "application/vnd.jupyter.widget-view+json": {
              "model_id": "12b478bc9e9a46d4bc271703f6fba746",
              "version_major": 2,
              "version_minor": 0
            },
            "text/plain": [
              "interactive(children=(SelectionSlider(description='Bmax', options=(('0', np.float64(0.0)), ('0.010101', np.flo…"
            ]
          },
          "metadata": {},
          "output_type": "display_data"
        }
      ],
      "source": [
        "def electron_zeeman(Bmax):\n",
        "    Bs = np.linspace(0, Bmax, 100)\n",
        "    E = np.zeros([len(Bs), 2], dtype=np.complex128)\n",
        "    \n",
        "    for i,B0 in enumerate(Bs):\n",
        "        H = sim.zeeman_hamiltonian(B0)\n",
        "        eigval = np.linalg.eigh(H)\n",
        "        E[i] = eigval[0]  # 0 = eigenvalues, 1 = eigenvectors\n",
        "        \n",
        "    fig = plt.figure(1)\n",
        "    ax = fig.add_axes([0, 0, 1, 1])\n",
        "    ax.plot(Bs, np.real(E)[:,1], color=\"magenta\", linewidth=4)\n",
        "    ax.plot(Bs, np.real(E)[:,0], color=\"red\", linewidth=4)\n",
        "    ax.set_xlabel(\"B$_0$ / T\", size=14)\n",
        "    ax.set_ylabel(\"Spin state energy\", size=14)\n",
        "    plt.tick_params(labelsize=14)\n",
        "    plt.ylim(-1e8, 1e8)\n",
        "\n",
        "\n",
        "\n",
        "@wdg.interact(Bmax = wdg.SelectionSlider(options=[(\"%g\"%i,i) for i in np.linspace(0, 1, 100)]))\n",
        "def update(Bmax = 0):electron_zeeman(Bmax)"
      ]
    },
    {
      "cell_type": "markdown",
      "metadata": {},
      "source": [
        "Where $m_s = \\color{magenta}{+\\frac{1}{2}}$ or $\\color{magenta}{|\\alpha⟩}$ has a slope of $+\\frac{1}{2}g \\mu_B$ and is destabilised by the magnetic field, and $m_s = \\color{red}{-\\frac{1}{2}}$ or $\\color{red}{|\\beta⟩}$ has a slope of $-\\frac{1}{2}g \\mu_B$ and is stabilised by the magnetic field."
      ]
    },
    {
      "cell_type": "code",
      "execution_count": null,
      "metadata": {},
      "outputs": [],
      "source": []
    }
  ],
  "metadata": {
    "colab": {
      "collapsed_sections": [],
      "name": "colab-github-demo.ipynb",
      "provenance": [],
      "version": "0.3.2"
    },
    "kernelspec": {
      "display_name": "Python 3",
      "name": "python3"
    },
    "language_info": {
      "codemirror_mode": {
        "name": "ipython",
        "version": 3
      },
      "file_extension": ".py",
      "mimetype": "text/x-python",
      "name": "python",
      "nbconvert_exporter": "python",
      "pygments_lexer": "ipython3",
      "version": "3.10.2"
    }
  },
  "nbformat": 4,
  "nbformat_minor": 0
}
