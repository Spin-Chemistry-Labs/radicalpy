{
  "cells": [
    {
      "cell_type": "markdown",
      "metadata": {
        "colab_type": "text",
        "id": "view-in-github"
      },
      "source": [
        "<a href=\"https://colab.research.google.com/github/Spin-Chemistry-Labs/radicalpy/blob/187-google-colab-tutorials/examples/tutorials/04_density_matrices_and_time_evolution.ipynb\" target=\"_parent\"><img src=\"https://colab.research.google.com/assets/colab-badge.svg\" alt=\"Open In Colab\"/></a>\n"
      ]
    },
    {
      "cell_type": "markdown",
      "metadata": {
        "colab_type": "text",
        "id": "-pVhOfzLx9us"
      },
      "source": [
        "# Tutorial 4 - Density matrices and time evolution\n",
        "\n"
      ]
    },
    {
      "cell_type": "markdown",
      "metadata": {},
      "source": [
        "&copy; Lewis M. Antill, 2025"
      ]
    },
    {
      "cell_type": "markdown",
      "metadata": {},
      "source": [
        "This tutorial aims to introduce the key concept of the [density matrix](https://en.wikipedia.org/wiki/Density_matrix) and time evolution of a radical pair."
      ]
    },
    {
      "cell_type": "code",
      "execution_count": null,
      "metadata": {},
      "outputs": [],
      "source": [
        "!pip install radicalpy"
      ]
    },
    {
      "cell_type": "code",
      "execution_count": 1,
      "metadata": {},
      "outputs": [],
      "source": [
        "import ipywidgets as wdg\n",
        "import numpy as np\n",
        "import matplotlib.pyplot as plt\n",
        "import sympy as smp\n",
        "\n",
        "import radicalpy as rp\n",
        "from radicalpy.experiments import magnetic_field_loop\n",
        "from radicalpy.kinetics import Haberkorn, HaberkornFree\n",
        "from radicalpy.plot import plot_general\n",
        "from radicalpy.relaxation import RandomFields, SingletTripletDephasing\n",
        "from radicalpy.simulation import Molecule, HilbertSimulation, State"
      ]
    },
    {
      "cell_type": "markdown",
      "metadata": {},
      "source": [
        "---\n",
        "\n",
        "### Density matrix formalism"
      ]
    },
    {
      "cell_type": "markdown",
      "metadata": {},
      "source": [
        "The density matrix formalism is a common tool in spin quantum mechanics. It allows one to describe and generalise large spin systems and their ensembles. Density matrices embody the idea of mixed states and allow one to describe the spin states and dynamics of magnetosensitive radical pair reactions. It also allows the description of the system's time evolution, MARY (magnetically affected reaction yield), and orientation dependence.\n",
        "\n",
        "The superoperator formalism ([Liouville space](https://en.wikipedia.org/wiki/Liouville_space)) allows one to describe spin relaxation and chemical kinetics (both of which will be described in a future tutorial). For a system with *n* possible spins, the density operator $\\hat{\\rho}$ is,\n",
        "\n",
        "$$\n",
        "\\hat{\\rho} = \\sum_{n,m}c_n c_m^*  |\\psi_n\\rangle \\langle\\psi_m|\n",
        "$$\n",
        "\n",
        "The density matrix is a *n*-dimensional matrix, $\\rho$, where $\\rho = \\langle m|\\hat{\\rho}|n\\rangle$."
      ]
    },
    {
      "cell_type": "markdown",
      "metadata": {},
      "source": [
        "Let's consider a state of a spin-1/2 particle, which can exist in any linear combination of its eigensates $|\\alpha \\rangle$ and $|\\beta \\rangle$. The overall wavefunction can therefore be described as a vector of (complex) coefficients $c$ of two eigenstates,\n",
        "\n",
        "$$\n",
        "|\\psi \\rangle = c_1|\\alpha \\rangle + c_2|\\beta \\rangle = \\begin{bmatrix} c_1 \\\\ c_2 \\end{bmatrix}\n",
        "$$\n",
        "\n",
        "The coefficients of the eigenstates obey the normalisation condition, where $|c_1|^2 + |c_2|^2 = 1$. Since the states of the system are vectors, the density matrix can be written as the outer product of the state with itself,\n",
        "\n",
        "$$\n",
        "\\hat{\\rho} = |\\psi \\rangle \\langle \\psi| = \\begin{bmatrix} c_1 \\\\ c_2 \\end{bmatrix} [c_1^* c_2^*] = \\begin{bmatrix} \\color{blue}{|c_1|^2}\\,\\, \\color{red}{c_1c_2^*} \\\\ \\color{red}{c_1^*c_2} \\,\\,\\color{blue}{|c_2|^2} \\end{bmatrix}\n",
        "$$\n",
        "\n",
        "Where $\\color{blue}{p_n = |c_n|^2}$ and represents the <font color='blue'>probabilities or populations of the system existing in a certain state</font> and the off-diagonal elements represent the <font color='red'>coherences between different states</font>."
      ]
    },
    {
      "cell_type": "code",
      "execution_count": 2,
      "metadata": {},
      "outputs": [
        {
          "name": "stdout",
          "output_type": "stream",
          "text": [
            "Number of electrons: 2\n",
            "Number of nuclei: 1\n",
            "Number of particles: 3\n",
            "Multiplicities: [2, 2, 2]\n",
            "Magnetogyric ratios (mT): [-176085963.023, -176085963.023, 267522.18744]\n",
            "Nuclei: [1H(267522187.44, 2, 0.5 <anisotropic not available>)]\n",
            "Couplings: [0]\n",
            "HFCs (mT): [0.5 <anisotropic not available>]\n"
          ]
        }
      ],
      "source": [
        "# construct the radical pair\n",
        "radical_1 = Molecule.fromisotopes(name=\"radical 1\", isotopes=[\"1H\"], hfcs=[0.5])\n",
        "radical_2 = Molecule.fromisotopes(name=\"radical 2\", isotopes=[], hfcs=[])\n",
        "sim = HilbertSimulation([radical_1, radical_2])\n",
        "print (sim)"
      ]
    },
    {
      "cell_type": "code",
      "execution_count": 3,
      "metadata": {},
      "outputs": [
        {
          "name": "stderr",
          "output_type": "stream",
          "text": [
            "100%|██████████| 50/50 [00:01<00:00, 44.69it/s]\n"
          ]
        }
      ],
      "source": [
        "Bs = np.arange(0, 50, 1)\n",
        "# J = np.sum((sim.projection_operator(state=State.SINGLET) - sim.projection_operator(state=State.TRIPLET)))\n",
        "J = 0\n",
        "D = 0\n",
        "\n",
        "H = sim.total_hamiltonian(B0=0, D=D, J=J)\n",
        "init_state = State.SINGLET\n",
        "time = np.arange(0, 1e-6, 10e-9)\n",
        "theta = None\n",
        "phi = None\n",
        "rhos = magnetic_field_loop(sim=sim, init_state=init_state, time=time, H_base=H, B=Bs, B_axis=\"z\", theta=theta, phi=phi)"
      ]
    },
    {
      "cell_type": "code",
      "execution_count": null,
      "metadata": {},
      "outputs": [
        {
          "data": {
            "application/vnd.jupyter.widget-view+json": {
              "model_id": "2a4854c1f0584d648e243719991e7133",
              "version_major": 2,
              "version_minor": 0
            },
            "text/plain": [
              "interactive(children=(IntSlider(value=0, description='B index', max=49), IntSlider(value=0, description='t ind…"
            ]
          },
          "metadata": {},
          "output_type": "display_data"
        }
      ],
      "source": [
        "def plot_rho(Bi, ti):\n",
        "    B = Bs[Bi]\n",
        "    fig = plt.figure()\n",
        "    plt.imshow(np.abs(rhos[Bi, ti]))\n",
        "    plt.title(f\"B={B} mT\")\n",
        "    plt.tick_params(bottom=False, left=False)\n",
        "    plt.colorbar()\n",
        "    fig.set_size_inches([5, 5])\n",
        "    plt.show()\n",
        "\n",
        "@wdg.interact(Bi=wdg.IntSlider(min=0, max=len(Bs)-1, step=1, value=0, description='B index'),\n",
        "              ti=wdg.IntSlider(min=0, max=rhos.shape[1]-1, step=1, value=0, description='t index'))\n",
        "def update(Bi=0, ti=0):plot_rho(Bi, ti)"
      ]
    },
    {
      "cell_type": "markdown",
      "metadata": {},
      "source": [
        "---\n",
        "\n",
        "### Equation of motion"
      ]
    },
    {
      "cell_type": "markdown",
      "metadata": {},
      "source": [
        "The density matrix $\\rho$ evolves over time according to the [Liouville-von Neumann equation](https://en.wikipedia.org/wiki/Liouville%27s_theorem_(Hamiltonian)#Quantum_Liouville_equation),\n",
        "\n",
        "$$\n",
        "\\frac{\\partial \\hat{\\rho}}{\\partial t} = -i \\big[\\hat{H}, \\hat{\\rho}\\big],\n",
        "$$\n",
        "\n",
        "where $\\hat{H}$ is the time-dependent spin Hamiltonian. Integration of the above gives,\n",
        "\n",
        "$$\n",
        "\\hat{\\rho}(t) = \\textbf{U} \\rho(0) \\textbf{U}^*\n",
        "$$\n",
        "\n",
        "Where the propagator matrices are,\n",
        "\n",
        "$$\n",
        "\\textbf{U} = e^{(-i\\textbf{H}t)}\\\\\n",
        "\\textbf{U}^* = e^{(+i\\textbf{H}t)}\n",
        "$$"
      ]
    },
    {
      "cell_type": "code",
      "execution_count": null,
      "metadata": {},
      "outputs": [
        {
          "data": {
            "application/vnd.jupyter.widget-view+json": {
              "model_id": "677540e1d58b4bdea1e7d26859da3265",
              "version_major": 2,
              "version_minor": 0
            },
            "text/plain": [
              "interactive(children=(SelectionSlider(description='dt', options=(('0', np.float64(0.0)), ('5.26316e-09', np.fl…"
            ]
          },
          "metadata": {},
          "output_type": "display_data"
        }
      ],
      "source": [
        "@wdg.interact(dt = wdg.SelectionSlider(options=[(\"%g\"%i,i) for i in np.linspace(0, 1e-7, 20)]))\n",
        "def update(dt = 0):return smp.Array(sim.unitary_propagator(H, dt)[0].round(2))"
      ]
    },
    {
      "cell_type": "markdown",
      "metadata": {},
      "source": [
        "---\n",
        "\n",
        "### Expectation values"
      ]
    },
    {
      "cell_type": "markdown",
      "metadata": {},
      "source": [
        "We are generally interested in following a chosen observable rather than the whole system. Therefore, we need to project out the desired component on the density matrix. The projection of $\\hat{\\rho}(t)$ onto a state $i$ is given by the trace of the product of the projection operator $\\hat{P}_i$ for that state with the density matrix,\n",
        "\n",
        "$$\n",
        "\\hat{P}_i = \\langle \\hat{Q}_i \\rangle = \\langle \\psi|\\textbf{Q}|\\psi\\rangle = \\sum_{i,j}\\psi_i^* Q_ij \\psi_j = Tr\\big[\\hat{\\rho}\\, \\hat{Q}_i\\big]\n",
        "$$"
      ]
    },
    {
      "cell_type": "markdown",
      "metadata": {},
      "source": [
        "---\n",
        "\n",
        "### Projection operators"
      ]
    },
    {
      "cell_type": "markdown",
      "metadata": {},
      "source": [
        "We require projection operators so we can choose which state of the radical pair we want to begin in (*e.g.*, singlet born radical pair), this is referred to as the *initial state*. The *observable* is the state in which we are interested (*e.g.*, the triplet state and see how this evolves in time. \n",
        "The projection operator is defined as,\n",
        "\n",
        "$$\n",
        "\\hat{P}_i = |P_i \\rangle \\langle P_i|\n",
        "$$\n",
        "\n",
        "For the singlet projection operator,\n",
        "\n",
        "$$\n",
        "\\begin{aligned}\n",
        "\\hat{P}_S &= |P_S \\rangle \\langle P_S| \\\\\n",
        "&= \\frac{1}{2}(|\\alpha \\beta \\rangle - |\\beta \\alpha \\rangle)(\\langle \\alpha \\beta | - \\langle \\beta \\alpha |) \\\\\n",
        "&= \\frac{1}{4}I - \\hat{S}_{Ax}\\hat{S}_{Bx} - \\hat{S}_{Ay}\\hat{S}_{By} - \\hat{S}_{Az}\\hat{S}_{Bz} \\\\\n",
        "&= \\frac{1}{4}I - \\hat{S}_{A} \\bullet \\hat{S}_{B}\n",
        "\\end{aligned}\n",
        "$$\n",
        "\n",
        "Let's take a look at the radical pair product operators."
      ]
    },
    {
      "cell_type": "code",
      "execution_count": 6,
      "metadata": {},
      "outputs": [
        {
          "data": {
            "application/vnd.jupyter.widget-view+json": {
              "model_id": "e84a326ff6864531a9f225f212fba2b0",
              "version_major": 2,
              "version_minor": 0
            },
            "text/plain": [
              "interactive(children=(Dropdown(description='state', options=('S', 'T', 'T+', 'T0', 'T-'), value='S'), Output()…"
            ]
          },
          "metadata": {},
          "output_type": "display_data"
        }
      ],
      "source": [
        "states = {\n",
        "\"S\": State.SINGLET,\n",
        "\"T\": State.TRIPLET,\n",
        "\"T+\": State.TRIPLET_PLUS,\n",
        "\"T0\": State.TRIPLET_ZERO,\n",
        "\"T-\": State.TRIPLET_MINUS\n",
        "}\n",
        "\n",
        "radical_1 = Molecule.fromisotopes(name=\"radical 1\", isotopes=[], hfcs=[])\n",
        "radical_2 = Molecule.fromisotopes(name=\"radical 2\", isotopes=[], hfcs=[])\n",
        "sim = HilbertSimulation([radical_1, radical_2])\n",
        "\n",
        "@wdg.interact(state = [\"S\", \"T\", \"T+\", \"T0\", \"T-\"])      \n",
        "def update(state=\"S\"):return smp.Array(sim.projection_operator(state=states[state]).round(2))"
      ]
    },
    {
      "cell_type": "markdown",
      "metadata": {},
      "source": [
        "---\n",
        "\n",
        "#### Initial density matrices"
      ]
    },
    {
      "cell_type": "markdown",
      "metadata": {},
      "source": [
        "The initial density matrix, $\\rho_0$ is given by,\n",
        "\n",
        "$$\n",
        "\\rho_i(0) = \\frac{P_i}{TrP_i}\n",
        "$$\n",
        "\n",
        "Where the initial density matrix for the equilibrium state,\n",
        "\n",
        "$$\n",
        "\\rho_{eq}(0) = \\frac{1}{Z}e^{(-\\beta \\hat{H})},\n",
        "$$\n",
        "\n",
        "where\n",
        "\n",
        "$$\n",
        "\\beta = \\frac{1}{k_B T}\n",
        "$$ \n",
        "\n",
        "and \n",
        "\n",
        "$$\n",
        "Z = Tr[e^{(-\\beta \\hat{H})}]\n",
        "$$"
      ]
    },
    {
      "cell_type": "code",
      "execution_count": null,
      "metadata": {},
      "outputs": [
        {
          "data": {
            "application/vnd.jupyter.widget-view+json": {
              "model_id": "ca7608cd9d2e4cc4b3a8953f3482b919",
              "version_major": 2,
              "version_minor": 0
            },
            "text/plain": [
              "interactive(children=(Dropdown(description='state', options=('S', 'T', 'T+', 'T0', 'T-', 'Eq'), value='S'), Ou…"
            ]
          },
          "metadata": {},
          "output_type": "display_data"
        }
      ],
      "source": [
        "states = {\n",
        "\"S\": State.SINGLET,\n",
        "\"T\": State.TRIPLET,\n",
        "\"T+\": State.TRIPLET_PLUS,\n",
        "\"T0\": State.TRIPLET_ZERO,\n",
        "\"T-\": State.TRIPLET_MINUS,\n",
        "\"Eq\": State.EQUILIBRIUM\n",
        "}\n",
        "\n",
        "H = sim.total_hamiltonian(B0=0, D=D, J=J)\n",
        "\n",
        "@wdg.interact(state = [\"S\", \"T\", \"T+\", \"T0\", \"T-\", \"Eq\"])      \n",
        "def update(state=\"S\"):return smp.Array(sim.initial_density_matrix(state=states[state], H=H).round(2))"
      ]
    },
    {
      "cell_type": "markdown",
      "metadata": {},
      "source": [
        "---\n",
        "\n",
        "#### Observables"
      ]
    },
    {
      "cell_type": "markdown",
      "metadata": {},
      "source": [
        "The observable, $\\rho_i(obs)$ is defined as,\n",
        "\n",
        "$$\n",
        "\\rho_i(obs) = real(Tr(P_i \\rho_i(0)))\n",
        "$$"
      ]
    },
    {
      "cell_type": "code",
      "execution_count": null,
      "metadata": {},
      "outputs": [
        {
          "data": {
            "application/vnd.jupyter.widget-view+json": {
              "model_id": "0c4b44362a8743da8d90e22489e8b84d",
              "version_major": 2,
              "version_minor": 0
            },
            "text/plain": [
              "interactive(children=(Dropdown(description='state', options=('S', 'T', 'T+', 'T0', 'T-'), value='S'), Output()…"
            ]
          },
          "metadata": {},
          "output_type": "display_data"
        }
      ],
      "source": [
        "@wdg.interact(state = [\"S\", \"T\", \"T+\", \"T0\", \"T-\"])      \n",
        "def update(state=\"S\"):return smp.Array(sim.observable_projection_operator(state=states[state]).round(2))"
      ]
    },
    {
      "cell_type": "markdown",
      "metadata": {},
      "source": [
        "---\n",
        "\n",
        "### Re-encounter probability distribution"
      ]
    },
    {
      "cell_type": "markdown",
      "metadata": {},
      "source": [
        "We would like to consider the chemical reactivity of radical pairs, which can be implemented with a re-encounter probability distribution, *i.e.*, a radical pair separation where they are sufficiently close to react, to which we denote $f(t)$. The assumption is that a reaction occurs under this regime or the radicals diffuse apart and do not re-encounter, where the product yield is given approximately by the integral, \n",
        "\n",
        "$$\n",
        "\\Phi_i = \\int_{0}^{\\infty} \\langle P_i \\rangle (t) f(t) dt\n",
        "$$\n",
        "\n",
        "A common model for $f(t)$ is known as the \"exponential model\",\n",
        "\n",
        "$$\n",
        "f(t) = ke^{-kt}\n",
        "$$\n",
        "\n",
        "The code implementing the above is all incorporated in the following RadicalPy code."
      ]
    },
    {
      "cell_type": "code",
      "execution_count": 81,
      "metadata": {},
      "outputs": [
        {
          "data": {
            "text/plain": [
              "Kinetics: Exponential\n",
              "Rate constant: 1000000.0"
            ]
          },
          "execution_count": 81,
          "metadata": {},
          "output_type": "execute_result"
        }
      ],
      "source": [
        "rp.kinetics.Exponential(1e6)"
      ]
    },
    {
      "cell_type": "markdown",
      "metadata": {},
      "source": [
        "---\n",
        "\n",
        "### Time evolution"
      ]
    },
    {
      "cell_type": "markdown",
      "metadata": {},
      "source": [
        "The following simulation combines all we have learned so far, which allows us to see how the initial state of the radical pair evolves through time. The state population probability is plotted against time and also the absolute values of the density matrix are shown. The density matrix plot allows us to see the individual state population densities and also the coherences between different states. The hope is that you develop an intuition of radical pair spin dynamics.\n",
        "\n",
        "ADD SIMPLE REACTION SCHEME\n",
        "\n",
        "Please complete the following experiments with a singlet (`S`) initial state and a triplet (`T`) observable.\n",
        "\n",
        "1. Use default settings, but change the following:\n",
        "    * Nothing\n",
        "    * Does ST-mixing occur?     \n",
        "2. Use default settings, but change the following:\n",
        "    * hfcA > 0 (mT)\n",
        "    * Does ST-mixing occur? Why? Are there any coherences?   \n",
        "3. Use default settings, but change the following:\n",
        "    * hfcA = 0.5 (mT)\n",
        "    * B0 = 0.05 (mT, Earth strength magnetic field)\n",
        "    * Is there more or less ST-mixing? \n",
        "4. Use default settings, but change the following:\n",
        "    * hfcA = 0.5 (mT)\n",
        "    * kr = 1,000,000 ($s^{-1}$)\n",
        "    * B0 = 0.05 (mT, Earth strength magnetic field)\n",
        "    * Now change B0 = 0 (mT)\n",
        "    * Is the product yield more or less?\n",
        "5. Use default settings, but change the following:\n",
        "    * B0 > 10 (mT)\n",
        "    * Does ST-mixing occur? Do the coherences change?\n",
        "6. Use default settings, but change the following:\n",
        "    * hfcA = 1.0 (mT)\n",
        "    * kr = 1,000,000 ($s^{-1}$)\n",
        "    * B0 from 0 to 30 (mT)\n",
        "\n",
        "* When does ST-mixing stop? When does the product yield saturate?"
      ]
    },
    {
      "cell_type": "code",
      "execution_count": 10,
      "metadata": {},
      "outputs": [
        {
          "name": "stderr",
          "output_type": "stream",
          "text": [
            "100%|██████████| 2/2 [00:00<00:00, 24.46it/s]\n"
          ]
        }
      ],
      "source": [
        "radical_1 = Molecule.fromisotopes(name=\"radical 1\", isotopes=[\"1H\"], hfcs=[0.5])\n",
        "radical_2 = Molecule.fromisotopes(name=\"radical 2\", isotopes=[], hfcs=[])\n",
        "sim = HilbertSimulation([radical_1, radical_2])\n",
        "\n",
        "B0 = 0.05\n",
        "H = sim.total_hamiltonian(B0=B0, D=D, J=J)\n",
        "init_state = State.SINGLET\n",
        "\n",
        "time = np.arange(0, 2e-6, 5e-9)\n",
        "rhos = sim.time_evolution(init_state, time, H)\n",
        "\n",
        "k = 0  # 3e6\n",
        "kinetics = [rp.kinetics.Exponential(k)]\n",
        "\n",
        "time_evol = sim.product_probability(init_state, rhos)\n",
        "sim.apply_hilbert_kinetics(time, time_evol, kinetics)\n",
        "product_yield, product_yield_sum = sim.product_yield(time_evol, time, k)\n",
        "\n",
        "Bs = np.linspace(0, B0, 2)\n",
        "rhos = magnetic_field_loop(sim=sim, init_state=init_state, time=time, H_base=H, B=Bs, B_axis=\"z\")"
      ]
    },
    {
      "cell_type": "code",
      "execution_count": 11,
      "metadata": {},
      "outputs": [
        {
          "name": "stdout",
          "output_type": "stream",
          "text": [
            "PY = 0.0\n"
          ]
        },
        {
          "data": {
            "image/png": "[encoded data removed]",
            "text/plain": [
              "<Figure size 360x180 with 1 Axes>"
            ]
          },
          "metadata": {
            "needs_background": "light"
          },
          "output_type": "display_data"
        },
        {
          "data": {
            "image/png": "[encoded data removed]",
            "text/plain": [
              "<Figure size 360x360 with 2 Axes>"
            ]
          },
          "metadata": {
            "needs_background": "light"
          },
          "output_type": "display_data"
        }
      ],
      "source": [
        "x = time * 1e6\n",
        "\n",
        "fig = plt.figure()\n",
        "plt.plot(x, time_evol, color=\"red\", linewidth=2)\n",
        "plt.fill_between(x, product_yield, color=\"blue\", alpha=0.2)\n",
        "plt.xlabel(\"Time / $\\mu s$\", size=14)\n",
        "plt.ylabel(\"Probability\", size=14)\n",
        "plt.ylim([0, 1])\n",
        "plt.legend([r\"$P_i(t)$\", r\"$\\Phi_i$\"], fontsize=14)\n",
        "fig.set_size_inches([5, 2.5])\n",
        "\n",
        "fig = plt.figure()\n",
        "plt.imshow(np.abs(rhos[1, 1]))\n",
        "plt.title(f\"B={B0} mT\")\n",
        "plt.tick_params(bottom=False, left=False)\n",
        "plt.colorbar()\n",
        "ax = plt.gca()\n",
        "fig.set_size_inches([5, 5])\n",
        "\n",
        "\n",
        "print(f\"PY = {product_yield_sum}\")"
      ]
    },
    {
      "cell_type": "code",
      "execution_count": null,
      "metadata": {},
      "outputs": [],
      "source": []
    },
    {
      "cell_type": "code",
      "execution_count": null,
      "metadata": {},
      "outputs": [],
      "source": []
    }
  ],
  "metadata": {
    "colab": {
      "collapsed_sections": [],
      "name": "colab-github-demo.ipynb",
      "provenance": [],
      "version": "0.3.2"
    },
    "kernelspec": {
      "display_name": "Python 3",
      "name": "python3"
    },
    "language_info": {
      "codemirror_mode": {
        "name": "ipython",
        "version": 3
      },
      "file_extension": ".py",
      "mimetype": "text/x-python",
      "name": "python",
      "nbconvert_exporter": "python",
      "pygments_lexer": "ipython3",
      "version": "3.10.2"
    }
  },
  "nbformat": 4,
  "nbformat_minor": 0
}
