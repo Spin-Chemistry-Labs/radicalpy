{
  "cells": [
    {
      "cell_type": "markdown",
      "metadata": {
        "colab_type": "text",
        "id": "view-in-github"
      },
      "source": [
        "<a href=\"https://colab.research.google.com/github/Spin-Chemistry-Labs/radicalpy/blob/187-google-colab-tutorials/examples/tutorials/04_density_matrices_and_time_evolution.ipynb\" target=\"_parent\"><img src=\"https://colab.research.google.com/assets/colab-badge.svg\" alt=\"Open In Colab\"/></a>\n"
      ]
    },
    {
      "cell_type": "markdown",
      "metadata": {
        "colab_type": "text",
        "id": "-pVhOfzLx9us"
      },
      "source": [
        "# Tutorial 4 - Density matrices and time evolution\n",
        "\n"
      ]
    },
    {
      "cell_type": "markdown",
      "metadata": {},
      "source": [
        "&copy; Lewis M. Antill, 2025"
      ]
    },
    {
      "cell_type": "markdown",
      "metadata": {},
      "source": [
        "This tutorial aims to..."
      ]
    },
    {
      "cell_type": "code",
      "execution_count": 1,
      "metadata": {},
      "outputs": [],
      "source": [
        "import numpy as np\n",
        "import matplotlib.pyplot as plt\n",
        "from scipy.linalg import eigh\n",
        "import radicalpy as rp\n",
        "from radicalpy.classical import latexify, latex_eqlist_to_align, Rate, RateEquations\n",
        "from radicalpy.data import Triplet\n",
        "from radicalpy.experiments import magnetic_field_loop, kine_quantum_mary, steady_state_mary\n",
        "from radicalpy.kinetics import Haberkorn, HaberkornFree\n",
        "from radicalpy.plot import plot_general\n",
        "from radicalpy.relaxation import RandomFields, SingletTripletDephasing\n",
        "from radicalpy.simulation import Basis, Molecule, HilbertSimulation, LiouvilleSimulation, SemiclassicalSimulation, State\n",
        "from radicalpy.utils import Bhalf_fit"
      ]
    },
    {
      "cell_type": "code",
      "execution_count": 2,
      "metadata": {},
      "outputs": [
        {
          "name": "stdout",
          "output_type": "stream",
          "text": [
            "Number of electrons: 2\n",
            "Number of nuclei: 0\n",
            "Number of particles: 2\n",
            "Multiplicities: [2, 2]\n",
            "Magnetogyric ratios (mT): [-176085963.023, -176085963.023]\n",
            "Nuclei: []\n",
            "Couplings: []\n",
            "HFCs (mT): []\n"
          ]
        }
      ],
      "source": [
        "# construct the radical pair\n",
        "radical_1 = Molecule.fromisotopes(name=\"radical 1\", isotopes=[\"1H\", \"15N\"], hfcs=[])\n",
        "radical_2 = Molecule.fromisotopes(name=\"radical 2\", isotopes=[\"13C\"], hfcs=[])\n",
        "sim = HilbertSimulation([radical_1, radical_2])\n",
        "print (sim)"
      ]
    },
    {
      "cell_type": "code",
      "execution_count": 16,
      "metadata": {},
      "outputs": [
        {
          "name": "stderr",
          "output_type": "stream",
          "text": [
            "  0%|          | 0/30 [00:00<?, ?it/s]c:\\Users\\lewis\\AppData\\Local\\Programs\\Python\\Python310\\lib\\site-packages\\scipy\\sparse\\_index.py:108: SparseEfficiencyWarning: Changing the sparsity structure of a csc_matrix is expensive. lil and dok are more efficient.\n",
            "  self._set_intXint(row, col, x.flat[0])\n",
            "100%|██████████| 30/30 [00:00<00:00, 37.58it/s]\n"
          ]
        }
      ],
      "source": [
        "Bs = np.arange(0, 30, 1)\n",
        "# J = np.sum((sim.projection_operator(state=State.SINGLET) - sim.projection_operator(state=State.TRIPLET)))\n",
        "J = 0\n",
        "D = 0\n",
        "\n",
        "H = sim.total_hamiltonian(B0=0, D=D, J=J)\n",
        "init_state = State.SINGLET\n",
        "time = np.arange(0, 1e-6, 10e-9)\n",
        "theta = None\n",
        "phi = None\n",
        "rhos = magnetic_field_loop(sim=sim, init_state=init_state, time=time, H_base=H, B=Bs, B_axis=\"z\", theta=theta, phi=phi)"
      ]
    },
    {
      "cell_type": "code",
      "execution_count": 21,
      "metadata": {},
      "outputs": [
        {
          "data": {
            "image/png": "[encoded data removed]",
            "text/plain": [
              "<Figure size 720x720 with 2 Axes>"
            ]
          },
          "metadata": {
            "needs_background": "light"
          },
          "output_type": "display_data"
        }
      ],
      "source": [
        "Bi = 1\n",
        "ti = 10\n",
        "B = Bs[Bi]\n",
        "fig = plt.figure()\n",
        "plt.imshow(np.abs(rhos[Bi, ti]))\n",
        "plt.title(f\"B={B} mT\")\n",
        "plt.tick_params(bottom=False, left=False)\n",
        "plt.colorbar()\n",
        "fig.set_size_inches([10, 10])"
      ]
    },
    {
      "cell_type": "code",
      "execution_count": null,
      "metadata": {},
      "outputs": [],
      "source": []
    }
  ],
  "metadata": {
    "colab": {
      "collapsed_sections": [],
      "name": "colab-github-demo.ipynb",
      "provenance": [],
      "version": "0.3.2"
    },
    "kernelspec": {
      "display_name": "Python 3",
      "name": "python3"
    },
    "language_info": {
      "codemirror_mode": {
        "name": "ipython",
        "version": 3
      },
      "file_extension": ".py",
      "mimetype": "text/x-python",
      "name": "python",
      "nbconvert_exporter": "python",
      "pygments_lexer": "ipython3",
      "version": "3.10.2"
    }
  },
  "nbformat": 4,
  "nbformat_minor": 0
}
