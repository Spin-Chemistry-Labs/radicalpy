{
 "cells": [
  {
   "cell_type": "code",
   "execution_count": 1,
   "metadata": {},
   "outputs": [],
   "source": [
    "import matplotlib.pyplot as plt\n",
    "import numpy as np\n",
    "import pandas as pd\n",
    "import radicalpy as rp\n",
    "from pathlib import Path\n",
    "from radicalpy.plot import plot_3d_results, plot_bhalf_time, plot_general\n",
    "from radicalpy.utils import Bhalf_fit"
   ]
  },
  {
   "cell_type": "code",
   "execution_count": 97,
   "metadata": {},
   "outputs": [
    {
     "name": "stderr",
     "output_type": "stream",
     "text": [
      "<>:30: SyntaxWarning: invalid escape sequence '\\s'\n",
      "<>:31: SyntaxWarning: invalid escape sequence '\\s'\n",
      "<>:30: SyntaxWarning: invalid escape sequence '\\s'\n",
      "<>:31: SyntaxWarning: invalid escape sequence '\\s'\n",
      "C:\\Users\\chem-ptch0519\\AppData\\Local\\Temp\\ipykernel_22396\\1019155902.py:30: SyntaxWarning: invalid escape sequence '\\s'\n",
      "  ms_one_nuc = pd.read_csv('./data/fad_kinetics/staticSS-TimeEvolution_1nuc.dat', sep=\"\\s+\", usecols=['Time(ns)', 'rpsystem.singlet'])\n",
      "C:\\Users\\chem-ptch0519\\AppData\\Local\\Temp\\ipykernel_22396\\1019155902.py:31: SyntaxWarning: invalid escape sequence '\\s'\n",
      "  ms_two_nuc = pd.read_csv('./data/fad_kinetics/staticSS-TimeEvolution_2nuc.dat', sep=\"\\s+\", usecols=['Time(ns)', 'rpsystem.singlet'])\n"
     ]
    }
   ],
   "source": [
    "# RadicalPy\n",
    "path = \"./data/fad_kinetics/\"\n",
    "rp_one_nuc = np.array(\n",
    "        [\n",
    "            np.genfromtxt(file_path)\n",
    "            for file_path in Path(path).glob(\"timeevolution_yield.txt\")\n",
    "        ]\n",
    "    )\n",
    "rp_one_nuc_time = np.array(\n",
    "        [\n",
    "            np.genfromtxt(file_path)\n",
    "            for file_path in Path(path).glob(\"timeevolution_time.txt\")\n",
    "        ]\n",
    "    )\n",
    "rp_two_nuc = np.array(\n",
    "        [\n",
    "            np.genfromtxt(file_path)\n",
    "            for file_path in Path(path).glob(\"timeevolution_yield_2nuc.txt\")\n",
    "        ]\n",
    "    )\n",
    "rp_two_nuc_time = np.array(\n",
    "        [\n",
    "            np.genfromtxt(file_path)\n",
    "            for file_path in Path(path).glob(\"timeevolution_time_2nuc.txt\")\n",
    "        ]\n",
    "    )\n",
    "\n",
    "\n",
    "# MolSpin\n",
    "ms_one_nuc = pd.read_csv('./data/fad_kinetics/staticSS-TimeEvolution_1nuc.dat', sep=\"\\s+\", usecols=['Time(ns)', 'rpsystem.singlet'])\n",
    "ms_two_nuc = pd.read_csv('./data/fad_kinetics/staticSS-TimeEvolution_2nuc.dat', sep=\"\\s+\", usecols=['Time(ns)', 'rpsystem.singlet'])\n",
    "\n",
    "# EasySpin\n",
    "es_one_nuc = np.array(np.genfromtxt('./data/fad_kinetics/easyspin_1nuc.txt'))\n",
    "es_two_nuc = np.array(np.genfromtxt('./data/fad_kinetics/easyspin_2nuc.txt'))\n",
    "time = np.linspace(0, 3, len(es_one_nuc))"
   ]
  },
  {
   "cell_type": "code",
   "execution_count": 114,
   "metadata": {},
   "outputs": [
    {
     "name": "stderr",
     "output_type": "stream",
     "text": [
      "<>:5: SyntaxWarning: invalid escape sequence '\\m'\n",
      "<>:5: SyntaxWarning: invalid escape sequence '\\m'\n",
      "C:\\Users\\chem-ptch0519\\AppData\\Local\\Temp\\ipykernel_22396\\2203250452.py:5: SyntaxWarning: invalid escape sequence '\\m'\n",
      "  plt.xlabel(\"Time / $\\mu s$\", size=24)\n"
     ]
    }
   ],
   "source": [
    "plt.figure()\n",
    "plt.plot(rp_one_nuc_time[0, :] * 1e6, rp_one_nuc[0, :], \"r\")\n",
    "plt.plot(ms_one_nuc[\"Time(ns)\"] * 1e-3, ms_one_nuc[\"rpsystem.singlet\"], \"b--\")\n",
    "plt.plot(time, np.real(np.array(es_one_nuc)), \"g.--\")\n",
    "plt.xlabel(\"Time / $\\mu s$\", size=24)\n",
    "plt.ylabel(\"Singlet probability\", size=24)\n",
    "plt.legend([\"$RadicalPy$\", \"$MolSpin$\", \"$EasySpin$\"], fontsize=16, loc=\"lower center\", ncol=3)\n",
    "plt.ylim([0, 1])\n",
    "plt.xlim([0, 2.1])\n",
    "plt.tick_params(labelsize=18)\n",
    "plt.gcf().set_size_inches(10, 5)\n",
    "path = \"comparison\" + f\"_{0}.png\"\n",
    "plt.savefig(path, dpi=300, bbox_inches=\"tight\")\n",
    "plt.close()"
   ]
  },
  {
   "cell_type": "code",
   "execution_count": 115,
   "metadata": {},
   "outputs": [
    {
     "name": "stderr",
     "output_type": "stream",
     "text": [
      "<>:5: SyntaxWarning: invalid escape sequence '\\m'\n",
      "<>:5: SyntaxWarning: invalid escape sequence '\\m'\n",
      "C:\\Users\\chem-ptch0519\\AppData\\Local\\Temp\\ipykernel_22396\\3211912542.py:5: SyntaxWarning: invalid escape sequence '\\m'\n",
      "  plt.xlabel(\"Time / $\\mu s$\", size=24)\n"
     ]
    }
   ],
   "source": [
    "plt.figure()\n",
    "plt.plot(rp_two_nuc_time[0, :] * 1e6, rp_two_nuc[0, :], \"r-\")\n",
    "plt.plot(ms_two_nuc[\"Time(ns)\"] * 1e-3, ms_two_nuc[\"rpsystem.singlet\"], \"b--\")\n",
    "plt.plot(time, np.real(np.array(es_two_nuc)), \"g.--\")\n",
    "plt.xlabel(\"Time / $\\mu s$\", size=24)\n",
    "plt.ylabel(\"Singlet probability\", size=24)\n",
    "plt.legend([\"$RadicalPy$\", \"$MolSpin$\", \"$EasySpin$\"], fontsize=16, loc='lower center', ncol=3)\n",
    "plt.ylim([0, 1])\n",
    "plt.xlim([0, 2.1])\n",
    "plt.tick_params(labelsize=18)\n",
    "plt.gcf().set_size_inches(10, 5)\n",
    "path = \"comparison\" + f\"_{1}.png\"\n",
    "plt.savefig(path, dpi=300, bbox_inches=\"tight\")\n",
    "plt.close()"
   ]
  },
  {
   "cell_type": "code",
   "execution_count": null,
   "metadata": {},
   "outputs": [],
   "source": []
  }
 ],
 "metadata": {
  "kernelspec": {
   "display_name": "Python 3",
   "language": "python",
   "name": "python3"
  },
  "language_info": {
   "codemirror_mode": {
    "name": "ipython",
    "version": 3
   },
   "file_extension": ".py",
   "mimetype": "text/x-python",
   "name": "python",
   "nbconvert_exporter": "python",
   "pygments_lexer": "ipython3",
   "version": "3.12.0"
  }
 },
 "nbformat": 4,
 "nbformat_minor": 2
}
