{
 "cells": [
  {
   "cell_type": "code",
   "execution_count": 116,
   "metadata": {},
   "outputs": [],
   "source": [
    "import matplotlib.pyplot as plt\n",
    "from matplotlib.cm import get_cmap\n",
    "import numpy as np\n",
    "import pandas as pd\n",
    "import radicalpy as rp\n",
    "from pathlib import Path\n",
    "from radicalpy.plot import plot_3d_results, plot_bhalf_time, plot_general\n",
    "from radicalpy.utils import Bhalf_fit"
   ]
  },
  {
   "cell_type": "code",
   "execution_count": 117,
   "metadata": {},
   "outputs": [
    {
     "name": "stderr",
     "output_type": "stream",
     "text": [
      "<>:30: SyntaxWarning: invalid escape sequence '\\s'\n",
      "<>:31: SyntaxWarning: invalid escape sequence '\\s'\n",
      "<>:30: SyntaxWarning: invalid escape sequence '\\s'\n",
      "<>:31: SyntaxWarning: invalid escape sequence '\\s'\n",
      "C:\\Users\\chem-ptch0519\\AppData\\Local\\Temp\\ipykernel_12020\\3584021171.py:30: SyntaxWarning: invalid escape sequence '\\s'\n",
      "  ms_one_nuc = pd.read_csv('./data/software_comparison/staticSS-TimeEvolution_1nuc.dat', sep=\"\\s+\", usecols=['Time(ns)', 'rpsystem.singlet'])\n",
      "C:\\Users\\chem-ptch0519\\AppData\\Local\\Temp\\ipykernel_12020\\3584021171.py:31: SyntaxWarning: invalid escape sequence '\\s'\n",
      "  ms_two_nuc = pd.read_csv('./data/software_comparison/staticSS-TimeEvolution_2nuc.dat', sep=\"\\s+\", usecols=['Time(ns)', 'rpsystem.singlet'])\n"
     ]
    }
   ],
   "source": [
    "# RadicalPy\n",
    "path = \"./data/software_comparison/\"\n",
    "rp_one_nuc = np.array(\n",
    "        [\n",
    "            np.genfromtxt(file_path)\n",
    "            for file_path in Path(path).glob(\"timeevolution_yield.txt\")\n",
    "        ]\n",
    "    )\n",
    "rp_one_nuc_time = np.array(\n",
    "        [\n",
    "            np.genfromtxt(file_path)\n",
    "            for file_path in Path(path).glob(\"timeevolution_time.txt\")\n",
    "        ]\n",
    "    )\n",
    "rp_two_nuc = np.array(\n",
    "        [\n",
    "            np.genfromtxt(file_path)\n",
    "            for file_path in Path(path).glob(\"timeevolution_yield_2nuc.txt\")\n",
    "        ]\n",
    "    )\n",
    "rp_two_nuc_time = np.array(\n",
    "        [\n",
    "            np.genfromtxt(file_path)\n",
    "            for file_path in Path(path).glob(\"timeevolution_time_2nuc.txt\")\n",
    "        ]\n",
    "    )\n",
    "\n",
    "\n",
    "# MolSpin\n",
    "ms_one_nuc = pd.read_csv('./data/software_comparison/staticSS-TimeEvolution_1nuc.dat', sep=\"\\s+\", usecols=['Time(ns)', 'rpsystem.singlet'])\n",
    "ms_two_nuc = pd.read_csv('./data/software_comparison/staticSS-TimeEvolution_2nuc.dat', sep=\"\\s+\", usecols=['Time(ns)', 'rpsystem.singlet'])\n",
    "\n",
    "# EasySpin\n",
    "es_one_nuc = np.array(np.genfromtxt('./data/software_comparison/easyspin_1nuc.txt'))\n",
    "es_two_nuc = np.array(np.genfromtxt('./data/software_comparison/easyspin_2nuc.txt'))\n",
    "time = np.linspace(0, 3, len(es_one_nuc))"
   ]
  },
  {
   "cell_type": "code",
   "execution_count": 118,
   "metadata": {},
   "outputs": [
    {
     "name": "stderr",
     "output_type": "stream",
     "text": [
      "<>:4: SyntaxWarning: invalid escape sequence '\\m'\n",
      "<>:4: SyntaxWarning: invalid escape sequence '\\m'\n",
      "C:\\Users\\chem-ptch0519\\AppData\\Local\\Temp\\ipykernel_12020\\2054660172.py:4: SyntaxWarning: invalid escape sequence '\\m'\n",
      "  plt.xlabel(\"Time / $\\mu s$\", size=24)\n"
     ]
    }
   ],
   "source": [
    "plt.figure()\n",
    "plt.plot(rp_one_nuc_time[0, :] * 1e6, rp_one_nuc[0, :], \"r\", linewidth=3)\n",
    "plt.plot(ms_one_nuc[\"Time(ns)\"][0:-1] * 1e-3, ms_one_nuc[\"rpsystem.singlet\"][0:-1], \"b\", linestyle=(0, (5, 10)), linewidth=3)\n",
    "plt.xlabel(\"Time / $\\mu s$\", size=24)\n",
    "plt.ylabel(\"Singlet probability\", size=24)\n",
    "plt.legend([\"$RadicalPy$\", \"$MolSpin$\"], fontsize=16, loc=\"lower center\", ncol=3)\n",
    "plt.ylim([0, 1])\n",
    "plt.tick_params(labelsize=18)\n",
    "plt.gcf().set_size_inches(10, 5)\n",
    "path = \"comparison\" + f\"_{0}.png\"\n",
    "plt.savefig(path, dpi=300, bbox_inches=\"tight\")\n",
    "plt.close()"
   ]
  },
  {
   "cell_type": "code",
   "execution_count": 119,
   "metadata": {},
   "outputs": [
    {
     "name": "stderr",
     "output_type": "stream",
     "text": [
      "<>:4: SyntaxWarning: invalid escape sequence '\\m'\n",
      "<>:4: SyntaxWarning: invalid escape sequence '\\m'\n",
      "C:\\Users\\chem-ptch0519\\AppData\\Local\\Temp\\ipykernel_12020\\2761729514.py:4: SyntaxWarning: invalid escape sequence '\\m'\n",
      "  plt.xlabel(\"Time / $\\mu s$\", size=24)\n"
     ]
    }
   ],
   "source": [
    "plt.figure()\n",
    "plt.plot(rp_one_nuc_time[0, :] * 1e6, rp_one_nuc[0, :], \"r-\", linewidth=3)\n",
    "plt.plot(time[:-1], np.real(np.array(es_one_nuc[:-1])), \"g\", linestyle=(0, (5, 10)), linewidth=3)\n",
    "plt.xlabel(\"Time / $\\mu s$\", size=24)\n",
    "plt.ylabel(\"Singlet probability\", size=24)\n",
    "plt.legend([\"$RadicalPy$\", \"$EasySpin$\"], fontsize=16, loc=\"lower center\", ncol=3)\n",
    "plt.ylim([0, 1])\n",
    "plt.tick_params(labelsize=18)\n",
    "plt.gcf().set_size_inches(10, 5)\n",
    "path = \"comparison\" + f\"_{1}.png\"\n",
    "plt.savefig(path, dpi=300, bbox_inches=\"tight\")\n",
    "plt.close()"
   ]
  },
  {
   "cell_type": "code",
   "execution_count": 120,
   "metadata": {},
   "outputs": [
    {
     "name": "stderr",
     "output_type": "stream",
     "text": [
      "<>:4: SyntaxWarning: invalid escape sequence '\\m'\n",
      "<>:4: SyntaxWarning: invalid escape sequence '\\m'\n",
      "C:\\Users\\chem-ptch0519\\AppData\\Local\\Temp\\ipykernel_12020\\2759245717.py:4: SyntaxWarning: invalid escape sequence '\\m'\n",
      "  plt.xlabel(\"Time / $\\mu s$\", size=24)\n"
     ]
    }
   ],
   "source": [
    "plt.figure()\n",
    "plt.plot(rp_two_nuc_time[0, :] * 1e6, rp_two_nuc[0, :], \"r-\", linewidth=3)\n",
    "plt.plot(ms_two_nuc[\"Time(ns)\"][:-1] * 1e-3, ms_two_nuc[\"rpsystem.singlet\"][:-1], \"b\", linestyle=(0, (5, 10)), linewidth=3)\n",
    "plt.xlabel(\"Time / $\\mu s$\", size=24)\n",
    "plt.ylabel(\"Singlet probability\", size=24)\n",
    "plt.legend([\"$RadicalPy$\", \"$MolSpin$\"], fontsize=16, loc='lower center', ncol=3)\n",
    "plt.ylim([0, 1])\n",
    "plt.tick_params(labelsize=18)\n",
    "plt.gcf().set_size_inches(10, 5)\n",
    "path = \"comparison\" + f\"_{2}.png\"\n",
    "plt.savefig(path, dpi=300, bbox_inches=\"tight\")\n",
    "plt.close()"
   ]
  },
  {
   "cell_type": "code",
   "execution_count": 121,
   "metadata": {},
   "outputs": [
    {
     "name": "stderr",
     "output_type": "stream",
     "text": [
      "<>:4: SyntaxWarning: invalid escape sequence '\\m'\n",
      "<>:4: SyntaxWarning: invalid escape sequence '\\m'\n",
      "C:\\Users\\chem-ptch0519\\AppData\\Local\\Temp\\ipykernel_12020\\936486281.py:4: SyntaxWarning: invalid escape sequence '\\m'\n",
      "  plt.xlabel(\"Time / $\\mu s$\", size=24)\n"
     ]
    }
   ],
   "source": [
    "plt.figure()\n",
    "plt.plot(rp_two_nuc_time[0, :] * 1e6, rp_two_nuc[0, :], \"r-\", linewidth=3)\n",
    "plt.plot(time[:-1], np.real(np.array(es_two_nuc)[:-1]), \"g\", linestyle=(0, (5, 10)), linewidth=3)\n",
    "plt.xlabel(\"Time / $\\mu s$\", size=24)\n",
    "plt.ylabel(\"Singlet probability\", size=24)\n",
    "plt.legend([\"$RadicalPy$\", \"$EasySpin$\"], fontsize=16, loc='lower center', ncol=3)\n",
    "plt.ylim([0, 1])\n",
    "plt.tick_params(labelsize=18)\n",
    "plt.gcf().set_size_inches(10, 5)\n",
    "path = \"comparison\" + f\"_{3}.png\"\n",
    "plt.savefig(path, dpi=300, bbox_inches=\"tight\")\n",
    "plt.close()"
   ]
  },
  {
   "cell_type": "markdown",
   "metadata": {},
   "source": [
    "### MARY size"
   ]
  },
  {
   "cell_type": "code",
   "execution_count": 122,
   "metadata": {},
   "outputs": [],
   "source": [
    "spins_hilbert = [\"3\", \"4\", \"5\", \"6\", \"7\", \"8\"]\n",
    "hilbert = [0.047, 0.048, 0.065, 0.19, 0.847, 6.08]\n",
    "spins_liouville = [\"3\", \"4\", \"5\", \"6\", \"7\"]\n",
    "liouville = [0.019, 0.068, 0.54, 20.89, 908.59]\n",
    "semiclassical = 0.53"
   ]
  },
  {
   "cell_type": "code",
   "execution_count": 123,
   "metadata": {},
   "outputs": [
    {
     "name": "stderr",
     "output_type": "stream",
     "text": [
      "C:\\Users\\chem-ptch0519\\AppData\\Local\\Temp\\ipykernel_12020\\877667516.py:7: MatplotlibDeprecationWarning: The get_cmap function was deprecated in Matplotlib 3.7 and will be removed two minor releases later. Use ``matplotlib.colormaps[name]`` or ``matplotlib.colormaps.get_cmap(obj)`` instead.\n",
      "  cmap = get_cmap('viridis')\n"
     ]
    }
   ],
   "source": [
    "# scale data\n",
    "denominator = max(hilbert) - min(hilbert)\n",
    "scaled_data = [(datum-min(hilbert))/denominator for datum in hilbert]\n",
    "\n",
    "fig, ax = plt.subplots()\n",
    "colors = []\n",
    "cmap = get_cmap('viridis')\n",
    "for decimal in scaled_data:\n",
    "    colors.append(cmap(decimal))\n",
    "\n",
    "\n",
    "ax.bar(spins_hilbert, hilbert, color=colors)\n",
    "ax.set_ylabel(\"Seconds / iteration\", size=24)\n",
    "ax.set_xlabel(r\"$2^N \\times 2^N$ ($N$ spins)\", size=24)\n",
    "ax.set_yscale('log')\n",
    "plt.tick_params(labelsize=18)\n",
    "plt.gcf().set_size_inches(10, 5)\n",
    "path = \"comparison\" + f\"_{4}.png\"\n",
    "plt.savefig(path, dpi=300, bbox_inches=\"tight\")\n",
    "plt.close()"
   ]
  },
  {
   "cell_type": "code",
   "execution_count": 124,
   "metadata": {},
   "outputs": [
    {
     "name": "stderr",
     "output_type": "stream",
     "text": [
      "C:\\Users\\chem-ptch0519\\AppData\\Local\\Temp\\ipykernel_12020\\2377402712.py:7: MatplotlibDeprecationWarning: The get_cmap function was deprecated in Matplotlib 3.7 and will be removed two minor releases later. Use ``matplotlib.colormaps[name]`` or ``matplotlib.colormaps.get_cmap(obj)`` instead.\n",
      "  cmap = get_cmap('viridis')\n"
     ]
    }
   ],
   "source": [
    "# scale data\n",
    "denominator = max(liouville) - min(liouville)\n",
    "scaled_data = [(datum-min(liouville))/denominator for datum in liouville]\n",
    "\n",
    "fig, ax = plt.subplots()\n",
    "colors = []\n",
    "cmap = get_cmap('viridis')\n",
    "for decimal in scaled_data:\n",
    "    colors.append(cmap(decimal))\n",
    "\n",
    "\n",
    "ax.bar(spins_liouville, liouville, color=colors)\n",
    "# ax.plot(0, semiclassical, \"r*\", markersize=24)\n",
    "ax.axhline(semiclassical, color=\"r\", linestyle=\"dashed\")\n",
    "ax.annotate(\"New approach ($N=2$)\", \n",
    "            xy=(0, semiclassical), \n",
    "            fontsize=18, \n",
    "            xytext=(-0.5, semiclassical+4), \n",
    "            textcoords='data',\n",
    "            arrowprops=dict(facecolor='black', shrink=0.2),\n",
    "            horizontalalignment='left',\n",
    "            verticalalignment='bottom') \n",
    "ax.set_ylabel(\"Seconds / iteration\", size=24)\n",
    "ax.set_xlabel(r\"$(2^N)^2 \\times (2^N)^2$ ($N$ spins)\", size=24)\n",
    "ax.set_yscale('log')\n",
    "plt.tick_params(labelsize=18)\n",
    "plt.gcf().set_size_inches(10, 5)\n",
    "path = \"comparison\" + f\"_{5}.png\"\n",
    "plt.savefig(path, dpi=300, bbox_inches=\"tight\")\n",
    "plt.close()"
   ]
  },
  {
   "cell_type": "code",
   "execution_count": null,
   "metadata": {},
   "outputs": [],
   "source": []
  }
 ],
 "metadata": {
  "kernelspec": {
   "display_name": "Python 3",
   "language": "python",
   "name": "python3"
  },
  "language_info": {
   "codemirror_mode": {
    "name": "ipython",
    "version": 3
   },
   "file_extension": ".py",
   "mimetype": "text/x-python",
   "name": "python",
   "nbconvert_exporter": "python",
   "pygments_lexer": "ipython3",
   "version": "3.12.0"
  }
 },
 "nbformat": 4,
 "nbformat_minor": 2
}
