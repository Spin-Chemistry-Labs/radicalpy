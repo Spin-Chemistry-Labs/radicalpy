{
 "cells": [
  {
   "cell_type": "code",
   "execution_count": 123,
   "metadata": {},
   "outputs": [],
   "source": [
    "import matplotlib.pyplot as plt\n",
    "from matplotlib.cm import get_cmap\n",
    "import numpy as np\n",
    "import pandas as pd\n",
    "from pathlib import Path"
   ]
  },
  {
   "cell_type": "code",
   "execution_count": 124,
   "metadata": {},
   "outputs": [],
   "source": [
    "# RadicalPy\n",
    "path = \"./data/software_comparison/\"\n",
    "rp_one_nuc = np.array(\n",
    "        [\n",
    "            np.genfromtxt(file_path)\n",
    "            for file_path in Path(path).glob(\"timeevolution_yield.txt\")\n",
    "        ]\n",
    "    )\n",
    "rp_one_nuc_time = np.array(\n",
    "        [\n",
    "            np.genfromtxt(file_path)\n",
    "            for file_path in Path(path).glob(\"timeevolution_time.txt\")\n",
    "        ]\n",
    "    )\n",
    "rp_two_nuc = np.array(\n",
    "        [\n",
    "            np.genfromtxt(file_path)\n",
    "            for file_path in Path(path).glob(\"timeevolution_yield_2nuc.txt\")\n",
    "        ]\n",
    "    )\n",
    "rp_two_nuc_time = np.array(\n",
    "        [\n",
    "            np.genfromtxt(file_path)\n",
    "            for file_path in Path(path).glob(\"timeevolution_time_2nuc.txt\")\n",
    "        ]\n",
    "    )\n",
    "\n",
    "\n",
    "# MolSpin\n",
    "ms_one_nuc = pd.read_csv('./data/software_comparison/staticSS-TimeEvolution_1nuc.dat', sep=\"\\s+\", usecols=['Time(ns)', 'rpsystem.singlet'])\n",
    "ms_two_nuc = pd.read_csv('./data/software_comparison/staticSS-TimeEvolution_2nuc.dat', sep=\"\\s+\", usecols=['Time(ns)', 'rpsystem.singlet'])\n",
    "\n",
    "# EasySpin\n",
    "es_one_nuc = np.array(np.genfromtxt('./data/software_comparison/easyspin_1nuc.txt'))\n",
    "es_two_nuc = np.array(np.genfromtxt('./data/software_comparison/easyspin_2nuc.txt'))\n",
    "time = np.linspace(0, 3, len(es_one_nuc))"
   ]
  },
  {
   "cell_type": "code",
   "execution_count": 125,
   "metadata": {},
   "outputs": [],
   "source": [
    "plt.figure()\n",
    "plt.plot(rp_one_nuc_time[0, :] * 1e6, rp_one_nuc[0, :], \"r\", linewidth=3)\n",
    "plt.plot(ms_one_nuc[\"Time(ns)\"][0:-1] * 1e-3, ms_one_nuc[\"rpsystem.singlet\"][0:-1], \"b\", linestyle=(0, (5, 10)), linewidth=3)\n",
    "plt.xlabel(\"Time / $\\mu s$\", size=24)\n",
    "plt.ylabel(\"Singlet probability\", size=24)\n",
    "plt.legend([\"$RadicalPy$\", \"$MolSpin$\"], fontsize=16, loc=\"lower center\", ncol=3)\n",
    "plt.ylim([0, 1])\n",
    "plt.tick_params(labelsize=18)\n",
    "plt.gcf().set_size_inches(10, 5)\n",
    "path = \"comparison\" + f\"_{0}.png\"\n",
    "plt.savefig(path, dpi=300, bbox_inches=\"tight\")\n",
    "plt.close()"
   ]
  },
  {
   "cell_type": "code",
   "execution_count": 126,
   "metadata": {},
   "outputs": [],
   "source": [
    "plt.figure()\n",
    "plt.plot(rp_one_nuc_time[0, :] * 1e6, rp_one_nuc[0, :], \"r-\", linewidth=3)\n",
    "plt.plot(time[:-1], np.real(np.array(es_one_nuc[:-1])), \"g\", linestyle=(0, (5, 10)), linewidth=3)\n",
    "plt.xlabel(\"Time / $\\mu s$\", size=24)\n",
    "plt.ylabel(\"Singlet probability\", size=24)\n",
    "plt.legend([\"$RadicalPy$\", \"$EasySpin$\"], fontsize=16, loc=\"lower center\", ncol=3)\n",
    "plt.ylim([0, 1])\n",
    "plt.tick_params(labelsize=18)\n",
    "plt.gcf().set_size_inches(10, 5)\n",
    "path = \"comparison\" + f\"_{1}.png\"\n",
    "plt.savefig(path, dpi=300, bbox_inches=\"tight\")\n",
    "plt.close()"
   ]
  },
  {
   "cell_type": "code",
   "execution_count": 127,
   "metadata": {},
   "outputs": [],
   "source": [
    "plt.figure()\n",
    "plt.plot(rp_two_nuc_time[0, :] * 1e6, rp_two_nuc[0, :], \"r-\", linewidth=3)\n",
    "plt.plot(ms_two_nuc[\"Time(ns)\"][:-1] * 1e-3, ms_two_nuc[\"rpsystem.singlet\"][:-1], \"b\", linestyle=(0, (5, 10)), linewidth=3)\n",
    "plt.xlabel(\"Time / $\\mu s$\", size=24)\n",
    "plt.ylabel(\"Singlet probability\", size=24)\n",
    "plt.legend([\"$RadicalPy$\", \"$MolSpin$\"], fontsize=16, loc='lower center', ncol=3)\n",
    "plt.ylim([0, 1])\n",
    "plt.tick_params(labelsize=18)\n",
    "plt.gcf().set_size_inches(10, 5)\n",
    "path = \"comparison\" + f\"_{2}.png\"\n",
    "plt.savefig(path, dpi=300, bbox_inches=\"tight\")\n",
    "plt.close()"
   ]
  },
  {
   "cell_type": "code",
   "execution_count": 128,
   "metadata": {},
   "outputs": [],
   "source": [
    "plt.figure()\n",
    "plt.plot(rp_two_nuc_time[0, :] * 1e6, rp_two_nuc[0, :], \"r-\", linewidth=3)\n",
    "plt.plot(time[:-1], np.real(np.array(es_two_nuc)[:-1]), \"g\", linestyle=(0, (5, 10)), linewidth=3)\n",
    "plt.xlabel(\"Time / $\\mu s$\", size=24)\n",
    "plt.ylabel(\"Singlet probability\", size=24)\n",
    "plt.legend([\"$RadicalPy$\", \"$EasySpin$\"], fontsize=16, loc='lower center', ncol=3)\n",
    "plt.ylim([0, 1])\n",
    "plt.tick_params(labelsize=18)\n",
    "plt.gcf().set_size_inches(10, 5)\n",
    "path = \"comparison\" + f\"_{3}.png\"\n",
    "plt.savefig(path, dpi=300, bbox_inches=\"tight\")\n",
    "plt.close()"
   ]
  },
  {
   "cell_type": "code",
   "execution_count": 129,
   "metadata": {},
   "outputs": [],
   "source": [
    "ax = plt.figure()\n",
    "ax.patch.set_facecolor('white')\n",
    "plt.plot(rp_one_nuc_time[0, :199] * 1e6, rp_one_nuc[0, :199], \"r-\", linewidth=3)\n",
    "plt.plot(ms_one_nuc[\"Time(ns)\"][:198] * 1e-3, ms_one_nuc[\"rpsystem.singlet\"][:198], \"b\", linestyle=((0, (3, 10, 1, 10, 1, 10))), linewidth=3)\n",
    "plt.plot(time[:198], np.real(np.array(es_one_nuc[:198])), \"g\", linestyle=(0, (5, 10)), linewidth=3)\n",
    "plt.xlabel(\"Time / $\\mu s$\", size=24)\n",
    "plt.ylabel(\"Singlet probability\", size=24)\n",
    "plt.legend([\"$RadicalPy$\", \"$MolSpin$\", \"$EasySpin$\"], fontsize=16, loc=\"lower center\", ncol=3)\n",
    "plt.ylim([0, 1])\n",
    "plt.tick_params(labelsize=18)\n",
    "plt.gcf().set_size_inches(10, 5)\n",
    "path = \"comparison\" + f\"_{6}.png\"\n",
    "plt.savefig(path, dpi=300, bbox_inches=\"tight\")\n",
    "plt.close()"
   ]
  },
  {
   "cell_type": "code",
   "execution_count": 130,
   "metadata": {},
   "outputs": [],
   "source": [
    "ax = plt.figure()\n",
    "ax.patch.set_facecolor('white')\n",
    "plt.plot(rp_two_nuc_time[0, :199] * 1e6, rp_two_nuc[0, :199], \"r-\", linewidth=3)\n",
    "plt.plot(ms_two_nuc[\"Time(ns)\"][:198] * 1e-3, ms_two_nuc[\"rpsystem.singlet\"][:198], \"b\", linestyle=((0, (3, 10, 1, 10, 1, 10))), linewidth=3)\n",
    "plt.plot(time[:198], np.real(np.array(es_two_nuc[:198])), \"g\", linestyle=(0, (5, 10)), linewidth=3)\n",
    "plt.xlabel(\"Time / $\\mu s$\", size=24)\n",
    "plt.ylabel(\"Singlet probability\", size=24)\n",
    "plt.legend([\"$RadicalPy$\", \"$MolSpin$\", \"$EasySpin$\"], fontsize=16, loc=\"lower center\", ncol=3)\n",
    "plt.ylim([0, 1])\n",
    "plt.tick_params(labelsize=18)\n",
    "plt.gcf().set_size_inches(10, 5)\n",
    "path = \"comparison\" + f\"_{7}.png\"\n",
    "plt.savefig(path, dpi=300, bbox_inches=\"tight\")\n",
    "plt.close()"
   ]
  },
  {
   "cell_type": "markdown",
   "metadata": {},
   "source": [
    "### MARY size"
   ]
  },
  {
   "cell_type": "code",
   "execution_count": 357,
   "metadata": {},
   "outputs": [],
   "source": [
    "spins_hilbert = [\"3\", \"4\", \"5\", \"6\", \"7\"]#, \"8\"]\n",
    "hilbert = [0.047, 0.048, 0.065, 0.19, 0.847]#, 6.08]\n",
    "spins_liouville = [\"3\", \"4\", \"5\", \"6\", \"7\"]\n",
    "liouville = [0.019, 0.068, 0.54, 20.89, 908.59]\n",
    "semiclassical = 0.53"
   ]
  },
  {
   "cell_type": "code",
   "execution_count": 361,
   "metadata": {},
   "outputs": [
    {
     "name": "stderr",
     "output_type": "stream",
     "text": [
      "C:\\Users\\lewis\\AppData\\Local\\Temp\\ipykernel_15612\\2357155276.py:8: MatplotlibDeprecationWarning: The get_cmap function was deprecated in Matplotlib 3.7 and will be removed two minor releases later. Use ``matplotlib.colormaps[name]`` or ``matplotlib.colormaps.get_cmap(obj)`` instead.\n",
      "  cmap = get_cmap('viridis')\n"
     ]
    }
   ],
   "source": [
    "# scale data\n",
    "denominator = max(hilbert) - min(hilbert)\n",
    "scaled_data = [(datum-min(hilbert))/denominator for datum in hilbert]\n",
    "\n",
    "fig, ax = plt.subplots()\n",
    "ax.patch.set_facecolor('white')\n",
    "colors = []\n",
    "cmap = get_cmap('viridis')\n",
    "for decimal in scaled_data:\n",
    "    colors.append(cmap(decimal))\n",
    "\n",
    "\n",
    "ax.bar(spins_hilbert, hilbert, color=colors)\n",
    "ax.set_ylabel(\"Seconds / iteration\", size=24)\n",
    "ax.set_xlabel(r\"$2^N \\times 2^N$ ($N$ spins)\", size=24)\n",
    "ax.set_yscale('log')\n",
    "plt.tick_params(labelsize=18)\n",
    "plt.gcf().set_size_inches(10, 5)\n",
    "path = \"comparison\" + f\"_{4}.png\"\n",
    "plt.savefig(path, dpi=300, bbox_inches=\"tight\")\n",
    "plt.close()"
   ]
  },
  {
   "cell_type": "code",
   "execution_count": 362,
   "metadata": {},
   "outputs": [
    {
     "name": "stderr",
     "output_type": "stream",
     "text": [
      "C:\\Users\\lewis\\AppData\\Local\\Temp\\ipykernel_15612\\2157149891.py:8: MatplotlibDeprecationWarning: The get_cmap function was deprecated in Matplotlib 3.7 and will be removed two minor releases later. Use ``matplotlib.colormaps[name]`` or ``matplotlib.colormaps.get_cmap(obj)`` instead.\n",
      "  cmap = get_cmap('viridis')\n"
     ]
    }
   ],
   "source": [
    "# scale data\n",
    "denominator = max(liouville) - min(liouville)\n",
    "scaled_data = [(datum-min(liouville))/denominator for datum in liouville]\n",
    "\n",
    "fig, ax = plt.subplots()\n",
    "ax.patch.set_facecolor('white')\n",
    "colors = []\n",
    "cmap = get_cmap('viridis')\n",
    "for decimal in scaled_data:\n",
    "    colors.append(cmap(decimal))\n",
    "\n",
    "\n",
    "ax.bar(spins_liouville, liouville, color=colors)\n",
    "# ax.plot(0, semiclassical, \"r*\", markersize=24)\n",
    "ax.axhline(semiclassical, color=\"r\", linestyle=\"dashed\")\n",
    "ax.annotate(\"New approach ($N=2$)\", \n",
    "            xy=(0, semiclassical), \n",
    "            fontsize=18, \n",
    "            xytext=(-0.5, semiclassical+4), \n",
    "            textcoords='data',\n",
    "            arrowprops=dict(facecolor='black', shrink=0.2),\n",
    "            horizontalalignment='left',\n",
    "            verticalalignment='bottom') \n",
    "ax.set_ylabel(\"Seconds / iteration\", size=24)\n",
    "ax.set_xlabel(r\"$(2^N)^2 \\times (2^N)^2$ ($N$ spins)\", size=24)\n",
    "ax.set_yscale('log')\n",
    "plt.tick_params(labelsize=18)\n",
    "plt.gcf().set_size_inches(10, 5)\n",
    "path = \"comparison\" + f\"_{5}.png\"\n",
    "plt.savefig(path, dpi=300, bbox_inches=\"tight\")\n",
    "plt.close()"
   ]
  },
  {
   "cell_type": "code",
   "execution_count": 309,
   "metadata": {},
   "outputs": [
    {
     "name": "stderr",
     "output_type": "stream",
     "text": [
      "C:\\Users\\lewis\\AppData\\Local\\Temp\\ipykernel_15612\\369739269.py:5: RuntimeWarning: divide by zero encountered in true_divide\n",
      "  one_nuc_mary = one_nuc[\"MARY\"] / one_nuc[\"MARY\"].max()\n",
      "C:\\Users\\lewis\\AppData\\Local\\Temp\\ipykernel_15612\\369739269.py:5: RuntimeWarning: invalid value encountered in true_divide\n",
      "  one_nuc_mary = one_nuc[\"MARY\"] / one_nuc[\"MARY\"].max()\n"
     ]
    }
   ],
   "source": [
    "one_nuc = np.load(\n",
    "        \"./data/fad_mary/results_1nuc.npy\", allow_pickle=True\n",
    "    ).item()\n",
    "\n",
    "one_nuc_mary = one_nuc[\"MARY\"] / one_nuc[\"MARY\"].max()\n",
    "one_nuc_B = one_nuc[\"B\"]"
   ]
  },
  {
   "cell_type": "code",
   "execution_count": 310,
   "metadata": {},
   "outputs": [],
   "source": [
    "two_nuc = np.load(\n",
    "        \"./data/fad_mary/results_2nuc.npy\", allow_pickle=True\n",
    "    ).item()\n",
    "\n",
    "two_nuc_mary = two_nuc[\"MARY\"] / two_nuc[\"MARY\"].max()"
   ]
  },
  {
   "cell_type": "code",
   "execution_count": 311,
   "metadata": {},
   "outputs": [],
   "source": [
    "three_nuc = np.load(\n",
    "        \"./data/fad_mary/results_3nuc.npy\", allow_pickle=True\n",
    "    ).item()\n",
    "\n",
    "three_nuc_mary = three_nuc[\"MARY\"] / three_nuc[\"MARY\"].max()"
   ]
  },
  {
   "cell_type": "code",
   "execution_count": 312,
   "metadata": {},
   "outputs": [],
   "source": [
    "four_nuc = np.load(\n",
    "        \"./data/fad_mary/results_4nuc.npy\", allow_pickle=True\n",
    "    ).item()\n",
    "\n",
    "four_nuc_mary = four_nuc[\"MARY\"] / four_nuc[\"MARY\"].max()"
   ]
  },
  {
   "cell_type": "code",
   "execution_count": 313,
   "metadata": {},
   "outputs": [
    {
     "name": "stderr",
     "output_type": "stream",
     "text": [
      "C:\\Users\\lewis\\AppData\\Local\\Temp\\ipykernel_15612\\3517896710.py:5: RuntimeWarning: divide by zero encountered in true_divide\n",
      "  one_nuc_liouv_mary = one_nuc_liouv[\"MARY\"] / one_nuc_liouv[\"MARY\"].max()\n",
      "C:\\Users\\lewis\\AppData\\Local\\Temp\\ipykernel_15612\\3517896710.py:5: RuntimeWarning: invalid value encountered in true_divide\n",
      "  one_nuc_liouv_mary = one_nuc_liouv[\"MARY\"] / one_nuc_liouv[\"MARY\"].max()\n"
     ]
    }
   ],
   "source": [
    "one_nuc_liouv = np.load(\n",
    "        \"./data/fad_mary/results_1nuc_liouville.npy\", allow_pickle=True\n",
    "    ).item()\n",
    "\n",
    "one_nuc_liouv_mary = one_nuc_liouv[\"MARY\"] / one_nuc_liouv[\"MARY\"].max()"
   ]
  },
  {
   "cell_type": "code",
   "execution_count": 314,
   "metadata": {},
   "outputs": [],
   "source": [
    "two_nuc_liouv = np.load(\n",
    "        \"./data/fad_mary/results_2nuc_liouville.npy\", allow_pickle=True\n",
    "    ).item()\n",
    "\n",
    "two_nuc_liouv_mary = two_nuc_liouv[\"MARY\"] / two_nuc_liouv[\"MARY\"].max()"
   ]
  },
  {
   "cell_type": "code",
   "execution_count": 315,
   "metadata": {},
   "outputs": [],
   "source": [
    "three_nuc_liouv = np.load(\n",
    "        \"./data/fad_mary/results_3nuc_liouville.npy\", allow_pickle=True\n",
    "    ).item()\n",
    "\n",
    "three_nuc_liouv_mary = three_nuc_liouv[\"MARY\"] / three_nuc_liouv[\"MARY\"].max()"
   ]
  },
  {
   "cell_type": "code",
   "execution_count": 316,
   "metadata": {},
   "outputs": [],
   "source": [
    "four_nuc_liouv = np.load(\n",
    "        \"./data/fad_mary/results_4nuc_liouville.npy\", allow_pickle=True\n",
    "    ).item()\n",
    "\n",
    "four_nuc_liouv_mary = four_nuc_liouv[\"MARY\"] / four_nuc_liouv[\"MARY\"].max()"
   ]
  },
  {
   "cell_type": "code",
   "execution_count": 318,
   "metadata": {},
   "outputs": [],
   "source": [
    "data_field = np.array(np.genfromtxt('./data/fad_mary/data_field.txt'))\n",
    "data_mary = np.array(np.genfromtxt('./data/fad_mary/data_mary.txt'))\n",
    "data_mary /= data_mary.max()"
   ]
  },
  {
   "cell_type": "code",
   "execution_count": 330,
   "metadata": {},
   "outputs": [],
   "source": [
    "newapproach = np.load(\n",
    "        \"./data/fad_mary/results_new.npy\", allow_pickle=True\n",
    "    ).item()\n",
    "\n",
    "radical_pair_yield = (\n",
    "        newapproach[\"yield\"][:, 5, :]\n",
    "        + newapproach[\"yield\"][:, 10, :]\n",
    "        + newapproach[\"yield\"][:, 15, :]\n",
    "        + newapproach[\"yield\"][:, 20, :]\n",
    "    )\n",
    "triplet_yield = (\n",
    "        newapproach[\"yield\"][:, 2, :]\n",
    "        + newapproach[\"yield\"][:, 3, :]\n",
    "        + newapproach[\"yield\"][:, 4, :]\n",
    "    )\n",
    "\n",
    "time = newapproach[\"ts\"]\n",
    "Bs = newapproach[\"Bs\"]\n",
    "\n",
    "total_yield = np.zeros((len(time), len(Bs)), dtype=complex)\n",
    "zero_field = np.zeros((len(time), len(Bs)), dtype=complex)\n",
    "mary = np.zeros((len(time), len(Bs)), dtype=complex)\n",
    "\n",
    "total_yield = radical_pair_yield + (2 * triplet_yield)\n",
    "\n",
    "for i in range(0, len(Bs)):\n",
    "    zero_field[:, i] = total_yield[:, 0]\n",
    "\n",
    "newapproach_mary = np.real(((total_yield - zero_field) / zero_field) * 100) * 10\n",
    "t = 300\n",
    "newapproach_mary[t, :40] /= newapproach_mary[t, :40].max()"
   ]
  },
  {
   "cell_type": "code",
   "execution_count": 363,
   "metadata": {},
   "outputs": [],
   "source": [
    "ax = plt.figure()\n",
    "ax.patch.set_facecolor('white')\n",
    "plt.plot(one_nuc_B, one_nuc_mary, linewidth=2, alpha=0.5)\n",
    "plt.plot(one_nuc_B, two_nuc_mary, linewidth=2, alpha=0.5)\n",
    "plt.plot(one_nuc_B, three_nuc_mary, linewidth=2, alpha=0.5)\n",
    "plt.plot(one_nuc_B, four_nuc_mary, linewidth=2, alpha=0.5)\n",
    "plt.plot(one_nuc_B, one_nuc_liouv_mary, linewidth=2, alpha=0.5)\n",
    "plt.plot(one_nuc_B, two_nuc_liouv_mary, linewidth=2, alpha=0.5)\n",
    "plt.plot(one_nuc_B, three_nuc_liouv_mary, linewidth=2, alpha=0.5)\n",
    "plt.plot(one_nuc_B, four_nuc_liouv_mary, linewidth=2, alpha=0.5)\n",
    "plt.plot(Bs[:40], newapproach_mary[t, :40], \"k--\", linewidth=3)\n",
    "plt.plot(data_field, data_mary, \"ro\", markersize=12)\n",
    "plt.xlabel(\"$B_0$ / mT\", size=24)\n",
    "plt.ylabel(\"Normalised MFE / a.u.\", size=24)\n",
    "plt.legend([\"$N=3$ (Hilbert)\", \"$N=4$ (Hilbert)\", \"$N=5$ (Hilbert)\", \"$N=6$ (Hilbert)\", \n",
    "            \"$N=3$ (Liouville)\", \"$N=4$ (Liouville)\", \"$N=5$ (Liouville)\", \"$N=6$ (Liouville)\", \"New Approach\", \"Data\"], \n",
    "            fontsize=16, loc=\"center right\", bbox_to_anchor = (1.4, 0.5))#, ncol=3)\n",
    "plt.tick_params(labelsize=18)\n",
    "plt.gcf().set_size_inches(10, 5)\n",
    "path = \"comparison\" + f\"_{9}.png\"\n",
    "plt.savefig(path, dpi=300, bbox_inches=\"tight\")\n",
    "plt.close()"
   ]
  },
  {
   "cell_type": "code",
   "execution_count": null,
   "metadata": {},
   "outputs": [],
   "source": []
  },
  {
   "cell_type": "code",
   "execution_count": null,
   "metadata": {},
   "outputs": [],
   "source": [
    "\n"
   ]
  },
  {
   "cell_type": "code",
   "execution_count": null,
   "metadata": {},
   "outputs": [],
   "source": []
  }
 ],
 "metadata": {
  "kernelspec": {
   "display_name": "Python 3",
   "language": "python",
   "name": "python3"
  },
  "language_info": {
   "codemirror_mode": {
    "name": "ipython",
    "version": 3
   },
   "file_extension": ".py",
   "mimetype": "text/x-python",
   "name": "python",
   "nbconvert_exporter": "python",
   "pygments_lexer": "ipython3",
   "version": "3.10.2"
  }
 },
 "nbformat": 4,
 "nbformat_minor": 2
}
